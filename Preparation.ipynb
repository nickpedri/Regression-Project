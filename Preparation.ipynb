{
 "cells": [
  {
   "cell_type": "markdown",
   "id": "2bccfaad-212e-49c3-b83f-a6d6e353fb3a",
   "metadata": {},
   "source": [
    "# Preparation MVP"
   ]
  },
  {
   "cell_type": "code",
   "execution_count": 1,
   "id": "377dfc43-4412-4c48-a764-ed40a44ece0d",
   "metadata": {},
   "outputs": [],
   "source": [
    "import acquire as ac\n",
    "import prepare as prep\n",
    "\n",
    "import pandas as pd\n",
    "import numpy as np"
   ]
  },
  {
   "cell_type": "code",
   "execution_count": 2,
   "id": "56a142c0-0930-4485-9c6d-5230f6d6d13c",
   "metadata": {},
   "outputs": [],
   "source": [
    "zil = ac.zillow_data()"
   ]
  },
  {
   "cell_type": "code",
   "execution_count": 3,
   "id": "1813e515-fe8c-4833-b32d-4bb356d6a5f5",
   "metadata": {},
   "outputs": [],
   "source": [
    "rename = {'bedroomcnt': 'bedrooms',  # Create a dictionary for new column names\n",
    "              'bathroomcnt': 'bathrooms',\n",
    "              'calculatedfinishedsquarefeet': 'sq_ft',\n",
    "              'taxvaluedollarcnt': 'price'}\n",
    "zil = zil.rename(columns=rename)  # Rename colums using dictionary"
   ]
  },
  {
   "cell_type": "code",
   "execution_count": 4,
   "id": "8e71cfc9-5d3e-4624-a6d8-47fcc60a2e41",
   "metadata": {},
   "outputs": [
    {
     "data": {
      "text/plain": [
       "3.0     25015\n",
       "4.0     16582\n",
       "2.0      8739\n",
       "5.0      3974\n",
       "6.0       661\n",
       "1.0       587\n",
       "0.0       133\n",
       "7.0       111\n",
       "8.0        33\n",
       "9.0         8\n",
       "25.0        1\n",
       "10.0        1\n",
       "11.0        1\n",
       "Name: bedrooms, dtype: int64"
      ]
     },
     "execution_count": 4,
     "metadata": {},
     "output_type": "execute_result"
    }
   ],
   "source": [
    "zil.bedrooms.value_counts()"
   ]
  },
  {
   "cell_type": "code",
   "execution_count": 5,
   "id": "f1e6e292-32d2-4dce-88ab-83114998d243",
   "metadata": {},
   "outputs": [],
   "source": [
    "bed_bins = pd.cut(zil.bedrooms, bins=[-0.5,.5,1.5,2.5,3.5,4.5,5.5,1000], labels=['0', '1', '2', '3', '4', '5', '6+'])"
   ]
  },
  {
   "cell_type": "code",
   "execution_count": 6,
   "id": "2940af7a-2cc1-41de-95bc-497db2f605c3",
   "metadata": {},
   "outputs": [],
   "source": [
    "zil.bedrooms = bed_bins"
   ]
  },
  {
   "cell_type": "code",
   "execution_count": 7,
   "id": "7e092ade-6529-4539-80a3-12e00100fbe9",
   "metadata": {},
   "outputs": [
    {
     "data": {
      "text/plain": [
       "3     25015\n",
       "4     16582\n",
       "2      8739\n",
       "5      3974\n",
       "6+      816\n",
       "1       587\n",
       "0       133\n",
       "Name: bedrooms, dtype: int64"
      ]
     },
     "execution_count": 7,
     "metadata": {},
     "output_type": "execute_result"
    }
   ],
   "source": [
    "zil.bedrooms.value_counts()"
   ]
  },
  {
   "cell_type": "code",
   "execution_count": 8,
   "id": "ba3b9d8b-03f7-4887-a4d2-164880f845c8",
   "metadata": {},
   "outputs": [
    {
     "data": {
      "text/plain": [
       "2.0     24532\n",
       "3.0     11152\n",
       "1.0     10626\n",
       "2.5      3723\n",
       "4.0      2147\n",
       "1.5       793\n",
       "5.0       780\n",
       "3.5       736\n",
       "4.5       506\n",
       "6.0       303\n",
       "5.5       165\n",
       "0.0       140\n",
       "7.0       116\n",
       "8.0        37\n",
       "6.5        30\n",
       "9.0        26\n",
       "7.5        11\n",
       "10.0       11\n",
       "8.5         5\n",
       "11.0        3\n",
       "13.0        1\n",
       "9.5         1\n",
       "20.0        1\n",
       "19.5        1\n",
       "Name: bathrooms, dtype: int64"
      ]
     },
     "execution_count": 8,
     "metadata": {},
     "output_type": "execute_result"
    }
   ],
   "source": [
    "zil.bathrooms.value_counts()"
   ]
  },
  {
   "cell_type": "code",
   "execution_count": 9,
   "id": "f05247bf-8116-4967-bafa-b44e830a9f34",
   "metadata": {},
   "outputs": [
    {
     "data": {
      "text/plain": [
       "array(['2.0', '4.0', '2.0', ..., '3.0', '3.0', '2.0'], dtype=object)"
      ]
     },
     "execution_count": 9,
     "metadata": {},
     "output_type": "execute_result"
    }
   ],
   "source": [
    "np.where(zil.bathrooms > 6, '7+',zil.bathrooms.astype(str))"
   ]
  },
  {
   "cell_type": "code",
   "execution_count": 10,
   "id": "c6b8b804-e982-4a3f-a3de-954e971ff729",
   "metadata": {},
   "outputs": [],
   "source": [
    "trash = zil.copy()\n",
    "zil.bathrooms = np.where(zil.bathrooms > 5, '6+',zil.bathrooms.astype(str))"
   ]
  },
  {
   "cell_type": "code",
   "execution_count": 11,
   "id": "b7ff9a58-7afe-4024-9e84-1e8b92a7c119",
   "metadata": {},
   "outputs": [
    {
     "data": {
      "text/plain": [
       "2.0     24532\n",
       "3.0     11152\n",
       "1.0     10626\n",
       "2.5      3723\n",
       "4.0      2147\n",
       "1.5       793\n",
       "5.0       780\n",
       "3.5       736\n",
       "4.5       506\n",
       "6.0       303\n",
       "5.5       165\n",
       "0.0       140\n",
       "7.0       116\n",
       "8.0        37\n",
       "6.5        30\n",
       "9.0        26\n",
       "7.5        11\n",
       "10.0       11\n",
       "8.5         5\n",
       "11.0        3\n",
       "13.0        1\n",
       "9.5         1\n",
       "20.0        1\n",
       "19.5        1\n",
       "Name: bathrooms, dtype: int64"
      ]
     },
     "execution_count": 11,
     "metadata": {},
     "output_type": "execute_result"
    }
   ],
   "source": [
    "trash.bathrooms.value_counts()"
   ]
  },
  {
   "cell_type": "code",
   "execution_count": 12,
   "id": "b7442534-bec6-4a03-a06c-7eeea2f95b91",
   "metadata": {},
   "outputs": [
    {
     "data": {
      "text/html": [
       "<div>\n",
       "<style scoped>\n",
       "    .dataframe tbody tr th:only-of-type {\n",
       "        vertical-align: middle;\n",
       "    }\n",
       "\n",
       "    .dataframe tbody tr th {\n",
       "        vertical-align: top;\n",
       "    }\n",
       "\n",
       "    .dataframe thead th {\n",
       "        text-align: right;\n",
       "    }\n",
       "</style>\n",
       "<table border=\"1\" class=\"dataframe\">\n",
       "  <thead>\n",
       "    <tr style=\"text-align: right;\">\n",
       "      <th></th>\n",
       "      <th>bedrooms</th>\n",
       "      <th>bathrooms</th>\n",
       "      <th>sq_ft</th>\n",
       "      <th>price</th>\n",
       "    </tr>\n",
       "  </thead>\n",
       "  <tbody>\n",
       "    <tr>\n",
       "      <th>0</th>\n",
       "      <td>4</td>\n",
       "      <td>2.0</td>\n",
       "      <td>3633.0</td>\n",
       "      <td>296425.0</td>\n",
       "    </tr>\n",
       "    <tr>\n",
       "      <th>1</th>\n",
       "      <td>3</td>\n",
       "      <td>4.0</td>\n",
       "      <td>1620.0</td>\n",
       "      <td>847770.0</td>\n",
       "    </tr>\n",
       "    <tr>\n",
       "      <th>2</th>\n",
       "      <td>3</td>\n",
       "      <td>2.0</td>\n",
       "      <td>2077.0</td>\n",
       "      <td>646760.0</td>\n",
       "    </tr>\n",
       "    <tr>\n",
       "      <th>3</th>\n",
       "      <td>0</td>\n",
       "      <td>0.0</td>\n",
       "      <td>1200.0</td>\n",
       "      <td>5328.0</td>\n",
       "    </tr>\n",
       "    <tr>\n",
       "      <th>4</th>\n",
       "      <td>0</td>\n",
       "      <td>0.0</td>\n",
       "      <td>171.0</td>\n",
       "      <td>6920.0</td>\n",
       "    </tr>\n",
       "  </tbody>\n",
       "</table>\n",
       "</div>"
      ],
      "text/plain": [
       "  bedrooms bathrooms   sq_ft     price\n",
       "0        4       2.0  3633.0  296425.0\n",
       "1        3       4.0  1620.0  847770.0\n",
       "2        3       2.0  2077.0  646760.0\n",
       "3        0       0.0  1200.0    5328.0\n",
       "4        0       0.0   171.0    6920.0"
      ]
     },
     "execution_count": 12,
     "metadata": {},
     "output_type": "execute_result"
    }
   ],
   "source": [
    "zil.head()"
   ]
  },
  {
   "cell_type": "code",
   "execution_count": 13,
   "id": "5d02cba2-b955-4c88-9fc8-ca11940b39c9",
   "metadata": {},
   "outputs": [
    {
     "data": {
      "text/plain": [
       "3289     30166843.0\n",
       "10554    22843125.0\n",
       "24592    19129816.0\n",
       "13920    18782125.0\n",
       "35403    17170000.0\n",
       "35324    14721125.0\n",
       "7821     14563303.0\n",
       "13918    13243244.0\n",
       "46198    12698505.0\n",
       "25452    12228491.0\n",
       "20168    11962714.0\n",
       "24685    11904874.0\n",
       "31982    11689668.0\n",
       "29174    11517922.0\n",
       "21385    11378863.0\n",
       "13919    10904781.0\n",
       "30828    10358901.0\n",
       "9777     10000000.0\n",
       "44373     9841049.0\n",
       "3294      9496841.0\n",
       "Name: price, dtype: float64"
      ]
     },
     "execution_count": 13,
     "metadata": {},
     "output_type": "execute_result"
    }
   ],
   "source": [
    "zil.price.sort_values(ascending=False)[:20]"
   ]
  },
  {
   "cell_type": "code",
   "execution_count": 14,
   "id": "be9bd2a6-b1ba-4632-9c8d-d92522cda65c",
   "metadata": {},
   "outputs": [
    {
     "data": {
      "text/plain": [
       "0.9888264154997672"
      ]
     },
     "execution_count": 14,
     "metadata": {},
     "output_type": "execute_result"
    }
   ],
   "source": [
    "len(zil[zil.price < 2_500_000])/len(zil)"
   ]
  },
  {
   "cell_type": "code",
   "execution_count": 15,
   "id": "94ca760a-1203-4599-ac00-22845dc92dc7",
   "metadata": {},
   "outputs": [],
   "source": [
    "zil = ac.zillow_data()\n",
    "rename = {'bedroomcnt': 'bedrooms',  # Create a dictionary for new column names\n",
    "            'bathroomcnt': 'bathrooms',\n",
    "              'calculatedfinishedsquarefeet': 'sq_ft',\n",
    "              'taxvaluedollarcnt': 'price'}\n",
    "zil = zil.rename(columns=rename)  # Rename colums using dictionary"
   ]
  },
  {
   "cell_type": "code",
   "execution_count": 16,
   "id": "7bafbfc6-4288-4ff2-b0fe-c2b7ac6d4bf4",
   "metadata": {},
   "outputs": [],
   "source": [
    "zil = zil[zil.price < 2_500_000]"
   ]
  },
  {
   "cell_type": "code",
   "execution_count": 17,
   "id": "dd43d02e-88ea-449b-b99c-092b85246635",
   "metadata": {},
   "outputs": [],
   "source": [
    "zil = ac.zillow_data()\n",
    "zil = prep.prep_zillow(zil)"
   ]
  },
  {
   "cell_type": "code",
   "execution_count": 18,
   "id": "1dfc31c3-6671-46d4-9b95-5d834e0efb31",
   "metadata": {},
   "outputs": [
    {
     "data": {
      "text/html": [
       "<div>\n",
       "<style scoped>\n",
       "    .dataframe tbody tr th:only-of-type {\n",
       "        vertical-align: middle;\n",
       "    }\n",
       "\n",
       "    .dataframe tbody tr th {\n",
       "        vertical-align: top;\n",
       "    }\n",
       "\n",
       "    .dataframe thead th {\n",
       "        text-align: right;\n",
       "    }\n",
       "</style>\n",
       "<table border=\"1\" class=\"dataframe\">\n",
       "  <thead>\n",
       "    <tr style=\"text-align: right;\">\n",
       "      <th></th>\n",
       "      <th>bedrooms</th>\n",
       "      <th>bathrooms</th>\n",
       "      <th>sq_ft</th>\n",
       "      <th>price</th>\n",
       "    </tr>\n",
       "  </thead>\n",
       "  <tbody>\n",
       "    <tr>\n",
       "      <th>0</th>\n",
       "      <td>4</td>\n",
       "      <td>2.0</td>\n",
       "      <td>3633.0</td>\n",
       "      <td>296425.0</td>\n",
       "    </tr>\n",
       "    <tr>\n",
       "      <th>1</th>\n",
       "      <td>3</td>\n",
       "      <td>4.0</td>\n",
       "      <td>1620.0</td>\n",
       "      <td>847770.0</td>\n",
       "    </tr>\n",
       "    <tr>\n",
       "      <th>2</th>\n",
       "      <td>3</td>\n",
       "      <td>2.0</td>\n",
       "      <td>2077.0</td>\n",
       "      <td>646760.0</td>\n",
       "    </tr>\n",
       "    <tr>\n",
       "      <th>3</th>\n",
       "      <td>0</td>\n",
       "      <td>0.0</td>\n",
       "      <td>1200.0</td>\n",
       "      <td>5328.0</td>\n",
       "    </tr>\n",
       "    <tr>\n",
       "      <th>4</th>\n",
       "      <td>0</td>\n",
       "      <td>0.0</td>\n",
       "      <td>171.0</td>\n",
       "      <td>6920.0</td>\n",
       "    </tr>\n",
       "  </tbody>\n",
       "</table>\n",
       "</div>"
      ],
      "text/plain": [
       "   bedrooms  bathrooms   sq_ft     price\n",
       "0         4        2.0  3633.0  296425.0\n",
       "1         3        4.0  1620.0  847770.0\n",
       "2         3        2.0  2077.0  646760.0\n",
       "3         0        0.0  1200.0    5328.0\n",
       "4         0        0.0   171.0    6920.0"
      ]
     },
     "execution_count": 18,
     "metadata": {},
     "output_type": "execute_result"
    }
   ],
   "source": [
    "zil.head()"
   ]
  },
  {
   "cell_type": "code",
   "execution_count": 19,
   "id": "1887c8e5-604f-45a6-95ec-f98a51f847df",
   "metadata": {},
   "outputs": [],
   "source": [
    "zil, val, test = prep.train_val_test(zil)"
   ]
  },
  {
   "cell_type": "code",
   "execution_count": 20,
   "id": "fd16fe9d-02e8-4269-989c-a12563280b06",
   "metadata": {},
   "outputs": [
    {
     "data": {
      "text/plain": [
       "((39013, 4), (8360, 4), (8360, 4))"
      ]
     },
     "execution_count": 20,
     "metadata": {},
     "output_type": "execute_result"
    }
   ],
   "source": [
    "zil.shape, val.shape, test.shape"
   ]
  },
  {
   "cell_type": "markdown",
   "id": "e58413d9-0760-4965-b71e-1feafa2c9c58",
   "metadata": {},
   "source": [
    "# SECOND TRY"
   ]
  },
  {
   "cell_type": "code",
   "execution_count": 21,
   "id": "1b292c39-95bb-42ea-adcb-5b17f4c23d5f",
   "metadata": {},
   "outputs": [],
   "source": [
    "zil = ac.zillow_data(True)"
   ]
  },
  {
   "cell_type": "code",
   "execution_count": 22,
   "id": "71360a69-2575-4cf2-b5c4-250944c45c25",
   "metadata": {},
   "outputs": [],
   "source": [
    "zil = prep.prep_zillow(zil, mvp=False)"
   ]
  },
  {
   "cell_type": "code",
   "execution_count": 23,
   "id": "e93a6606-1310-4418-8559-a198b96a84d4",
   "metadata": {},
   "outputs": [],
   "source": [
    "zil.year = zil.year.astype(int)"
   ]
  },
  {
   "cell_type": "code",
   "execution_count": 24,
   "id": "b0941445-1ccd-44d9-917e-f8a5f1faa8a8",
   "metadata": {},
   "outputs": [
    {
     "data": {
      "text/plain": [
       "51502"
      ]
     },
     "execution_count": 24,
     "metadata": {},
     "output_type": "execute_result"
    }
   ],
   "source": [
    "len(zil)"
   ]
  },
  {
   "cell_type": "code",
   "execution_count": 25,
   "id": "3454db50-9dee-4de9-af07-aa9b47838dbf",
   "metadata": {},
   "outputs": [
    {
     "data": {
      "text/html": [
       "<div>\n",
       "<style scoped>\n",
       "    .dataframe tbody tr th:only-of-type {\n",
       "        vertical-align: middle;\n",
       "    }\n",
       "\n",
       "    .dataframe tbody tr th {\n",
       "        vertical-align: top;\n",
       "    }\n",
       "\n",
       "    .dataframe thead th {\n",
       "        text-align: right;\n",
       "    }\n",
       "</style>\n",
       "<table border=\"1\" class=\"dataframe\">\n",
       "  <thead>\n",
       "    <tr style=\"text-align: right;\">\n",
       "      <th></th>\n",
       "      <th>bedrooms</th>\n",
       "      <th>bathrooms</th>\n",
       "      <th>sq_ft</th>\n",
       "      <th>price</th>\n",
       "      <th>pools</th>\n",
       "      <th>garages</th>\n",
       "      <th>fireplaces</th>\n",
       "      <th>fips</th>\n",
       "      <th>year</th>\n",
       "      <th>lot_sq_ft</th>\n",
       "    </tr>\n",
       "  </thead>\n",
       "  <tbody>\n",
       "    <tr>\n",
       "      <th>4</th>\n",
       "      <td>4</td>\n",
       "      <td>2.0</td>\n",
       "      <td>3633.0</td>\n",
       "      <td>296425.0</td>\n",
       "      <td>0</td>\n",
       "      <td>0</td>\n",
       "      <td>0</td>\n",
       "      <td>Los Angeles County</td>\n",
       "      <td>2005</td>\n",
       "      <td>9826.0</td>\n",
       "    </tr>\n",
       "    <tr>\n",
       "      <th>7</th>\n",
       "      <td>3</td>\n",
       "      <td>2.0</td>\n",
       "      <td>2077.0</td>\n",
       "      <td>646760.0</td>\n",
       "      <td>0</td>\n",
       "      <td>0</td>\n",
       "      <td>0</td>\n",
       "      <td>Los Angeles County</td>\n",
       "      <td>1926</td>\n",
       "      <td>6490.0</td>\n",
       "    </tr>\n",
       "    <tr>\n",
       "      <th>11</th>\n",
       "      <td>0</td>\n",
       "      <td>0.0</td>\n",
       "      <td>1200.0</td>\n",
       "      <td>5328.0</td>\n",
       "      <td>0</td>\n",
       "      <td>0</td>\n",
       "      <td>0</td>\n",
       "      <td>Los Angeles County</td>\n",
       "      <td>1972</td>\n",
       "      <td>4054.0</td>\n",
       "    </tr>\n",
       "    <tr>\n",
       "      <th>14</th>\n",
       "      <td>0</td>\n",
       "      <td>0.0</td>\n",
       "      <td>171.0</td>\n",
       "      <td>6920.0</td>\n",
       "      <td>0</td>\n",
       "      <td>0</td>\n",
       "      <td>0</td>\n",
       "      <td>Los Angeles County</td>\n",
       "      <td>1973</td>\n",
       "      <td>13002.0</td>\n",
       "    </tr>\n",
       "    <tr>\n",
       "      <th>15</th>\n",
       "      <td>0</td>\n",
       "      <td>0.0</td>\n",
       "      <td>203.0</td>\n",
       "      <td>14166.0</td>\n",
       "      <td>0</td>\n",
       "      <td>0</td>\n",
       "      <td>0</td>\n",
       "      <td>Los Angeles County</td>\n",
       "      <td>1960</td>\n",
       "      <td>17359.0</td>\n",
       "    </tr>\n",
       "  </tbody>\n",
       "</table>\n",
       "</div>"
      ],
      "text/plain": [
       "    bedrooms  bathrooms   sq_ft     price  pools  garages  fireplaces  \\\n",
       "4          4        2.0  3633.0  296425.0      0        0           0   \n",
       "7          3        2.0  2077.0  646760.0      0        0           0   \n",
       "11         0        0.0  1200.0    5328.0      0        0           0   \n",
       "14         0        0.0   171.0    6920.0      0        0           0   \n",
       "15         0        0.0   203.0   14166.0      0        0           0   \n",
       "\n",
       "                  fips  year  lot_sq_ft  \n",
       "4   Los Angeles County  2005     9826.0  \n",
       "7   Los Angeles County  1926     6490.0  \n",
       "11  Los Angeles County  1972     4054.0  \n",
       "14  Los Angeles County  1973    13002.0  \n",
       "15  Los Angeles County  1960    17359.0  "
      ]
     },
     "execution_count": 25,
     "metadata": {},
     "output_type": "execute_result"
    }
   ],
   "source": [
    "zil.head()"
   ]
  },
  {
   "cell_type": "code",
   "execution_count": 26,
   "id": "06a5715f-0d48-40bb-be22-b308f589562c",
   "metadata": {},
   "outputs": [
    {
     "data": {
      "text/plain": [
       "3    23917\n",
       "4    15141\n",
       "2     8402\n",
       "5     3023\n",
       "1      500\n",
       "6      437\n",
       "0       82\n",
       "Name: bedrooms, dtype: int64"
      ]
     },
     "execution_count": 26,
     "metadata": {},
     "output_type": "execute_result"
    }
   ],
   "source": [
    "zil.bedrooms.value_counts()"
   ]
  },
  {
   "cell_type": "code",
   "execution_count": 27,
   "id": "549e32f9-550b-49ce-93c1-459b82ddb0a4",
   "metadata": {},
   "outputs": [
    {
     "data": {
      "text/plain": [
       "2.0    23735\n",
       "1.0    10330\n",
       "3.0    10194\n",
       "2.5     3578\n",
       "4.0     1578\n",
       "1.5      766\n",
       "3.5      594\n",
       "5.0      376\n",
       "4.5      262\n",
       "0.0       89\n",
       "Name: bathrooms, dtype: int64"
      ]
     },
     "execution_count": 27,
     "metadata": {},
     "output_type": "execute_result"
    }
   ],
   "source": [
    "zil.bathrooms.value_counts()"
   ]
  },
  {
   "cell_type": "code",
   "execution_count": 28,
   "id": "4ecd9db3-5a31-4386-8cf1-c0c5aff1badd",
   "metadata": {},
   "outputs": [],
   "source": [
    "train, val, test = prep.scale(zil, scaled_cols=['bedrooms', 'bathrooms', 'sq_ft'])"
   ]
  },
  {
   "cell_type": "code",
   "execution_count": 29,
   "id": "addb2ebd-e8c4-4c0b-a841-197d2684ce41",
   "metadata": {},
   "outputs": [
    {
     "data": {
      "text/html": [
       "<div>\n",
       "<style scoped>\n",
       "    .dataframe tbody tr th:only-of-type {\n",
       "        vertical-align: middle;\n",
       "    }\n",
       "\n",
       "    .dataframe tbody tr th {\n",
       "        vertical-align: top;\n",
       "    }\n",
       "\n",
       "    .dataframe thead th {\n",
       "        text-align: right;\n",
       "    }\n",
       "</style>\n",
       "<table border=\"1\" class=\"dataframe\">\n",
       "  <thead>\n",
       "    <tr style=\"text-align: right;\">\n",
       "      <th></th>\n",
       "      <th>bedrooms</th>\n",
       "      <th>bathrooms</th>\n",
       "      <th>sq_ft</th>\n",
       "      <th>price</th>\n",
       "      <th>pools</th>\n",
       "      <th>garages</th>\n",
       "      <th>fireplaces</th>\n",
       "      <th>fips</th>\n",
       "      <th>year</th>\n",
       "      <th>lot_sq_ft</th>\n",
       "    </tr>\n",
       "  </thead>\n",
       "  <tbody>\n",
       "    <tr>\n",
       "      <th>31158</th>\n",
       "      <td>0.666667</td>\n",
       "      <td>0.5</td>\n",
       "      <td>0.415455</td>\n",
       "      <td>657000.0</td>\n",
       "      <td>0</td>\n",
       "      <td>2</td>\n",
       "      <td>0</td>\n",
       "      <td>Orange County</td>\n",
       "      <td>1994</td>\n",
       "      <td>3150.0</td>\n",
       "    </tr>\n",
       "    <tr>\n",
       "      <th>26388</th>\n",
       "      <td>0.333333</td>\n",
       "      <td>0.2</td>\n",
       "      <td>0.224943</td>\n",
       "      <td>57857.0</td>\n",
       "      <td>0</td>\n",
       "      <td>0</td>\n",
       "      <td>0</td>\n",
       "      <td>Los Angeles County</td>\n",
       "      <td>1941</td>\n",
       "      <td>6854.0</td>\n",
       "    </tr>\n",
       "    <tr>\n",
       "      <th>26578</th>\n",
       "      <td>0.500000</td>\n",
       "      <td>0.6</td>\n",
       "      <td>0.580209</td>\n",
       "      <td>526693.0</td>\n",
       "      <td>1</td>\n",
       "      <td>0</td>\n",
       "      <td>0</td>\n",
       "      <td>Los Angeles County</td>\n",
       "      <td>1951</td>\n",
       "      <td>16045.0</td>\n",
       "    </tr>\n",
       "    <tr>\n",
       "      <th>27070</th>\n",
       "      <td>0.333333</td>\n",
       "      <td>0.2</td>\n",
       "      <td>0.229278</td>\n",
       "      <td>364079.0</td>\n",
       "      <td>0</td>\n",
       "      <td>0</td>\n",
       "      <td>0</td>\n",
       "      <td>Los Angeles County</td>\n",
       "      <td>1950</td>\n",
       "      <td>5283.0</td>\n",
       "    </tr>\n",
       "    <tr>\n",
       "      <th>11713</th>\n",
       "      <td>0.666667</td>\n",
       "      <td>0.6</td>\n",
       "      <td>0.530732</td>\n",
       "      <td>384807.0</td>\n",
       "      <td>0</td>\n",
       "      <td>0</td>\n",
       "      <td>0</td>\n",
       "      <td>Los Angeles County</td>\n",
       "      <td>1986</td>\n",
       "      <td>5148.0</td>\n",
       "    </tr>\n",
       "  </tbody>\n",
       "</table>\n",
       "</div>"
      ],
      "text/plain": [
       "       bedrooms  bathrooms     sq_ft     price  pools  garages  fireplaces  \\\n",
       "31158  0.666667        0.5  0.415455  657000.0      0        2           0   \n",
       "26388  0.333333        0.2  0.224943   57857.0      0        0           0   \n",
       "26578  0.500000        0.6  0.580209  526693.0      1        0           0   \n",
       "27070  0.333333        0.2  0.229278  364079.0      0        0           0   \n",
       "11713  0.666667        0.6  0.530732  384807.0      0        0           0   \n",
       "\n",
       "                     fips  year  lot_sq_ft  \n",
       "31158       Orange County  1994     3150.0  \n",
       "26388  Los Angeles County  1941     6854.0  \n",
       "26578  Los Angeles County  1951    16045.0  \n",
       "27070  Los Angeles County  1950     5283.0  \n",
       "11713  Los Angeles County  1986     5148.0  "
      ]
     },
     "execution_count": 29,
     "metadata": {},
     "output_type": "execute_result"
    }
   ],
   "source": [
    "train.head()"
   ]
  },
  {
   "cell_type": "markdown",
   "id": "178b0190-922a-4563-ad5c-44426a0059d4",
   "metadata": {},
   "source": [
    "# Advanced Prepare"
   ]
  },
  {
   "cell_type": "code",
   "execution_count": 30,
   "id": "e0b329e3-8e2d-465e-b26d-743f91e0571b",
   "metadata": {},
   "outputs": [],
   "source": [
    "zil = ac.zillow_data(True)"
   ]
  },
  {
   "cell_type": "code",
   "execution_count": 31,
   "id": "a1722725-e878-46ba-a9fb-9fe43d7b90bc",
   "metadata": {},
   "outputs": [
    {
     "data": {
      "text/plain": [
       "bedroomcnt                          0\n",
       "bathroomcnt                         0\n",
       "calculatedfinishedsquarefeet      231\n",
       "taxvaluedollarcnt                   8\n",
       "poolcnt                         45128\n",
       "garagecarcnt                    37832\n",
       "fireplacecnt                    48448\n",
       "fips                                0\n",
       "yearbuilt                         249\n",
       "lotsizesquarefeet                 350\n",
       "dtype: int64"
      ]
     },
     "execution_count": 31,
     "metadata": {},
     "output_type": "execute_result"
    }
   ],
   "source": [
    "zil.isna().sum()"
   ]
  },
  {
   "cell_type": "code",
   "execution_count": 32,
   "id": "030da8db-74cf-4be7-84da-20588e230d5a",
   "metadata": {},
   "outputs": [
    {
     "data": {
      "text/html": [
       "<div>\n",
       "<style scoped>\n",
       "    .dataframe tbody tr th:only-of-type {\n",
       "        vertical-align: middle;\n",
       "    }\n",
       "\n",
       "    .dataframe tbody tr th {\n",
       "        vertical-align: top;\n",
       "    }\n",
       "\n",
       "    .dataframe thead th {\n",
       "        text-align: right;\n",
       "    }\n",
       "</style>\n",
       "<table border=\"1\" class=\"dataframe\">\n",
       "  <thead>\n",
       "    <tr style=\"text-align: right;\">\n",
       "      <th></th>\n",
       "      <th>bedroomcnt</th>\n",
       "      <th>bathroomcnt</th>\n",
       "      <th>calculatedfinishedsquarefeet</th>\n",
       "      <th>taxvaluedollarcnt</th>\n",
       "      <th>poolcnt</th>\n",
       "      <th>garagecarcnt</th>\n",
       "      <th>fireplacecnt</th>\n",
       "      <th>fips</th>\n",
       "      <th>yearbuilt</th>\n",
       "      <th>lotsizesquarefeet</th>\n",
       "    </tr>\n",
       "  </thead>\n",
       "  <tbody>\n",
       "    <tr>\n",
       "      <th>0</th>\n",
       "      <td>0.0</td>\n",
       "      <td>0.0</td>\n",
       "      <td>NaN</td>\n",
       "      <td>27516.0</td>\n",
       "      <td>NaN</td>\n",
       "      <td>NaN</td>\n",
       "      <td>NaN</td>\n",
       "      <td>6037.0</td>\n",
       "      <td>NaN</td>\n",
       "      <td>4083.0</td>\n",
       "    </tr>\n",
       "    <tr>\n",
       "      <th>1</th>\n",
       "      <td>0.0</td>\n",
       "      <td>0.0</td>\n",
       "      <td>NaN</td>\n",
       "      <td>10.0</td>\n",
       "      <td>NaN</td>\n",
       "      <td>NaN</td>\n",
       "      <td>NaN</td>\n",
       "      <td>6037.0</td>\n",
       "      <td>NaN</td>\n",
       "      <td>11975.0</td>\n",
       "    </tr>\n",
       "    <tr>\n",
       "      <th>2</th>\n",
       "      <td>0.0</td>\n",
       "      <td>0.0</td>\n",
       "      <td>NaN</td>\n",
       "      <td>10.0</td>\n",
       "      <td>NaN</td>\n",
       "      <td>NaN</td>\n",
       "      <td>NaN</td>\n",
       "      <td>6037.0</td>\n",
       "      <td>NaN</td>\n",
       "      <td>9403.0</td>\n",
       "    </tr>\n",
       "    <tr>\n",
       "      <th>3</th>\n",
       "      <td>0.0</td>\n",
       "      <td>0.0</td>\n",
       "      <td>NaN</td>\n",
       "      <td>2108.0</td>\n",
       "      <td>NaN</td>\n",
       "      <td>NaN</td>\n",
       "      <td>NaN</td>\n",
       "      <td>6037.0</td>\n",
       "      <td>NaN</td>\n",
       "      <td>3817.0</td>\n",
       "    </tr>\n",
       "    <tr>\n",
       "      <th>4</th>\n",
       "      <td>4.0</td>\n",
       "      <td>2.0</td>\n",
       "      <td>3633.0</td>\n",
       "      <td>296425.0</td>\n",
       "      <td>NaN</td>\n",
       "      <td>NaN</td>\n",
       "      <td>NaN</td>\n",
       "      <td>6037.0</td>\n",
       "      <td>2005.0</td>\n",
       "      <td>9826.0</td>\n",
       "    </tr>\n",
       "  </tbody>\n",
       "</table>\n",
       "</div>"
      ],
      "text/plain": [
       "   bedroomcnt  bathroomcnt  calculatedfinishedsquarefeet  taxvaluedollarcnt  \\\n",
       "0         0.0          0.0                           NaN            27516.0   \n",
       "1         0.0          0.0                           NaN               10.0   \n",
       "2         0.0          0.0                           NaN               10.0   \n",
       "3         0.0          0.0                           NaN             2108.0   \n",
       "4         4.0          2.0                        3633.0           296425.0   \n",
       "\n",
       "   poolcnt  garagecarcnt  fireplacecnt    fips  yearbuilt  lotsizesquarefeet  \n",
       "0      NaN           NaN           NaN  6037.0        NaN             4083.0  \n",
       "1      NaN           NaN           NaN  6037.0        NaN            11975.0  \n",
       "2      NaN           NaN           NaN  6037.0        NaN             9403.0  \n",
       "3      NaN           NaN           NaN  6037.0        NaN             3817.0  \n",
       "4      NaN           NaN           NaN  6037.0     2005.0             9826.0  "
      ]
     },
     "execution_count": 32,
     "metadata": {},
     "output_type": "execute_result"
    }
   ],
   "source": [
    "zil.head()"
   ]
  },
  {
   "cell_type": "code",
   "execution_count": 33,
   "id": "e25df93a-a5cf-40f2-9979-047677501dcd",
   "metadata": {},
   "outputs": [],
   "source": [
    "from sklearn.impute import SimpleImputer\n"
   ]
  },
  {
   "cell_type": "code",
   "execution_count": 34,
   "id": "2d1d4700-297b-4c9a-a57a-f1c6b7168e7c",
   "metadata": {},
   "outputs": [],
   "source": [
    "imputer = SimpleImputer(strategy='constant', fill_value=0)\n",
    "imputer.fit(zil[['poolcnt']])\n",
    "zil['poolcnt'] = imputer.transform(zil[['poolcnt']])"
   ]
  },
  {
   "cell_type": "code",
   "execution_count": 35,
   "id": "1e5dd75f-e3f0-4631-9666-b7b6546e1c59",
   "metadata": {},
   "outputs": [
    {
     "data": {
      "text/html": [
       "<div>\n",
       "<style scoped>\n",
       "    .dataframe tbody tr th:only-of-type {\n",
       "        vertical-align: middle;\n",
       "    }\n",
       "\n",
       "    .dataframe tbody tr th {\n",
       "        vertical-align: top;\n",
       "    }\n",
       "\n",
       "    .dataframe thead th {\n",
       "        text-align: right;\n",
       "    }\n",
       "</style>\n",
       "<table border=\"1\" class=\"dataframe\">\n",
       "  <thead>\n",
       "    <tr style=\"text-align: right;\">\n",
       "      <th></th>\n",
       "      <th>bedroomcnt</th>\n",
       "      <th>bathroomcnt</th>\n",
       "      <th>calculatedfinishedsquarefeet</th>\n",
       "      <th>taxvaluedollarcnt</th>\n",
       "      <th>poolcnt</th>\n",
       "      <th>garagecarcnt</th>\n",
       "      <th>fireplacecnt</th>\n",
       "      <th>fips</th>\n",
       "      <th>yearbuilt</th>\n",
       "      <th>lotsizesquarefeet</th>\n",
       "    </tr>\n",
       "  </thead>\n",
       "  <tbody>\n",
       "    <tr>\n",
       "      <th>0</th>\n",
       "      <td>0.0</td>\n",
       "      <td>0.0</td>\n",
       "      <td>NaN</td>\n",
       "      <td>27516.0</td>\n",
       "      <td>0.0</td>\n",
       "      <td>NaN</td>\n",
       "      <td>NaN</td>\n",
       "      <td>6037.0</td>\n",
       "      <td>NaN</td>\n",
       "      <td>4083.0</td>\n",
       "    </tr>\n",
       "    <tr>\n",
       "      <th>1</th>\n",
       "      <td>0.0</td>\n",
       "      <td>0.0</td>\n",
       "      <td>NaN</td>\n",
       "      <td>10.0</td>\n",
       "      <td>0.0</td>\n",
       "      <td>NaN</td>\n",
       "      <td>NaN</td>\n",
       "      <td>6037.0</td>\n",
       "      <td>NaN</td>\n",
       "      <td>11975.0</td>\n",
       "    </tr>\n",
       "    <tr>\n",
       "      <th>2</th>\n",
       "      <td>0.0</td>\n",
       "      <td>0.0</td>\n",
       "      <td>NaN</td>\n",
       "      <td>10.0</td>\n",
       "      <td>0.0</td>\n",
       "      <td>NaN</td>\n",
       "      <td>NaN</td>\n",
       "      <td>6037.0</td>\n",
       "      <td>NaN</td>\n",
       "      <td>9403.0</td>\n",
       "    </tr>\n",
       "    <tr>\n",
       "      <th>3</th>\n",
       "      <td>0.0</td>\n",
       "      <td>0.0</td>\n",
       "      <td>NaN</td>\n",
       "      <td>2108.0</td>\n",
       "      <td>0.0</td>\n",
       "      <td>NaN</td>\n",
       "      <td>NaN</td>\n",
       "      <td>6037.0</td>\n",
       "      <td>NaN</td>\n",
       "      <td>3817.0</td>\n",
       "    </tr>\n",
       "    <tr>\n",
       "      <th>4</th>\n",
       "      <td>4.0</td>\n",
       "      <td>2.0</td>\n",
       "      <td>3633.0</td>\n",
       "      <td>296425.0</td>\n",
       "      <td>0.0</td>\n",
       "      <td>NaN</td>\n",
       "      <td>NaN</td>\n",
       "      <td>6037.0</td>\n",
       "      <td>2005.0</td>\n",
       "      <td>9826.0</td>\n",
       "    </tr>\n",
       "  </tbody>\n",
       "</table>\n",
       "</div>"
      ],
      "text/plain": [
       "   bedroomcnt  bathroomcnt  calculatedfinishedsquarefeet  taxvaluedollarcnt  \\\n",
       "0         0.0          0.0                           NaN            27516.0   \n",
       "1         0.0          0.0                           NaN               10.0   \n",
       "2         0.0          0.0                           NaN               10.0   \n",
       "3         0.0          0.0                           NaN             2108.0   \n",
       "4         4.0          2.0                        3633.0           296425.0   \n",
       "\n",
       "   poolcnt  garagecarcnt  fireplacecnt    fips  yearbuilt  lotsizesquarefeet  \n",
       "0      0.0           NaN           NaN  6037.0        NaN             4083.0  \n",
       "1      0.0           NaN           NaN  6037.0        NaN            11975.0  \n",
       "2      0.0           NaN           NaN  6037.0        NaN             9403.0  \n",
       "3      0.0           NaN           NaN  6037.0        NaN             3817.0  \n",
       "4      0.0           NaN           NaN  6037.0     2005.0             9826.0  "
      ]
     },
     "execution_count": 35,
     "metadata": {},
     "output_type": "execute_result"
    }
   ],
   "source": [
    "zil.head()"
   ]
  },
  {
   "cell_type": "code",
   "execution_count": 36,
   "id": "df7d4dfa-4e46-48ec-a209-ba2bc2927f00",
   "metadata": {},
   "outputs": [],
   "source": [
    "imputer.fit(zil[['garagecarcnt']])\n",
    "zil['garagecarcnt'] = imputer.transform(zil[['garagecarcnt']])"
   ]
  },
  {
   "cell_type": "code",
   "execution_count": 37,
   "id": "2ae20174-b7db-42c1-86de-8be270d46281",
   "metadata": {},
   "outputs": [],
   "source": [
    "imputer.fit(zil[['fireplacecnt']])\n",
    "zil['fireplacecnt'] = imputer.transform(zil[['fireplacecnt']])"
   ]
  },
  {
   "cell_type": "code",
   "execution_count": 38,
   "id": "5d3180ad-0b37-45f6-8cfe-ee58d99407d2",
   "metadata": {},
   "outputs": [
    {
     "data": {
      "text/html": [
       "<div>\n",
       "<style scoped>\n",
       "    .dataframe tbody tr th:only-of-type {\n",
       "        vertical-align: middle;\n",
       "    }\n",
       "\n",
       "    .dataframe tbody tr th {\n",
       "        vertical-align: top;\n",
       "    }\n",
       "\n",
       "    .dataframe thead th {\n",
       "        text-align: right;\n",
       "    }\n",
       "</style>\n",
       "<table border=\"1\" class=\"dataframe\">\n",
       "  <thead>\n",
       "    <tr style=\"text-align: right;\">\n",
       "      <th></th>\n",
       "      <th>bedroomcnt</th>\n",
       "      <th>bathroomcnt</th>\n",
       "      <th>calculatedfinishedsquarefeet</th>\n",
       "      <th>taxvaluedollarcnt</th>\n",
       "      <th>poolcnt</th>\n",
       "      <th>garagecarcnt</th>\n",
       "      <th>fireplacecnt</th>\n",
       "      <th>fips</th>\n",
       "      <th>yearbuilt</th>\n",
       "      <th>lotsizesquarefeet</th>\n",
       "    </tr>\n",
       "  </thead>\n",
       "  <tbody>\n",
       "    <tr>\n",
       "      <th>0</th>\n",
       "      <td>0.0</td>\n",
       "      <td>0.0</td>\n",
       "      <td>NaN</td>\n",
       "      <td>27516.0</td>\n",
       "      <td>0.0</td>\n",
       "      <td>0.0</td>\n",
       "      <td>0.0</td>\n",
       "      <td>6037.0</td>\n",
       "      <td>NaN</td>\n",
       "      <td>4083.0</td>\n",
       "    </tr>\n",
       "    <tr>\n",
       "      <th>1</th>\n",
       "      <td>0.0</td>\n",
       "      <td>0.0</td>\n",
       "      <td>NaN</td>\n",
       "      <td>10.0</td>\n",
       "      <td>0.0</td>\n",
       "      <td>0.0</td>\n",
       "      <td>0.0</td>\n",
       "      <td>6037.0</td>\n",
       "      <td>NaN</td>\n",
       "      <td>11975.0</td>\n",
       "    </tr>\n",
       "    <tr>\n",
       "      <th>2</th>\n",
       "      <td>0.0</td>\n",
       "      <td>0.0</td>\n",
       "      <td>NaN</td>\n",
       "      <td>10.0</td>\n",
       "      <td>0.0</td>\n",
       "      <td>0.0</td>\n",
       "      <td>0.0</td>\n",
       "      <td>6037.0</td>\n",
       "      <td>NaN</td>\n",
       "      <td>9403.0</td>\n",
       "    </tr>\n",
       "    <tr>\n",
       "      <th>3</th>\n",
       "      <td>0.0</td>\n",
       "      <td>0.0</td>\n",
       "      <td>NaN</td>\n",
       "      <td>2108.0</td>\n",
       "      <td>0.0</td>\n",
       "      <td>0.0</td>\n",
       "      <td>0.0</td>\n",
       "      <td>6037.0</td>\n",
       "      <td>NaN</td>\n",
       "      <td>3817.0</td>\n",
       "    </tr>\n",
       "    <tr>\n",
       "      <th>4</th>\n",
       "      <td>4.0</td>\n",
       "      <td>2.0</td>\n",
       "      <td>3633.0</td>\n",
       "      <td>296425.0</td>\n",
       "      <td>0.0</td>\n",
       "      <td>0.0</td>\n",
       "      <td>0.0</td>\n",
       "      <td>6037.0</td>\n",
       "      <td>2005.0</td>\n",
       "      <td>9826.0</td>\n",
       "    </tr>\n",
       "  </tbody>\n",
       "</table>\n",
       "</div>"
      ],
      "text/plain": [
       "   bedroomcnt  bathroomcnt  calculatedfinishedsquarefeet  taxvaluedollarcnt  \\\n",
       "0         0.0          0.0                           NaN            27516.0   \n",
       "1         0.0          0.0                           NaN               10.0   \n",
       "2         0.0          0.0                           NaN               10.0   \n",
       "3         0.0          0.0                           NaN             2108.0   \n",
       "4         4.0          2.0                        3633.0           296425.0   \n",
       "\n",
       "   poolcnt  garagecarcnt  fireplacecnt    fips  yearbuilt  lotsizesquarefeet  \n",
       "0      0.0           0.0           0.0  6037.0        NaN             4083.0  \n",
       "1      0.0           0.0           0.0  6037.0        NaN            11975.0  \n",
       "2      0.0           0.0           0.0  6037.0        NaN             9403.0  \n",
       "3      0.0           0.0           0.0  6037.0        NaN             3817.0  \n",
       "4      0.0           0.0           0.0  6037.0     2005.0             9826.0  "
      ]
     },
     "execution_count": 38,
     "metadata": {},
     "output_type": "execute_result"
    }
   ],
   "source": [
    "zil.head()"
   ]
  },
  {
   "cell_type": "code",
   "execution_count": 39,
   "id": "8e8f81ae-0592-475c-8d16-3133158bf451",
   "metadata": {},
   "outputs": [
    {
     "data": {
      "text/plain": [
       "bedroomcnt                        0\n",
       "bathroomcnt                       0\n",
       "calculatedfinishedsquarefeet    231\n",
       "taxvaluedollarcnt                 8\n",
       "poolcnt                           0\n",
       "garagecarcnt                      0\n",
       "fireplacecnt                      0\n",
       "fips                              0\n",
       "yearbuilt                       249\n",
       "lotsizesquarefeet               350\n",
       "dtype: int64"
      ]
     },
     "execution_count": 39,
     "metadata": {},
     "output_type": "execute_result"
    }
   ],
   "source": [
    "zil.isna().sum()"
   ]
  },
  {
   "cell_type": "code",
   "execution_count": 40,
   "id": "eeae5a7f-8574-4500-9bfe-3cb9fbf73bd7",
   "metadata": {},
   "outputs": [],
   "source": [
    "zil = zil.dropna()"
   ]
  },
  {
   "cell_type": "code",
   "execution_count": 41,
   "id": "f4896068-5e26-42ff-8d39-03a6e7b4c28a",
   "metadata": {},
   "outputs": [
    {
     "data": {
      "text/plain": [
       "bedroomcnt                      0\n",
       "bathroomcnt                     0\n",
       "calculatedfinishedsquarefeet    0\n",
       "taxvaluedollarcnt               0\n",
       "poolcnt                         0\n",
       "garagecarcnt                    0\n",
       "fireplacecnt                    0\n",
       "fips                            0\n",
       "yearbuilt                       0\n",
       "lotsizesquarefeet               0\n",
       "dtype: int64"
      ]
     },
     "execution_count": 41,
     "metadata": {},
     "output_type": "execute_result"
    }
   ],
   "source": [
    "zil.isna().sum()"
   ]
  },
  {
   "cell_type": "code",
   "execution_count": 42,
   "id": "db7f3588-ade6-4320-a113-d158f5b8a73a",
   "metadata": {},
   "outputs": [
    {
     "data": {
      "text/plain": [
       "55508"
      ]
     },
     "execution_count": 42,
     "metadata": {},
     "output_type": "execute_result"
    }
   ],
   "source": [
    "len(zil)"
   ]
  },
  {
   "cell_type": "code",
   "execution_count": 43,
   "id": "847a8198-c701-4162-bd1d-e2554bc65ac6",
   "metadata": {},
   "outputs": [
    {
     "data": {
      "text/html": [
       "<div>\n",
       "<style scoped>\n",
       "    .dataframe tbody tr th:only-of-type {\n",
       "        vertical-align: middle;\n",
       "    }\n",
       "\n",
       "    .dataframe tbody tr th {\n",
       "        vertical-align: top;\n",
       "    }\n",
       "\n",
       "    .dataframe thead th {\n",
       "        text-align: right;\n",
       "    }\n",
       "</style>\n",
       "<table border=\"1\" class=\"dataframe\">\n",
       "  <thead>\n",
       "    <tr style=\"text-align: right;\">\n",
       "      <th></th>\n",
       "      <th>bedroomcnt</th>\n",
       "      <th>bathroomcnt</th>\n",
       "      <th>calculatedfinishedsquarefeet</th>\n",
       "      <th>taxvaluedollarcnt</th>\n",
       "      <th>poolcnt</th>\n",
       "      <th>garagecarcnt</th>\n",
       "      <th>fireplacecnt</th>\n",
       "      <th>fips</th>\n",
       "      <th>yearbuilt</th>\n",
       "      <th>lotsizesquarefeet</th>\n",
       "    </tr>\n",
       "  </thead>\n",
       "  <tbody>\n",
       "    <tr>\n",
       "      <th>4</th>\n",
       "      <td>4.0</td>\n",
       "      <td>2.0</td>\n",
       "      <td>3633.0</td>\n",
       "      <td>296425.0</td>\n",
       "      <td>0.0</td>\n",
       "      <td>0.0</td>\n",
       "      <td>0.0</td>\n",
       "      <td>6037.0</td>\n",
       "      <td>2005.0</td>\n",
       "      <td>9826.0</td>\n",
       "    </tr>\n",
       "    <tr>\n",
       "      <th>7</th>\n",
       "      <td>3.0</td>\n",
       "      <td>2.0</td>\n",
       "      <td>2077.0</td>\n",
       "      <td>646760.0</td>\n",
       "      <td>0.0</td>\n",
       "      <td>0.0</td>\n",
       "      <td>0.0</td>\n",
       "      <td>6037.0</td>\n",
       "      <td>1926.0</td>\n",
       "      <td>6490.0</td>\n",
       "    </tr>\n",
       "    <tr>\n",
       "      <th>11</th>\n",
       "      <td>0.0</td>\n",
       "      <td>0.0</td>\n",
       "      <td>1200.0</td>\n",
       "      <td>5328.0</td>\n",
       "      <td>0.0</td>\n",
       "      <td>0.0</td>\n",
       "      <td>0.0</td>\n",
       "      <td>6037.0</td>\n",
       "      <td>1972.0</td>\n",
       "      <td>4054.0</td>\n",
       "    </tr>\n",
       "    <tr>\n",
       "      <th>14</th>\n",
       "      <td>0.0</td>\n",
       "      <td>0.0</td>\n",
       "      <td>171.0</td>\n",
       "      <td>6920.0</td>\n",
       "      <td>0.0</td>\n",
       "      <td>0.0</td>\n",
       "      <td>0.0</td>\n",
       "      <td>6037.0</td>\n",
       "      <td>1973.0</td>\n",
       "      <td>13002.0</td>\n",
       "    </tr>\n",
       "    <tr>\n",
       "      <th>15</th>\n",
       "      <td>0.0</td>\n",
       "      <td>0.0</td>\n",
       "      <td>203.0</td>\n",
       "      <td>14166.0</td>\n",
       "      <td>0.0</td>\n",
       "      <td>0.0</td>\n",
       "      <td>0.0</td>\n",
       "      <td>6037.0</td>\n",
       "      <td>1960.0</td>\n",
       "      <td>17359.0</td>\n",
       "    </tr>\n",
       "  </tbody>\n",
       "</table>\n",
       "</div>"
      ],
      "text/plain": [
       "    bedroomcnt  bathroomcnt  calculatedfinishedsquarefeet  taxvaluedollarcnt  \\\n",
       "4          4.0          2.0                        3633.0           296425.0   \n",
       "7          3.0          2.0                        2077.0           646760.0   \n",
       "11         0.0          0.0                        1200.0             5328.0   \n",
       "14         0.0          0.0                         171.0             6920.0   \n",
       "15         0.0          0.0                         203.0            14166.0   \n",
       "\n",
       "    poolcnt  garagecarcnt  fireplacecnt    fips  yearbuilt  lotsizesquarefeet  \n",
       "4       0.0           0.0           0.0  6037.0     2005.0             9826.0  \n",
       "7       0.0           0.0           0.0  6037.0     1926.0             6490.0  \n",
       "11      0.0           0.0           0.0  6037.0     1972.0             4054.0  \n",
       "14      0.0           0.0           0.0  6037.0     1973.0            13002.0  \n",
       "15      0.0           0.0           0.0  6037.0     1960.0            17359.0  "
      ]
     },
     "execution_count": 43,
     "metadata": {},
     "output_type": "execute_result"
    }
   ],
   "source": [
    "zil.head()"
   ]
  },
  {
   "cell_type": "code",
   "execution_count": 44,
   "id": "364b2509-3239-450e-90fd-125b323ae017",
   "metadata": {},
   "outputs": [
    {
     "data": {
      "text/plain": [
       "Index(['bedroomcnt', 'bathroomcnt', 'calculatedfinishedsquarefeet',\n",
       "       'taxvaluedollarcnt', 'poolcnt', 'garagecarcnt', 'fireplacecnt', 'fips',\n",
       "       'yearbuilt', 'lotsizesquarefeet'],\n",
       "      dtype='object')"
      ]
     },
     "execution_count": 44,
     "metadata": {},
     "output_type": "execute_result"
    }
   ],
   "source": [
    "zil.columns"
   ]
  },
  {
   "cell_type": "code",
   "execution_count": 45,
   "id": "cb003026-3b38-4202-8c23-64ed28538deb",
   "metadata": {},
   "outputs": [],
   "source": [
    "rename = {'bedroomcnt':'bedrooms', 'bathroomcnt':'bathrooms', 'calculatedfinishedsquarefeet':'sq_ft', 'poolcnt':'pools', \n",
    " 'garagecarcnt':'garages', 'fireplacecnt':'fireplaces','yearbuilt':'year', 'lotsizesquarefeet':'lot_sq_ft',\n",
    "          'taxvaluedollarcnt':'price'}\n",
    "\n",
    "zil = zil.rename(columns=rename)"
   ]
  },
  {
   "cell_type": "code",
   "execution_count": 46,
   "id": "2d7a6fcf-8a6e-410e-a8e3-146cd4e6ebda",
   "metadata": {},
   "outputs": [
    {
     "data": {
      "text/html": [
       "<div>\n",
       "<style scoped>\n",
       "    .dataframe tbody tr th:only-of-type {\n",
       "        vertical-align: middle;\n",
       "    }\n",
       "\n",
       "    .dataframe tbody tr th {\n",
       "        vertical-align: top;\n",
       "    }\n",
       "\n",
       "    .dataframe thead th {\n",
       "        text-align: right;\n",
       "    }\n",
       "</style>\n",
       "<table border=\"1\" class=\"dataframe\">\n",
       "  <thead>\n",
       "    <tr style=\"text-align: right;\">\n",
       "      <th></th>\n",
       "      <th>bedrooms</th>\n",
       "      <th>bathrooms</th>\n",
       "      <th>sq_ft</th>\n",
       "      <th>price</th>\n",
       "      <th>pools</th>\n",
       "      <th>garages</th>\n",
       "      <th>fireplaces</th>\n",
       "      <th>fips</th>\n",
       "      <th>year</th>\n",
       "      <th>lot_sq_ft</th>\n",
       "    </tr>\n",
       "  </thead>\n",
       "  <tbody>\n",
       "    <tr>\n",
       "      <th>4</th>\n",
       "      <td>4.0</td>\n",
       "      <td>2.0</td>\n",
       "      <td>3633.0</td>\n",
       "      <td>296425.0</td>\n",
       "      <td>0.0</td>\n",
       "      <td>0.0</td>\n",
       "      <td>0.0</td>\n",
       "      <td>6037.0</td>\n",
       "      <td>2005.0</td>\n",
       "      <td>9826.0</td>\n",
       "    </tr>\n",
       "    <tr>\n",
       "      <th>7</th>\n",
       "      <td>3.0</td>\n",
       "      <td>2.0</td>\n",
       "      <td>2077.0</td>\n",
       "      <td>646760.0</td>\n",
       "      <td>0.0</td>\n",
       "      <td>0.0</td>\n",
       "      <td>0.0</td>\n",
       "      <td>6037.0</td>\n",
       "      <td>1926.0</td>\n",
       "      <td>6490.0</td>\n",
       "    </tr>\n",
       "    <tr>\n",
       "      <th>11</th>\n",
       "      <td>0.0</td>\n",
       "      <td>0.0</td>\n",
       "      <td>1200.0</td>\n",
       "      <td>5328.0</td>\n",
       "      <td>0.0</td>\n",
       "      <td>0.0</td>\n",
       "      <td>0.0</td>\n",
       "      <td>6037.0</td>\n",
       "      <td>1972.0</td>\n",
       "      <td>4054.0</td>\n",
       "    </tr>\n",
       "    <tr>\n",
       "      <th>14</th>\n",
       "      <td>0.0</td>\n",
       "      <td>0.0</td>\n",
       "      <td>171.0</td>\n",
       "      <td>6920.0</td>\n",
       "      <td>0.0</td>\n",
       "      <td>0.0</td>\n",
       "      <td>0.0</td>\n",
       "      <td>6037.0</td>\n",
       "      <td>1973.0</td>\n",
       "      <td>13002.0</td>\n",
       "    </tr>\n",
       "    <tr>\n",
       "      <th>15</th>\n",
       "      <td>0.0</td>\n",
       "      <td>0.0</td>\n",
       "      <td>203.0</td>\n",
       "      <td>14166.0</td>\n",
       "      <td>0.0</td>\n",
       "      <td>0.0</td>\n",
       "      <td>0.0</td>\n",
       "      <td>6037.0</td>\n",
       "      <td>1960.0</td>\n",
       "      <td>17359.0</td>\n",
       "    </tr>\n",
       "  </tbody>\n",
       "</table>\n",
       "</div>"
      ],
      "text/plain": [
       "    bedrooms  bathrooms   sq_ft     price  pools  garages  fireplaces    fips  \\\n",
       "4        4.0        2.0  3633.0  296425.0    0.0      0.0         0.0  6037.0   \n",
       "7        3.0        2.0  2077.0  646760.0    0.0      0.0         0.0  6037.0   \n",
       "11       0.0        0.0  1200.0    5328.0    0.0      0.0         0.0  6037.0   \n",
       "14       0.0        0.0   171.0    6920.0    0.0      0.0         0.0  6037.0   \n",
       "15       0.0        0.0   203.0   14166.0    0.0      0.0         0.0  6037.0   \n",
       "\n",
       "      year  lot_sq_ft  \n",
       "4   2005.0     9826.0  \n",
       "7   1926.0     6490.0  \n",
       "11  1972.0     4054.0  \n",
       "14  1973.0    13002.0  \n",
       "15  1960.0    17359.0  "
      ]
     },
     "execution_count": 46,
     "metadata": {},
     "output_type": "execute_result"
    }
   ],
   "source": [
    "zil.head()"
   ]
  },
  {
   "cell_type": "code",
   "execution_count": 47,
   "id": "1fba70d9-da7a-455a-89d0-5be14f5f6d2b",
   "metadata": {},
   "outputs": [],
   "source": [
    "def percent(df, num, col=''):\n",
    "    print(f'{round(len(df[df[col] < num])/len(df),4)*100}%')"
   ]
  },
  {
   "cell_type": "code",
   "execution_count": 48,
   "id": "55eb84e7-90ff-489c-86da-df22c833210a",
   "metadata": {},
   "outputs": [
    {
     "data": {
      "text/plain": [
       "2.0     24454\n",
       "3.0     11057\n",
       "1.0     10566\n",
       "2.5      3716\n",
       "4.0      2102\n",
       "1.5       791\n",
       "5.0       762\n",
       "3.5       729\n",
       "4.5       506\n",
       "6.0       293\n",
       "5.5       164\n",
       "0.0       132\n",
       "7.0       112\n",
       "8.0        36\n",
       "6.5        30\n",
       "9.0        25\n",
       "7.5        11\n",
       "10.0       11\n",
       "8.5         4\n",
       "11.0        3\n",
       "13.0        1\n",
       "9.5         1\n",
       "20.0        1\n",
       "19.5        1\n",
       "Name: bathrooms, dtype: int64"
      ]
     },
     "execution_count": 48,
     "metadata": {},
     "output_type": "execute_result"
    }
   ],
   "source": [
    "zil.bathrooms.value_counts()"
   ]
  },
  {
   "cell_type": "code",
   "execution_count": 49,
   "id": "f9517d22-ec7d-4424-a0d8-e17c1cc14b6d",
   "metadata": {},
   "outputs": [
    {
     "name": "stdout",
     "output_type": "stream",
     "text": [
      "97.38%\n"
     ]
    }
   ],
   "source": [
    "percent(zil, 5, 'bathrooms' )"
   ]
  },
  {
   "cell_type": "code",
   "execution_count": 50,
   "id": "25c496fa-9ec3-4b00-9229-a6151b849f76",
   "metadata": {},
   "outputs": [],
   "source": [
    "new_baths = np.where(zil.bathrooms >= 5, 5, zil.bathrooms)\n",
    "zil.bathrooms = new_baths"
   ]
  },
  {
   "cell_type": "code",
   "execution_count": 51,
   "id": "b78736d3-9626-4b34-8397-26f73408a890",
   "metadata": {},
   "outputs": [
    {
     "data": {
      "text/plain": [
       "2.0    24454\n",
       "3.0    11057\n",
       "1.0    10566\n",
       "2.5     3716\n",
       "4.0     2102\n",
       "5.0     1455\n",
       "1.5      791\n",
       "3.5      729\n",
       "4.5      506\n",
       "0.0      132\n",
       "Name: bathrooms, dtype: int64"
      ]
     },
     "execution_count": 51,
     "metadata": {},
     "output_type": "execute_result"
    }
   ],
   "source": [
    "zil.bathrooms.value_counts()"
   ]
  },
  {
   "cell_type": "code",
   "execution_count": 52,
   "id": "fceff68e-2a05-46e6-818e-bdba05904fdf",
   "metadata": {},
   "outputs": [],
   "source": [
    "bed_bins = pd.cut(zil.bedrooms, bins=[-0.5, .5, 1.5, 2.5, 3.5, 4.5, 5.5, 10000],\n",
    "                          labels=[0, 1, 2, 3, 4, 5, 6])\n",
    "zil.bedrooms = bed_bins.astype(int)"
   ]
  },
  {
   "cell_type": "code",
   "execution_count": 53,
   "id": "cce9c7f6-b9f3-411f-994b-57fe684440f9",
   "metadata": {},
   "outputs": [
    {
     "name": "stdout",
     "output_type": "stream",
     "text": [
      "91.45%\n"
     ]
    }
   ],
   "source": [
    "percent(zil, 5, 'bedrooms' )"
   ]
  },
  {
   "cell_type": "code",
   "execution_count": 54,
   "id": "0567e16c-641a-46af-bfec-4b349d9827b9",
   "metadata": {},
   "outputs": [
    {
     "data": {
      "text/plain": [
       "3    24909\n",
       "4    16494\n",
       "2     8673\n",
       "5     3945\n",
       "6      799\n",
       "1      566\n",
       "0      122\n",
       "Name: bedrooms, dtype: int64"
      ]
     },
     "execution_count": 54,
     "metadata": {},
     "output_type": "execute_result"
    }
   ],
   "source": [
    "zil.bedrooms.value_counts()"
   ]
  },
  {
   "cell_type": "code",
   "execution_count": 55,
   "id": "adb1cd22-0520-4a7f-b61e-c67558abd2d4",
   "metadata": {},
   "outputs": [
    {
     "name": "stdout",
     "output_type": "stream",
     "text": [
      "96.91%\n"
     ]
    }
   ],
   "source": [
    "percent(zil, 4_000, 'sq_ft' )"
   ]
  },
  {
   "cell_type": "code",
   "execution_count": 56,
   "id": "3a3fa7e1-fb64-4766-97e2-2c39b569e149",
   "metadata": {},
   "outputs": [],
   "source": [
    "zil = zil[zil.sq_ft < 4_000]"
   ]
  },
  {
   "cell_type": "code",
   "execution_count": 57,
   "id": "0b264a49-8f05-44d5-9f88-c03494ad2064",
   "metadata": {},
   "outputs": [
    {
     "name": "stdout",
     "output_type": "stream",
     "text": [
      "100.0%\n"
     ]
    }
   ],
   "source": [
    "percent(zil, 4_000, 'sq_ft' )"
   ]
  },
  {
   "cell_type": "code",
   "execution_count": 58,
   "id": "cc58873f-d6a4-4ea6-804c-645d0443588b",
   "metadata": {},
   "outputs": [
    {
     "data": {
      "text/plain": [
       "0.0    43984\n",
       "1.0     9807\n",
       "Name: pools, dtype: int64"
      ]
     },
     "execution_count": 58,
     "metadata": {},
     "output_type": "execute_result"
    }
   ],
   "source": [
    "zil.pools.value_counts()"
   ]
  },
  {
   "cell_type": "code",
   "execution_count": 59,
   "id": "77a990bf-83be-4ee7-b3b1-779c21f6abe9",
   "metadata": {},
   "outputs": [],
   "source": [
    "zil.pools = zil.pools.astype(int)"
   ]
  },
  {
   "cell_type": "code",
   "execution_count": 60,
   "id": "84348930-57b4-4b6c-a6ed-cd7238208ee0",
   "metadata": {},
   "outputs": [
    {
     "data": {
      "text/plain": [
       "0    43984\n",
       "1     9807\n",
       "Name: pools, dtype: int64"
      ]
     },
     "execution_count": 60,
     "metadata": {},
     "output_type": "execute_result"
    }
   ],
   "source": [
    "zil.pools.value_counts()"
   ]
  },
  {
   "cell_type": "code",
   "execution_count": 61,
   "id": "d538878d-7333-4dac-94af-7e7e0bdf0b85",
   "metadata": {},
   "outputs": [
    {
     "data": {
      "text/plain": [
       "0.0    36327\n",
       "2.0    14512\n",
       "1.0     2478\n",
       "3.0      355\n",
       "4.0       85\n",
       "5.0       26\n",
       "6.0        6\n",
       "7.0        1\n",
       "8.0        1\n",
       "Name: garages, dtype: int64"
      ]
     },
     "execution_count": 61,
     "metadata": {},
     "output_type": "execute_result"
    }
   ],
   "source": [
    "zil.garages.value_counts()"
   ]
  },
  {
   "cell_type": "code",
   "execution_count": 62,
   "id": "535a7ceb-8469-469a-bc63-c9565b182646",
   "metadata": {},
   "outputs": [],
   "source": [
    "zil.garages = zil.garages.astype(int)"
   ]
  },
  {
   "cell_type": "code",
   "execution_count": 63,
   "id": "2f35fac5-f92b-4b83-a916-d70c8af1030b",
   "metadata": {},
   "outputs": [
    {
     "name": "stdout",
     "output_type": "stream",
     "text": [
      "99.11999999999999%\n"
     ]
    }
   ],
   "source": [
    "percent(zil, 3, 'garages' )"
   ]
  },
  {
   "cell_type": "code",
   "execution_count": 64,
   "id": "146e95b3-fba6-4242-b811-4be65d95f36a",
   "metadata": {},
   "outputs": [],
   "source": [
    "new_garages = np.where(zil.garages >= 3, 3, zil.garages)\n",
    "zil.garages = new_garages"
   ]
  },
  {
   "cell_type": "code",
   "execution_count": 65,
   "id": "4e0050c7-ddee-4f95-bc69-4cf15df157e9",
   "metadata": {},
   "outputs": [
    {
     "name": "stdout",
     "output_type": "stream",
     "text": [
      "100.0%\n"
     ]
    }
   ],
   "source": [
    "percent(zil, 4, 'garages' )"
   ]
  },
  {
   "cell_type": "code",
   "execution_count": 66,
   "id": "404d7411-163a-4c0a-9204-ecb827804094",
   "metadata": {},
   "outputs": [
    {
     "data": {
      "text/plain": [
       "0    36327\n",
       "2    14512\n",
       "1     2478\n",
       "3      474\n",
       "Name: garages, dtype: int64"
      ]
     },
     "execution_count": 66,
     "metadata": {},
     "output_type": "execute_result"
    }
   ],
   "source": [
    "zil.garages.value_counts()"
   ]
  },
  {
   "cell_type": "code",
   "execution_count": 67,
   "id": "fd5aa3fa-9613-4c89-8db4-06ab5be4b359",
   "metadata": {},
   "outputs": [
    {
     "data": {
      "text/plain": [
       "0.0    46399\n",
       "1.0     6449\n",
       "2.0      807\n",
       "3.0      131\n",
       "4.0        4\n",
       "5.0        1\n",
       "Name: fireplaces, dtype: int64"
      ]
     },
     "execution_count": 67,
     "metadata": {},
     "output_type": "execute_result"
    }
   ],
   "source": [
    "zil.fireplaces.value_counts()"
   ]
  },
  {
   "cell_type": "code",
   "execution_count": 68,
   "id": "1111381b-b0f2-4290-b0fc-5cccbe85680a",
   "metadata": {},
   "outputs": [],
   "source": [
    "zil.fireplaces = zil.fireplaces.astype(int)"
   ]
  },
  {
   "cell_type": "code",
   "execution_count": 69,
   "id": "b17df3c3-dcaf-4a77-9e28-c909dbc09421",
   "metadata": {},
   "outputs": [
    {
     "data": {
      "text/plain": [
       "0    46399\n",
       "1     6449\n",
       "2      807\n",
       "3      131\n",
       "4        4\n",
       "5        1\n",
       "Name: fireplaces, dtype: int64"
      ]
     },
     "execution_count": 69,
     "metadata": {},
     "output_type": "execute_result"
    }
   ],
   "source": [
    "zil.fireplaces.value_counts()"
   ]
  },
  {
   "cell_type": "code",
   "execution_count": 70,
   "id": "35f9a3a5-3521-49bf-9f5c-e624fbfcd620",
   "metadata": {},
   "outputs": [],
   "source": [
    "new_fireplaces = np.where(zil.fireplaces >= 3, 3, zil.fireplaces)\n",
    "zil.fireplaces = new_fireplaces"
   ]
  },
  {
   "cell_type": "code",
   "execution_count": 71,
   "id": "57eaae6b-30a2-48e0-9a18-6405f95d7384",
   "metadata": {},
   "outputs": [
    {
     "data": {
      "text/plain": [
       "0    46399\n",
       "1     6449\n",
       "2      807\n",
       "3      136\n",
       "Name: fireplaces, dtype: int64"
      ]
     },
     "execution_count": 71,
     "metadata": {},
     "output_type": "execute_result"
    }
   ],
   "source": [
    "zil.fireplaces.value_counts()"
   ]
  },
  {
   "cell_type": "code",
   "execution_count": 72,
   "id": "406f8fff-03f0-46cc-9acd-72879e8ebc03",
   "metadata": {},
   "outputs": [],
   "source": [
    "fips_codes = {'6037': 'Los Angeles County',\n",
    "              '6059': 'Orange County',\n",
    "              '6111': 'Ventura County'}\n",
    "zil.fips = [fips_codes.get(fip) for fip in zil.fips.astype(int).astype(str)]"
   ]
  },
  {
   "cell_type": "code",
   "execution_count": 73,
   "id": "7dfbe533-9c16-4622-916c-4ee6a5d42604",
   "metadata": {},
   "outputs": [
    {
     "data": {
      "text/plain": [
       "Los Angeles County    35828\n",
       "Orange County         13379\n",
       "Ventura County         4584\n",
       "Name: fips, dtype: int64"
      ]
     },
     "execution_count": 73,
     "metadata": {},
     "output_type": "execute_result"
    }
   ],
   "source": [
    "zil.fips.value_counts()"
   ]
  },
  {
   "cell_type": "code",
   "execution_count": 74,
   "id": "e15ffec7-3178-4304-8f8d-33d95eb00be2",
   "metadata": {},
   "outputs": [],
   "source": [
    "zil.year = zil.year.astype(int)"
   ]
  },
  {
   "cell_type": "code",
   "execution_count": 75,
   "id": "12941c04-a6cb-4f3a-b543-9d4846648796",
   "metadata": {},
   "outputs": [
    {
     "data": {
      "text/html": [
       "<div>\n",
       "<style scoped>\n",
       "    .dataframe tbody tr th:only-of-type {\n",
       "        vertical-align: middle;\n",
       "    }\n",
       "\n",
       "    .dataframe tbody tr th {\n",
       "        vertical-align: top;\n",
       "    }\n",
       "\n",
       "    .dataframe thead th {\n",
       "        text-align: right;\n",
       "    }\n",
       "</style>\n",
       "<table border=\"1\" class=\"dataframe\">\n",
       "  <thead>\n",
       "    <tr style=\"text-align: right;\">\n",
       "      <th></th>\n",
       "      <th>bedrooms</th>\n",
       "      <th>bathrooms</th>\n",
       "      <th>sq_ft</th>\n",
       "      <th>price</th>\n",
       "      <th>pools</th>\n",
       "      <th>garages</th>\n",
       "      <th>fireplaces</th>\n",
       "      <th>fips</th>\n",
       "      <th>year</th>\n",
       "      <th>lot_sq_ft</th>\n",
       "    </tr>\n",
       "  </thead>\n",
       "  <tbody>\n",
       "    <tr>\n",
       "      <th>4</th>\n",
       "      <td>4</td>\n",
       "      <td>2.0</td>\n",
       "      <td>3633.0</td>\n",
       "      <td>296425.0</td>\n",
       "      <td>0</td>\n",
       "      <td>0</td>\n",
       "      <td>0</td>\n",
       "      <td>Los Angeles County</td>\n",
       "      <td>2005</td>\n",
       "      <td>9826.0</td>\n",
       "    </tr>\n",
       "    <tr>\n",
       "      <th>7</th>\n",
       "      <td>3</td>\n",
       "      <td>2.0</td>\n",
       "      <td>2077.0</td>\n",
       "      <td>646760.0</td>\n",
       "      <td>0</td>\n",
       "      <td>0</td>\n",
       "      <td>0</td>\n",
       "      <td>Los Angeles County</td>\n",
       "      <td>1926</td>\n",
       "      <td>6490.0</td>\n",
       "    </tr>\n",
       "    <tr>\n",
       "      <th>11</th>\n",
       "      <td>0</td>\n",
       "      <td>0.0</td>\n",
       "      <td>1200.0</td>\n",
       "      <td>5328.0</td>\n",
       "      <td>0</td>\n",
       "      <td>0</td>\n",
       "      <td>0</td>\n",
       "      <td>Los Angeles County</td>\n",
       "      <td>1972</td>\n",
       "      <td>4054.0</td>\n",
       "    </tr>\n",
       "    <tr>\n",
       "      <th>14</th>\n",
       "      <td>0</td>\n",
       "      <td>0.0</td>\n",
       "      <td>171.0</td>\n",
       "      <td>6920.0</td>\n",
       "      <td>0</td>\n",
       "      <td>0</td>\n",
       "      <td>0</td>\n",
       "      <td>Los Angeles County</td>\n",
       "      <td>1973</td>\n",
       "      <td>13002.0</td>\n",
       "    </tr>\n",
       "    <tr>\n",
       "      <th>15</th>\n",
       "      <td>0</td>\n",
       "      <td>0.0</td>\n",
       "      <td>203.0</td>\n",
       "      <td>14166.0</td>\n",
       "      <td>0</td>\n",
       "      <td>0</td>\n",
       "      <td>0</td>\n",
       "      <td>Los Angeles County</td>\n",
       "      <td>1960</td>\n",
       "      <td>17359.0</td>\n",
       "    </tr>\n",
       "  </tbody>\n",
       "</table>\n",
       "</div>"
      ],
      "text/plain": [
       "    bedrooms  bathrooms   sq_ft     price  pools  garages  fireplaces  \\\n",
       "4          4        2.0  3633.0  296425.0      0        0           0   \n",
       "7          3        2.0  2077.0  646760.0      0        0           0   \n",
       "11         0        0.0  1200.0    5328.0      0        0           0   \n",
       "14         0        0.0   171.0    6920.0      0        0           0   \n",
       "15         0        0.0   203.0   14166.0      0        0           0   \n",
       "\n",
       "                  fips  year  lot_sq_ft  \n",
       "4   Los Angeles County  2005     9826.0  \n",
       "7   Los Angeles County  1926     6490.0  \n",
       "11  Los Angeles County  1972     4054.0  \n",
       "14  Los Angeles County  1973    13002.0  \n",
       "15  Los Angeles County  1960    17359.0  "
      ]
     },
     "execution_count": 75,
     "metadata": {},
     "output_type": "execute_result"
    }
   ],
   "source": [
    "zil.head()"
   ]
  },
  {
   "cell_type": "code",
   "execution_count": 76,
   "id": "307eca4f-cf9d-4f01-9b18-d0dea54a929c",
   "metadata": {},
   "outputs": [
    {
     "name": "stdout",
     "output_type": "stream",
     "text": [
      "95.74000000000001%\n"
     ]
    }
   ],
   "source": [
    "percent(zil, 20_000, 'lot_sq_ft')"
   ]
  },
  {
   "cell_type": "code",
   "execution_count": 77,
   "id": "9ae50edf-112d-4479-8eb2-879653f3821e",
   "metadata": {},
   "outputs": [],
   "source": [
    "zil = zil[zil.lot_sq_ft < 20_000]"
   ]
  },
  {
   "cell_type": "code",
   "execution_count": 79,
   "id": "a0ddea62-a9e0-4396-b12d-0eff1db2a202",
   "metadata": {},
   "outputs": [],
   "source": [
    "zil = ac.zillow_data(True)\n",
    "zil = prep.prep_zillow(mvp=False, df=zil)"
   ]
  },
  {
   "cell_type": "code",
   "execution_count": 80,
   "id": "1c46589e-9099-4f77-9f86-0cba3d501330",
   "metadata": {},
   "outputs": [
    {
     "data": {
      "text/html": [
       "<div>\n",
       "<style scoped>\n",
       "    .dataframe tbody tr th:only-of-type {\n",
       "        vertical-align: middle;\n",
       "    }\n",
       "\n",
       "    .dataframe tbody tr th {\n",
       "        vertical-align: top;\n",
       "    }\n",
       "\n",
       "    .dataframe thead th {\n",
       "        text-align: right;\n",
       "    }\n",
       "</style>\n",
       "<table border=\"1\" class=\"dataframe\">\n",
       "  <thead>\n",
       "    <tr style=\"text-align: right;\">\n",
       "      <th></th>\n",
       "      <th>bedrooms</th>\n",
       "      <th>bathrooms</th>\n",
       "      <th>sq_ft</th>\n",
       "      <th>price</th>\n",
       "      <th>pools</th>\n",
       "      <th>garages</th>\n",
       "      <th>fireplaces</th>\n",
       "      <th>fips</th>\n",
       "      <th>year</th>\n",
       "      <th>lot_sq_ft</th>\n",
       "    </tr>\n",
       "  </thead>\n",
       "  <tbody>\n",
       "    <tr>\n",
       "      <th>4</th>\n",
       "      <td>4</td>\n",
       "      <td>2.0</td>\n",
       "      <td>3633.0</td>\n",
       "      <td>296425.0</td>\n",
       "      <td>0</td>\n",
       "      <td>0</td>\n",
       "      <td>0</td>\n",
       "      <td>Los Angeles County</td>\n",
       "      <td>2005</td>\n",
       "      <td>9826.0</td>\n",
       "    </tr>\n",
       "    <tr>\n",
       "      <th>7</th>\n",
       "      <td>3</td>\n",
       "      <td>2.0</td>\n",
       "      <td>2077.0</td>\n",
       "      <td>646760.0</td>\n",
       "      <td>0</td>\n",
       "      <td>0</td>\n",
       "      <td>0</td>\n",
       "      <td>Los Angeles County</td>\n",
       "      <td>1926</td>\n",
       "      <td>6490.0</td>\n",
       "    </tr>\n",
       "    <tr>\n",
       "      <th>11</th>\n",
       "      <td>0</td>\n",
       "      <td>0.0</td>\n",
       "      <td>1200.0</td>\n",
       "      <td>5328.0</td>\n",
       "      <td>0</td>\n",
       "      <td>0</td>\n",
       "      <td>0</td>\n",
       "      <td>Los Angeles County</td>\n",
       "      <td>1972</td>\n",
       "      <td>4054.0</td>\n",
       "    </tr>\n",
       "    <tr>\n",
       "      <th>14</th>\n",
       "      <td>0</td>\n",
       "      <td>0.0</td>\n",
       "      <td>171.0</td>\n",
       "      <td>6920.0</td>\n",
       "      <td>0</td>\n",
       "      <td>0</td>\n",
       "      <td>0</td>\n",
       "      <td>Los Angeles County</td>\n",
       "      <td>1973</td>\n",
       "      <td>13002.0</td>\n",
       "    </tr>\n",
       "    <tr>\n",
       "      <th>15</th>\n",
       "      <td>0</td>\n",
       "      <td>0.0</td>\n",
       "      <td>203.0</td>\n",
       "      <td>14166.0</td>\n",
       "      <td>0</td>\n",
       "      <td>0</td>\n",
       "      <td>0</td>\n",
       "      <td>Los Angeles County</td>\n",
       "      <td>1960</td>\n",
       "      <td>17359.0</td>\n",
       "    </tr>\n",
       "  </tbody>\n",
       "</table>\n",
       "</div>"
      ],
      "text/plain": [
       "    bedrooms  bathrooms   sq_ft     price  pools  garages  fireplaces  \\\n",
       "4          4        2.0  3633.0  296425.0      0        0           0   \n",
       "7          3        2.0  2077.0  646760.0      0        0           0   \n",
       "11         0        0.0  1200.0    5328.0      0        0           0   \n",
       "14         0        0.0   171.0    6920.0      0        0           0   \n",
       "15         0        0.0   203.0   14166.0      0        0           0   \n",
       "\n",
       "                  fips  year  lot_sq_ft  \n",
       "4   Los Angeles County  2005     9826.0  \n",
       "7   Los Angeles County  1926     6490.0  \n",
       "11  Los Angeles County  1972     4054.0  \n",
       "14  Los Angeles County  1973    13002.0  \n",
       "15  Los Angeles County  1960    17359.0  "
      ]
     },
     "execution_count": 80,
     "metadata": {},
     "output_type": "execute_result"
    }
   ],
   "source": [
    "zil.head()"
   ]
  },
  {
   "cell_type": "code",
   "execution_count": 90,
   "id": "84709aa9-2be2-4570-b059-35a30d741a43",
   "metadata": {},
   "outputs": [
    {
     "name": "stdout",
     "output_type": "stream",
     "text": [
      "95.55%\n"
     ]
    }
   ],
   "source": [
    "percent(zil, 1_000_000, 'price' )"
   ]
  },
  {
   "cell_type": "code",
   "execution_count": null,
   "id": "b110eafe-8dce-4584-8214-172c2b1272b7",
   "metadata": {},
   "outputs": [],
   "source": []
  }
 ],
 "metadata": {
  "kernelspec": {
   "display_name": "Python 3 (ipykernel)",
   "language": "python",
   "name": "python3"
  },
  "language_info": {
   "codemirror_mode": {
    "name": "ipython",
    "version": 3
   },
   "file_extension": ".py",
   "mimetype": "text/x-python",
   "name": "python",
   "nbconvert_exporter": "python",
   "pygments_lexer": "ipython3",
   "version": "3.10.9"
  }
 },
 "nbformat": 4,
 "nbformat_minor": 5
}
