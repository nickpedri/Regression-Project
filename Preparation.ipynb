{
 "cells": [
  {
   "cell_type": "markdown",
   "id": "2bccfaad-212e-49c3-b83f-a6d6e353fb3a",
   "metadata": {},
   "source": [
    "# Preparation"
   ]
  },
  {
   "cell_type": "code",
   "execution_count": 39,
   "id": "377dfc43-4412-4c48-a764-ed40a44ece0d",
   "metadata": {},
   "outputs": [],
   "source": [
    "import acquire as ac\n",
    "import prepare as prep\n",
    "\n",
    "import pandas as pd\n",
    "import numpy as np"
   ]
  },
  {
   "cell_type": "code",
   "execution_count": 2,
   "id": "56a142c0-0930-4485-9c6d-5230f6d6d13c",
   "metadata": {},
   "outputs": [],
   "source": [
    "zil = ac.zillow_data()"
   ]
  },
  {
   "cell_type": "code",
   "execution_count": 3,
   "id": "1813e515-fe8c-4833-b32d-4bb356d6a5f5",
   "metadata": {},
   "outputs": [],
   "source": [
    "rename = {'bedroomcnt': 'bedrooms',  # Create a dictionary for new column names\n",
    "              'bathroomcnt': 'bathrooms',\n",
    "              'calculatedfinishedsquarefeet': 'sq_ft',\n",
    "              'taxvaluedollarcnt': 'price'}\n",
    "zil = zil.rename(columns=rename)  # Rename colums using dictionary"
   ]
  },
  {
   "cell_type": "code",
   "execution_count": 4,
   "id": "8e71cfc9-5d3e-4624-a6d8-47fcc60a2e41",
   "metadata": {},
   "outputs": [
    {
     "data": {
      "text/plain": [
       "3.0     25015\n",
       "4.0     16582\n",
       "2.0      8739\n",
       "5.0      3974\n",
       "6.0       661\n",
       "1.0       587\n",
       "0.0       133\n",
       "7.0       111\n",
       "8.0        33\n",
       "9.0         8\n",
       "25.0        1\n",
       "10.0        1\n",
       "11.0        1\n",
       "Name: bedrooms, dtype: int64"
      ]
     },
     "execution_count": 4,
     "metadata": {},
     "output_type": "execute_result"
    }
   ],
   "source": [
    "zil.bedrooms.value_counts()"
   ]
  },
  {
   "cell_type": "code",
   "execution_count": 5,
   "id": "f1e6e292-32d2-4dce-88ab-83114998d243",
   "metadata": {},
   "outputs": [],
   "source": [
    "bed_bins = pd.cut(zil.bedrooms, bins=[-0.5,.5,1.5,2.5,3.5,4.5,5.5,1000], labels=['0', '1', '2', '3', '4', '5', '6+'])"
   ]
  },
  {
   "cell_type": "code",
   "execution_count": 6,
   "id": "2940af7a-2cc1-41de-95bc-497db2f605c3",
   "metadata": {},
   "outputs": [],
   "source": [
    "zil.bedrooms = bed_bins"
   ]
  },
  {
   "cell_type": "code",
   "execution_count": 7,
   "id": "7e092ade-6529-4539-80a3-12e00100fbe9",
   "metadata": {},
   "outputs": [
    {
     "data": {
      "text/plain": [
       "3     25015\n",
       "4     16582\n",
       "2      8739\n",
       "5      3974\n",
       "6+      816\n",
       "1       587\n",
       "0       133\n",
       "Name: bedrooms, dtype: int64"
      ]
     },
     "execution_count": 7,
     "metadata": {},
     "output_type": "execute_result"
    }
   ],
   "source": [
    "zil.bedrooms.value_counts()"
   ]
  },
  {
   "cell_type": "code",
   "execution_count": 8,
   "id": "ba3b9d8b-03f7-4887-a4d2-164880f845c8",
   "metadata": {},
   "outputs": [
    {
     "data": {
      "text/plain": [
       "2.0     24532\n",
       "3.0     11152\n",
       "1.0     10626\n",
       "2.5      3723\n",
       "4.0      2147\n",
       "1.5       793\n",
       "5.0       780\n",
       "3.5       736\n",
       "4.5       506\n",
       "6.0       303\n",
       "5.5       165\n",
       "0.0       140\n",
       "7.0       116\n",
       "8.0        37\n",
       "6.5        30\n",
       "9.0        26\n",
       "7.5        11\n",
       "10.0       11\n",
       "8.5         5\n",
       "11.0        3\n",
       "13.0        1\n",
       "9.5         1\n",
       "20.0        1\n",
       "19.5        1\n",
       "Name: bathrooms, dtype: int64"
      ]
     },
     "execution_count": 8,
     "metadata": {},
     "output_type": "execute_result"
    }
   ],
   "source": [
    "zil.bathrooms.value_counts()"
   ]
  },
  {
   "cell_type": "code",
   "execution_count": 13,
   "id": "f05247bf-8116-4967-bafa-b44e830a9f34",
   "metadata": {},
   "outputs": [
    {
     "data": {
      "text/plain": [
       "array(['2.0', '4.0', '2.0', ..., '3.0', '3.0', '2.0'], dtype=object)"
      ]
     },
     "execution_count": 13,
     "metadata": {},
     "output_type": "execute_result"
    }
   ],
   "source": [
    "np.where(zil.bathrooms > 6, '7+',zil.bathrooms.astype(str))"
   ]
  },
  {
   "cell_type": "code",
   "execution_count": 21,
   "id": "c6b8b804-e982-4a3f-a3de-954e971ff729",
   "metadata": {},
   "outputs": [],
   "source": [
    "trash = zil.copy()\n",
    "zil.bathrooms = np.where(zil.bathrooms > 5, '6+',zil.bathrooms.astype(str))"
   ]
  },
  {
   "cell_type": "code",
   "execution_count": 20,
   "id": "b7ff9a58-7afe-4024-9e84-1e8b92a7c119",
   "metadata": {},
   "outputs": [
    {
     "data": {
      "text/plain": [
       "2.0    24532\n",
       "3.0    11152\n",
       "1.0    10626\n",
       "2.5     3723\n",
       "4.0     2147\n",
       "1.5      793\n",
       "5.0      780\n",
       "3.5      736\n",
       "6+       711\n",
       "4.5      506\n",
       "0.0      140\n",
       "Name: bathrooms, dtype: int64"
      ]
     },
     "execution_count": 20,
     "metadata": {},
     "output_type": "execute_result"
    }
   ],
   "source": [
    "trash.bathrooms.value_counts()"
   ]
  },
  {
   "cell_type": "code",
   "execution_count": 22,
   "id": "b7442534-bec6-4a03-a06c-7eeea2f95b91",
   "metadata": {},
   "outputs": [
    {
     "data": {
      "text/html": [
       "<div>\n",
       "<style scoped>\n",
       "    .dataframe tbody tr th:only-of-type {\n",
       "        vertical-align: middle;\n",
       "    }\n",
       "\n",
       "    .dataframe tbody tr th {\n",
       "        vertical-align: top;\n",
       "    }\n",
       "\n",
       "    .dataframe thead th {\n",
       "        text-align: right;\n",
       "    }\n",
       "</style>\n",
       "<table border=\"1\" class=\"dataframe\">\n",
       "  <thead>\n",
       "    <tr style=\"text-align: right;\">\n",
       "      <th></th>\n",
       "      <th>bedrooms</th>\n",
       "      <th>bathrooms</th>\n",
       "      <th>sq_ft</th>\n",
       "      <th>price</th>\n",
       "    </tr>\n",
       "  </thead>\n",
       "  <tbody>\n",
       "    <tr>\n",
       "      <th>0</th>\n",
       "      <td>4</td>\n",
       "      <td>2.0</td>\n",
       "      <td>3633.0</td>\n",
       "      <td>296425.0</td>\n",
       "    </tr>\n",
       "    <tr>\n",
       "      <th>1</th>\n",
       "      <td>3</td>\n",
       "      <td>4.0</td>\n",
       "      <td>1620.0</td>\n",
       "      <td>847770.0</td>\n",
       "    </tr>\n",
       "    <tr>\n",
       "      <th>2</th>\n",
       "      <td>3</td>\n",
       "      <td>2.0</td>\n",
       "      <td>2077.0</td>\n",
       "      <td>646760.0</td>\n",
       "    </tr>\n",
       "    <tr>\n",
       "      <th>3</th>\n",
       "      <td>0</td>\n",
       "      <td>0.0</td>\n",
       "      <td>1200.0</td>\n",
       "      <td>5328.0</td>\n",
       "    </tr>\n",
       "    <tr>\n",
       "      <th>4</th>\n",
       "      <td>0</td>\n",
       "      <td>0.0</td>\n",
       "      <td>171.0</td>\n",
       "      <td>6920.0</td>\n",
       "    </tr>\n",
       "  </tbody>\n",
       "</table>\n",
       "</div>"
      ],
      "text/plain": [
       "  bedrooms bathrooms   sq_ft     price\n",
       "0        4       2.0  3633.0  296425.0\n",
       "1        3       4.0  1620.0  847770.0\n",
       "2        3       2.0  2077.0  646760.0\n",
       "3        0       0.0  1200.0    5328.0\n",
       "4        0       0.0   171.0    6920.0"
      ]
     },
     "execution_count": 22,
     "metadata": {},
     "output_type": "execute_result"
    }
   ],
   "source": [
    "zil.head()"
   ]
  },
  {
   "cell_type": "code",
   "execution_count": 26,
   "id": "5d02cba2-b955-4c88-9fc8-ca11940b39c9",
   "metadata": {},
   "outputs": [
    {
     "data": {
      "text/plain": [
       "3289     30166843.0\n",
       "10554    22843125.0\n",
       "24592    19129816.0\n",
       "13920    18782125.0\n",
       "35403    17170000.0\n",
       "35324    14721125.0\n",
       "7821     14563303.0\n",
       "13918    13243244.0\n",
       "46198    12698505.0\n",
       "25452    12228491.0\n",
       "20168    11962714.0\n",
       "24685    11904874.0\n",
       "31982    11689668.0\n",
       "29174    11517922.0\n",
       "21385    11378863.0\n",
       "13919    10904781.0\n",
       "30828    10358901.0\n",
       "9777     10000000.0\n",
       "44373     9841049.0\n",
       "3294      9496841.0\n",
       "Name: price, dtype: float64"
      ]
     },
     "execution_count": 26,
     "metadata": {},
     "output_type": "execute_result"
    }
   ],
   "source": [
    "zil.price.sort_values(ascending=False)[:20]"
   ]
  },
  {
   "cell_type": "code",
   "execution_count": 30,
   "id": "be9bd2a6-b1ba-4632-9c8d-d92522cda65c",
   "metadata": {},
   "outputs": [
    {
     "data": {
      "text/plain": [
       "0.9888264154997672"
      ]
     },
     "execution_count": 30,
     "metadata": {},
     "output_type": "execute_result"
    }
   ],
   "source": [
    "len(zil[zil.price < 2_500_000])/len(zil)"
   ]
  },
  {
   "cell_type": "code",
   "execution_count": 38,
   "id": "94ca760a-1203-4599-ac00-22845dc92dc7",
   "metadata": {},
   "outputs": [],
   "source": [
    "zil = ac.zillow_data()\n",
    "rename = {'bedroomcnt': 'bedrooms',  # Create a dictionary for new column names\n",
    "            'bathroomcnt': 'bathrooms',\n",
    "              'calculatedfinishedsquarefeet': 'sq_ft',\n",
    "              'taxvaluedollarcnt': 'price'}\n",
    "zil = zil.rename(columns=rename)  # Rename colums using dictionary"
   ]
  },
  {
   "cell_type": "code",
   "execution_count": 34,
   "id": "7bafbfc6-4288-4ff2-b0fe-c2b7ac6d4bf4",
   "metadata": {},
   "outputs": [],
   "source": [
    "zil = zil[zil.price < 2_500_000]"
   ]
  },
  {
   "cell_type": "code",
   "execution_count": 40,
   "id": "dd43d02e-88ea-449b-b99c-092b85246635",
   "metadata": {},
   "outputs": [],
   "source": [
    "zil = ac.zillow_data()\n",
    "zil = prep.prep_zillow(zil)"
   ]
  },
  {
   "cell_type": "code",
   "execution_count": 41,
   "id": "1dfc31c3-6671-46d4-9b95-5d834e0efb31",
   "metadata": {},
   "outputs": [
    {
     "data": {
      "text/html": [
       "<div>\n",
       "<style scoped>\n",
       "    .dataframe tbody tr th:only-of-type {\n",
       "        vertical-align: middle;\n",
       "    }\n",
       "\n",
       "    .dataframe tbody tr th {\n",
       "        vertical-align: top;\n",
       "    }\n",
       "\n",
       "    .dataframe thead th {\n",
       "        text-align: right;\n",
       "    }\n",
       "</style>\n",
       "<table border=\"1\" class=\"dataframe\">\n",
       "  <thead>\n",
       "    <tr style=\"text-align: right;\">\n",
       "      <th></th>\n",
       "      <th>bedrooms</th>\n",
       "      <th>bathrooms</th>\n",
       "      <th>sq_ft</th>\n",
       "      <th>price</th>\n",
       "    </tr>\n",
       "  </thead>\n",
       "  <tbody>\n",
       "    <tr>\n",
       "      <th>0</th>\n",
       "      <td>4</td>\n",
       "      <td>2.0</td>\n",
       "      <td>3633.0</td>\n",
       "      <td>296425.0</td>\n",
       "    </tr>\n",
       "    <tr>\n",
       "      <th>1</th>\n",
       "      <td>3</td>\n",
       "      <td>4.0</td>\n",
       "      <td>1620.0</td>\n",
       "      <td>847770.0</td>\n",
       "    </tr>\n",
       "    <tr>\n",
       "      <th>2</th>\n",
       "      <td>3</td>\n",
       "      <td>2.0</td>\n",
       "      <td>2077.0</td>\n",
       "      <td>646760.0</td>\n",
       "    </tr>\n",
       "    <tr>\n",
       "      <th>3</th>\n",
       "      <td>0</td>\n",
       "      <td>0.0</td>\n",
       "      <td>1200.0</td>\n",
       "      <td>5328.0</td>\n",
       "    </tr>\n",
       "    <tr>\n",
       "      <th>4</th>\n",
       "      <td>0</td>\n",
       "      <td>0.0</td>\n",
       "      <td>171.0</td>\n",
       "      <td>6920.0</td>\n",
       "    </tr>\n",
       "  </tbody>\n",
       "</table>\n",
       "</div>"
      ],
      "text/plain": [
       "  bedrooms bathrooms   sq_ft     price\n",
       "0        4       2.0  3633.0  296425.0\n",
       "1        3       4.0  1620.0  847770.0\n",
       "2        3       2.0  2077.0  646760.0\n",
       "3        0       0.0  1200.0    5328.0\n",
       "4        0       0.0   171.0    6920.0"
      ]
     },
     "execution_count": 41,
     "metadata": {},
     "output_type": "execute_result"
    }
   ],
   "source": [
    "zil.head()"
   ]
  },
  {
   "cell_type": "code",
   "execution_count": null,
   "id": "1887c8e5-604f-45a6-95ec-f98a51f847df",
   "metadata": {},
   "outputs": [],
   "source": []
  }
 ],
 "metadata": {
  "kernelspec": {
   "display_name": "Python 3 (ipykernel)",
   "language": "python",
   "name": "python3"
  },
  "language_info": {
   "codemirror_mode": {
    "name": "ipython",
    "version": 3
   },
   "file_extension": ".py",
   "mimetype": "text/x-python",
   "name": "python",
   "nbconvert_exporter": "python",
   "pygments_lexer": "ipython3",
   "version": "3.10.9"
  }
 },
 "nbformat": 4,
 "nbformat_minor": 5
}
