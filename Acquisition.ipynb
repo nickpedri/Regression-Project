{
 "cells": [
  {
   "cell_type": "markdown",
   "id": "e17d5613-8ca9-448a-9e12-47dfc88c7ba2",
   "metadata": {},
   "source": [
    "# Acquisition Advanced"
   ]
  },
  {
   "cell_type": "code",
   "execution_count": 1,
   "id": "68175e7a-7b32-4daa-95e4-c4c786fd00e2",
   "metadata": {},
   "outputs": [],
   "source": [
    "import acquire as ac"
   ]
  },
  {
   "cell_type": "markdown",
   "id": "9bd1a02e-234e-474a-abf5-db0775c123c2",
   "metadata": {},
   "source": [
    "Load everything and check for nulls"
   ]
  },
  {
   "cell_type": "code",
   "execution_count": 10,
   "id": "6097dac3-d6fe-4fa1-8de7-209450b4f567",
   "metadata": {},
   "outputs": [],
   "source": [
    "query = '''\n",
    "\n",
    "SELECT id, pre.parcelid, bathroomcnt, bedroomcnt, calculatedbathnbr, calculatedfinishedsquarefeet, finishedsquarefeet12,\n",
    " fips, fullbathcnt, latitude, longitude, lotsizesquarefeet, propertycountylandusecode, propertylandusetypeid, rawcensustractandblock,\n",
    " regionidcity, regionidcounty, regionidzip, roomcnt, yearbuilt, structuretaxvaluedollarcnt, taxvaluedollarcnt, assessmentyear, landtaxvaluedollarcnt,\n",
    " taxamount, censustractandblock FROM predictions_2017 as pre\n",
    "JOIN properties_2017 USING(id)\n",
    "WHERE SUBSTR(transactiondate, 1, 4) = 2017 AND propertylandusetypeid = 261\n",
    "'''\n",
    "\n",
    "\n",
    "df = ac.sql_query('zillow', query)"
   ]
  },
  {
   "cell_type": "code",
   "execution_count": null,
   "id": "5dbd9d7a-fe7d-4aa6-8f31-cf574322cf2b",
   "metadata": {},
   "outputs": [],
   "source": [
    "to_remove = []\n",
    "\n",
    "for col in df.columns:\n",
    "    if df[col].isna().sum()/len(df) >= .20:\n",
    "        to_remove.append(col)"
   ]
  },
  {
   "cell_type": "code",
   "execution_count": 9,
   "id": "59b7ab8d-3676-4720-b033-635d2bd56885",
   "metadata": {},
   "outputs": [
    {
     "data": {
      "text/plain": [
       "56080"
      ]
     },
     "execution_count": 9,
     "metadata": {},
     "output_type": "execute_result"
    }
   ],
   "source": [
    "len(df)"
   ]
  },
  {
   "cell_type": "code",
   "execution_count": null,
   "id": "ce8f5d0f-e232-47ee-b023-ccad9187571d",
   "metadata": {},
   "outputs": [],
   "source": [
    "df = df.drop(columns=to_remove)"
   ]
  },
  {
   "cell_type": "code",
   "execution_count": 7,
   "id": "6a8ee627-0e2c-45ca-8235-460e192fa116",
   "metadata": {},
   "outputs": [
    {
     "data": {
      "text/plain": [
       "Index(['id', 'parcelid', 'bathroomcnt', 'bedroomcnt', 'calculatedbathnbr',\n",
       "       'calculatedfinishedsquarefeet', 'finishedsquarefeet12', 'fips',\n",
       "       'fullbathcnt', 'latitude', 'longitude', 'lotsizesquarefeet',\n",
       "       'propertycountylandusecode', 'propertylandusetypeid',\n",
       "       'rawcensustractandblock', 'regionidcity', 'regionidcounty',\n",
       "       'regionidzip', 'roomcnt', 'yearbuilt', 'structuretaxvaluedollarcnt',\n",
       "       'taxvaluedollarcnt', 'assessmentyear', 'landtaxvaluedollarcnt',\n",
       "       'taxamount', 'censustractandblock'],\n",
       "      dtype='object')"
      ]
     },
     "execution_count": 7,
     "metadata": {},
     "output_type": "execute_result"
    }
   ],
   "source": [
    "df.columns"
   ]
  },
  {
   "cell_type": "code",
   "execution_count": null,
   "id": "242a2202-e58a-471e-bb87-b8cf4be7c071",
   "metadata": {},
   "outputs": [],
   "source": [
    "query = '''SELECT id, parcelid, bathroomcnt, bedroomcnt, calculatedbathnbr, calculatedfinishedsquarefeet, finishedsquarefeet12,\n",
    " fips, fullbathcnt, latitude, longitude, lotsizesquarefeet, propertycountylandusecode, propertylandusetypeid, rawcensustractandblock,\n",
    " regionidcity, regionidcounty, regionidzip, roomcnt, yearbuilt, structuretaxvaluedollarcnt, taxvaluedollarcnt, assessmentyear, landtaxvaluedollarcnt,\n",
    " taxamount, censustractandblock FROM properties_2017 WHERE propertylandusetypeid = 261;\n",
    "'''\n",
    "\n",
    "\n",
    "df = ac.sql_query('zillow', query)"
   ]
  },
  {
   "cell_type": "markdown",
   "id": "06147346-2132-4566-aff3-9fef60992849",
   "metadata": {},
   "source": [
    "Dropping all nulls would only lose 2% of my data so I will do that."
   ]
  },
  {
   "cell_type": "code",
   "execution_count": null,
   "id": "979e6e6c-1793-4004-b167-fe5875f579c8",
   "metadata": {},
   "outputs": [],
   "source": [
    "df.isna().sum().max()/len(df)*100"
   ]
  },
  {
   "cell_type": "code",
   "execution_count": 11,
   "id": "477a6e36-4a50-4f00-b271-47c8c67e192f",
   "metadata": {},
   "outputs": [],
   "source": [
    "df = df.dropna()"
   ]
  },
  {
   "cell_type": "code",
   "execution_count": 12,
   "id": "efd972b8-c596-4be7-8362-97f223ae087c",
   "metadata": {},
   "outputs": [
    {
     "data": {
      "text/plain": [
       "54033"
      ]
     },
     "execution_count": 12,
     "metadata": {},
     "output_type": "execute_result"
    }
   ],
   "source": [
    "len(df)"
   ]
  },
  {
   "cell_type": "code",
   "execution_count": 13,
   "id": "5bee20b3-0a2e-4212-99c4-a5a532cc9e80",
   "metadata": {},
   "outputs": [
    {
     "data": {
      "text/html": [
       "<div>\n",
       "<style scoped>\n",
       "    .dataframe tbody tr th:only-of-type {\n",
       "        vertical-align: middle;\n",
       "    }\n",
       "\n",
       "    .dataframe tbody tr th {\n",
       "        vertical-align: top;\n",
       "    }\n",
       "\n",
       "    .dataframe thead th {\n",
       "        text-align: right;\n",
       "    }\n",
       "</style>\n",
       "<table border=\"1\" class=\"dataframe\">\n",
       "  <thead>\n",
       "    <tr style=\"text-align: right;\">\n",
       "      <th></th>\n",
       "      <th>id</th>\n",
       "      <th>parcelid</th>\n",
       "      <th>bathroomcnt</th>\n",
       "      <th>bedroomcnt</th>\n",
       "      <th>calculatedbathnbr</th>\n",
       "      <th>calculatedfinishedsquarefeet</th>\n",
       "      <th>finishedsquarefeet12</th>\n",
       "      <th>fips</th>\n",
       "      <th>fullbathcnt</th>\n",
       "      <th>latitude</th>\n",
       "      <th>...</th>\n",
       "      <th>regionidcounty</th>\n",
       "      <th>regionidzip</th>\n",
       "      <th>roomcnt</th>\n",
       "      <th>yearbuilt</th>\n",
       "      <th>structuretaxvaluedollarcnt</th>\n",
       "      <th>taxvaluedollarcnt</th>\n",
       "      <th>assessmentyear</th>\n",
       "      <th>landtaxvaluedollarcnt</th>\n",
       "      <th>taxamount</th>\n",
       "      <th>censustractandblock</th>\n",
       "    </tr>\n",
       "  </thead>\n",
       "  <tbody>\n",
       "    <tr>\n",
       "      <th>52</th>\n",
       "      <td>337</td>\n",
       "      <td>14688177</td>\n",
       "      <td>4.0</td>\n",
       "      <td>4.0</td>\n",
       "      <td>4.0</td>\n",
       "      <td>4969.0</td>\n",
       "      <td>4969.0</td>\n",
       "      <td>6111.0</td>\n",
       "      <td>4.0</td>\n",
       "      <td>34433200.0</td>\n",
       "      <td>...</td>\n",
       "      <td>2061.0</td>\n",
       "      <td>97099.0</td>\n",
       "      <td>8.0</td>\n",
       "      <td>1989.0</td>\n",
       "      <td>779712.0</td>\n",
       "      <td>2228473.0</td>\n",
       "      <td>2016.0</td>\n",
       "      <td>1448761.0</td>\n",
       "      <td>24556.86</td>\n",
       "      <td>6.111001e+13</td>\n",
       "    </tr>\n",
       "    <tr>\n",
       "      <th>53</th>\n",
       "      <td>338</td>\n",
       "      <td>10930942</td>\n",
       "      <td>2.0</td>\n",
       "      <td>3.0</td>\n",
       "      <td>2.0</td>\n",
       "      <td>1800.0</td>\n",
       "      <td>1800.0</td>\n",
       "      <td>6111.0</td>\n",
       "      <td>2.0</td>\n",
       "      <td>34464778.0</td>\n",
       "      <td>...</td>\n",
       "      <td>2061.0</td>\n",
       "      <td>97099.0</td>\n",
       "      <td>0.0</td>\n",
       "      <td>1932.0</td>\n",
       "      <td>319803.0</td>\n",
       "      <td>794940.0</td>\n",
       "      <td>2016.0</td>\n",
       "      <td>475137.0</td>\n",
       "      <td>8571.20</td>\n",
       "      <td>6.111001e+13</td>\n",
       "    </tr>\n",
       "    <tr>\n",
       "      <th>54</th>\n",
       "      <td>339</td>\n",
       "      <td>17246711</td>\n",
       "      <td>1.0</td>\n",
       "      <td>2.0</td>\n",
       "      <td>1.0</td>\n",
       "      <td>780.0</td>\n",
       "      <td>780.0</td>\n",
       "      <td>6111.0</td>\n",
       "      <td>1.0</td>\n",
       "      <td>34450686.0</td>\n",
       "      <td>...</td>\n",
       "      <td>2061.0</td>\n",
       "      <td>97099.0</td>\n",
       "      <td>4.0</td>\n",
       "      <td>1971.0</td>\n",
       "      <td>70231.0</td>\n",
       "      <td>88731.0</td>\n",
       "      <td>2016.0</td>\n",
       "      <td>18500.0</td>\n",
       "      <td>1652.36</td>\n",
       "      <td>6.111001e+13</td>\n",
       "    </tr>\n",
       "    <tr>\n",
       "      <th>55</th>\n",
       "      <td>340</td>\n",
       "      <td>12559816</td>\n",
       "      <td>2.0</td>\n",
       "      <td>2.0</td>\n",
       "      <td>2.0</td>\n",
       "      <td>1250.0</td>\n",
       "      <td>1250.0</td>\n",
       "      <td>6111.0</td>\n",
       "      <td>2.0</td>\n",
       "      <td>34448639.0</td>\n",
       "      <td>...</td>\n",
       "      <td>2061.0</td>\n",
       "      <td>97099.0</td>\n",
       "      <td>4.0</td>\n",
       "      <td>1978.0</td>\n",
       "      <td>79575.0</td>\n",
       "      <td>233424.0</td>\n",
       "      <td>2016.0</td>\n",
       "      <td>153849.0</td>\n",
       "      <td>3191.16</td>\n",
       "      <td>6.111001e+13</td>\n",
       "    </tr>\n",
       "    <tr>\n",
       "      <th>56</th>\n",
       "      <td>341</td>\n",
       "      <td>14673239</td>\n",
       "      <td>1.0</td>\n",
       "      <td>2.0</td>\n",
       "      <td>1.0</td>\n",
       "      <td>1404.0</td>\n",
       "      <td>1404.0</td>\n",
       "      <td>6111.0</td>\n",
       "      <td>1.0</td>\n",
       "      <td>34450089.0</td>\n",
       "      <td>...</td>\n",
       "      <td>2061.0</td>\n",
       "      <td>97099.0</td>\n",
       "      <td>5.0</td>\n",
       "      <td>1950.0</td>\n",
       "      <td>99853.0</td>\n",
       "      <td>313844.0</td>\n",
       "      <td>2016.0</td>\n",
       "      <td>213991.0</td>\n",
       "      <td>3987.00</td>\n",
       "      <td>6.111001e+13</td>\n",
       "    </tr>\n",
       "  </tbody>\n",
       "</table>\n",
       "<p>5 rows × 26 columns</p>\n",
       "</div>"
      ],
      "text/plain": [
       "     id  parcelid  bathroomcnt  bedroomcnt  calculatedbathnbr  \\\n",
       "52  337  14688177          4.0         4.0                4.0   \n",
       "53  338  10930942          2.0         3.0                2.0   \n",
       "54  339  17246711          1.0         2.0                1.0   \n",
       "55  340  12559816          2.0         2.0                2.0   \n",
       "56  341  14673239          1.0         2.0                1.0   \n",
       "\n",
       "    calculatedfinishedsquarefeet  finishedsquarefeet12    fips  fullbathcnt  \\\n",
       "52                        4969.0                4969.0  6111.0          4.0   \n",
       "53                        1800.0                1800.0  6111.0          2.0   \n",
       "54                         780.0                 780.0  6111.0          1.0   \n",
       "55                        1250.0                1250.0  6111.0          2.0   \n",
       "56                        1404.0                1404.0  6111.0          1.0   \n",
       "\n",
       "      latitude  ...  regionidcounty  regionidzip roomcnt  yearbuilt  \\\n",
       "52  34433200.0  ...          2061.0      97099.0     8.0     1989.0   \n",
       "53  34464778.0  ...          2061.0      97099.0     0.0     1932.0   \n",
       "54  34450686.0  ...          2061.0      97099.0     4.0     1971.0   \n",
       "55  34448639.0  ...          2061.0      97099.0     4.0     1978.0   \n",
       "56  34450089.0  ...          2061.0      97099.0     5.0     1950.0   \n",
       "\n",
       "    structuretaxvaluedollarcnt  taxvaluedollarcnt  assessmentyear  \\\n",
       "52                    779712.0          2228473.0          2016.0   \n",
       "53                    319803.0           794940.0          2016.0   \n",
       "54                     70231.0            88731.0          2016.0   \n",
       "55                     79575.0           233424.0          2016.0   \n",
       "56                     99853.0           313844.0          2016.0   \n",
       "\n",
       "    landtaxvaluedollarcnt  taxamount  censustractandblock  \n",
       "52              1448761.0   24556.86         6.111001e+13  \n",
       "53               475137.0    8571.20         6.111001e+13  \n",
       "54                18500.0    1652.36         6.111001e+13  \n",
       "55               153849.0    3191.16         6.111001e+13  \n",
       "56               213991.0    3987.00         6.111001e+13  \n",
       "\n",
       "[5 rows x 26 columns]"
      ]
     },
     "execution_count": 13,
     "metadata": {},
     "output_type": "execute_result"
    }
   ],
   "source": [
    "df.head()"
   ]
  },
  {
   "cell_type": "code",
   "execution_count": null,
   "id": "e9fb4aab-0419-44e4-a5b5-82efe0ef055c",
   "metadata": {},
   "outputs": [],
   "source": [
    "query = '''SELECT id, parcelid, bathroomcnt, bedroomcnt, calculatedbathnbr, calculatedfinishedsquarefeet, \n",
    "        finishedsquarefeet12, fips, fullbathcnt, latitude, longitude, lotsizesquarefeet, propertycountylandusecode, \n",
    "        propertylandusetypeid, rawcensustractandblock,regionidcity, regionidcounty, regionidzip, roomcnt, yearbuilt, \n",
    "        structuretaxvaluedollarcnt, taxvaluedollarcnt, assessmentyear, landtaxvaluedollarcnt,taxamount, \n",
    "        censustractandblock \n",
    "        FROM predictions_2017 as pre\n",
    "            JOIN properties_2017 USING(id)\n",
    "        WHERE SUBSTR(transactiondate, 1, 4) = 2017 AND propertylandusetypeid = 261'''  # SQL query"
   ]
  },
  {
   "cell_type": "code",
   "execution_count": 25,
   "id": "345f5f30-3b5e-4a40-8d55-1f70f0f7ef11",
   "metadata": {},
   "outputs": [],
   "source": [
    "query = '''SELECT bedroomcnt, bathroomcnt, calculatedfinishedsquarefeet, taxvaluedollarcnt, poolcnt, garagecarcnt, fireplacecnt, fips, yearbuilt, numberofstories, \n",
    "lotsizesquarefeet\n",
    "           FROM properties_2017 JOIN predictions_2017 USING(id)\n",
    "           WHERE SUBSTR(transactiondate, 1, 4) = 2017 AND propertylandusetypeid = 261'''  # SQL query\n",
    "\n",
    "df = ac.sql_query('zillow', query)"
   ]
  },
  {
   "cell_type": "code",
   "execution_count": 28,
   "id": "85708a69-12cd-43d9-af23-68f36c37d950",
   "metadata": {},
   "outputs": [
    {
     "data": {
      "text/plain": [
       "bedroomcnt                          0\n",
       "bathroomcnt                         0\n",
       "calculatedfinishedsquarefeet      231\n",
       "taxvaluedollarcnt                   8\n",
       "poolcnt                         45128\n",
       "garagecarcnt                    37832\n",
       "fireplacecnt                    48448\n",
       "fips                                0\n",
       "yearbuilt                         249\n",
       "numberofstories                 40586\n",
       "lotsizesquarefeet                 350\n",
       "dtype: int64"
      ]
     },
     "execution_count": 28,
     "metadata": {},
     "output_type": "execute_result"
    }
   ],
   "source": [
    "df.isna().sum()"
   ]
  },
  {
   "cell_type": "markdown",
   "id": "522027bf-84ba-44a6-9361-00072375abb2",
   "metadata": {},
   "source": [
    "# Acquisition MVP"
   ]
  },
  {
   "cell_type": "code",
   "execution_count": 21,
   "id": "3b5a2ee4-8d7e-403b-83e2-0eff2bfb766a",
   "metadata": {},
   "outputs": [],
   "source": [
    "query = '''SELECT bedroomcnt, bathroomcnt, calculatedfinishedsquarefeet, taxvaluedollarcnt \n",
    "           FROM properties_2017 JOIN predictions_2017 USING(id)\n",
    "           WHERE SUBSTR(transactiondate, 1, 4) = 2017 AND propertylandusetypeid = 261'''  # SQL query\n",
    "\n",
    "df = ac.sql_query('zillow', query)"
   ]
  },
  {
   "cell_type": "code",
   "execution_count": 22,
   "id": "0b853587-e566-4630-aba8-d488e503a56d",
   "metadata": {},
   "outputs": [],
   "source": [
    "df = df.dropna()"
   ]
  },
  {
   "cell_type": "code",
   "execution_count": 23,
   "id": "cb294e3c-b5c4-4d36-9c0b-ef7a154a5daf",
   "metadata": {},
   "outputs": [
    {
     "data": {
      "text/plain": [
       "55846"
      ]
     },
     "execution_count": 23,
     "metadata": {},
     "output_type": "execute_result"
    }
   ],
   "source": [
    "len(df)"
   ]
  },
  {
   "cell_type": "code",
   "execution_count": 24,
   "id": "15d37770-e600-4b27-b2eb-352868d77df9",
   "metadata": {},
   "outputs": [
    {
     "data": {
      "text/html": [
       "<div>\n",
       "<style scoped>\n",
       "    .dataframe tbody tr th:only-of-type {\n",
       "        vertical-align: middle;\n",
       "    }\n",
       "\n",
       "    .dataframe tbody tr th {\n",
       "        vertical-align: top;\n",
       "    }\n",
       "\n",
       "    .dataframe thead th {\n",
       "        text-align: right;\n",
       "    }\n",
       "</style>\n",
       "<table border=\"1\" class=\"dataframe\">\n",
       "  <thead>\n",
       "    <tr style=\"text-align: right;\">\n",
       "      <th></th>\n",
       "      <th>bedroomcnt</th>\n",
       "      <th>bathroomcnt</th>\n",
       "      <th>calculatedfinishedsquarefeet</th>\n",
       "      <th>taxvaluedollarcnt</th>\n",
       "    </tr>\n",
       "  </thead>\n",
       "  <tbody>\n",
       "    <tr>\n",
       "      <th>4</th>\n",
       "      <td>4.0</td>\n",
       "      <td>2.0</td>\n",
       "      <td>3633.0</td>\n",
       "      <td>296425.0</td>\n",
       "    </tr>\n",
       "    <tr>\n",
       "      <th>6</th>\n",
       "      <td>3.0</td>\n",
       "      <td>4.0</td>\n",
       "      <td>1620.0</td>\n",
       "      <td>847770.0</td>\n",
       "    </tr>\n",
       "    <tr>\n",
       "      <th>7</th>\n",
       "      <td>3.0</td>\n",
       "      <td>2.0</td>\n",
       "      <td>2077.0</td>\n",
       "      <td>646760.0</td>\n",
       "    </tr>\n",
       "    <tr>\n",
       "      <th>11</th>\n",
       "      <td>0.0</td>\n",
       "      <td>0.0</td>\n",
       "      <td>1200.0</td>\n",
       "      <td>5328.0</td>\n",
       "    </tr>\n",
       "    <tr>\n",
       "      <th>14</th>\n",
       "      <td>0.0</td>\n",
       "      <td>0.0</td>\n",
       "      <td>171.0</td>\n",
       "      <td>6920.0</td>\n",
       "    </tr>\n",
       "  </tbody>\n",
       "</table>\n",
       "</div>"
      ],
      "text/plain": [
       "    bedroomcnt  bathroomcnt  calculatedfinishedsquarefeet  taxvaluedollarcnt\n",
       "4          4.0          2.0                        3633.0           296425.0\n",
       "6          3.0          4.0                        1620.0           847770.0\n",
       "7          3.0          2.0                        2077.0           646760.0\n",
       "11         0.0          0.0                        1200.0             5328.0\n",
       "14         0.0          0.0                         171.0             6920.0"
      ]
     },
     "execution_count": 24,
     "metadata": {},
     "output_type": "execute_result"
    }
   ],
   "source": [
    "df.head()"
   ]
  },
  {
   "cell_type": "code",
   "execution_count": null,
   "id": "5e64e09f-00f6-4534-8558-1a55a186fbef",
   "metadata": {},
   "outputs": [],
   "source": []
  }
 ],
 "metadata": {
  "kernelspec": {
   "display_name": "Python 3 (ipykernel)",
   "language": "python",
   "name": "python3"
  },
  "language_info": {
   "codemirror_mode": {
    "name": "ipython",
    "version": 3
   },
   "file_extension": ".py",
   "mimetype": "text/x-python",
   "name": "python",
   "nbconvert_exporter": "python",
   "pygments_lexer": "ipython3",
   "version": "3.10.9"
  }
 },
 "nbformat": 4,
 "nbformat_minor": 5
}
