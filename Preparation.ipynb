{
 "cells": [
  {
   "cell_type": "markdown",
   "id": "2bccfaad-212e-49c3-b83f-a6d6e353fb3a",
   "metadata": {},
   "source": [
    "# Preparation MVP"
   ]
  },
  {
   "cell_type": "code",
   "execution_count": 1,
   "id": "377dfc43-4412-4c48-a764-ed40a44ece0d",
   "metadata": {},
   "outputs": [],
   "source": [
    "import acquire as ac\n",
    "import prepare as prep\n",
    "\n",
    "import pandas as pd\n",
    "import numpy as np"
   ]
  },
  {
   "cell_type": "code",
   "execution_count": 2,
   "id": "56a142c0-0930-4485-9c6d-5230f6d6d13c",
   "metadata": {},
   "outputs": [],
   "source": [
    "zil = ac.zillow_data()"
   ]
  },
  {
   "cell_type": "code",
   "execution_count": 3,
   "id": "1813e515-fe8c-4833-b32d-4bb356d6a5f5",
   "metadata": {},
   "outputs": [],
   "source": [
    "rename = {'bedroomcnt': 'bedrooms',  # Create a dictionary for new column names\n",
    "              'bathroomcnt': 'bathrooms',\n",
    "              'calculatedfinishedsquarefeet': 'sq_ft',\n",
    "              'taxvaluedollarcnt': 'price'}\n",
    "zil = zil.rename(columns=rename)  # Rename colums using dictionary"
   ]
  },
  {
   "cell_type": "code",
   "execution_count": 4,
   "id": "8e71cfc9-5d3e-4624-a6d8-47fcc60a2e41",
   "metadata": {},
   "outputs": [
    {
     "data": {
      "text/plain": [
       "3.0     25015\n",
       "4.0     16582\n",
       "2.0      8739\n",
       "5.0      3974\n",
       "6.0       661\n",
       "1.0       587\n",
       "0.0       133\n",
       "7.0       111\n",
       "8.0        33\n",
       "9.0         8\n",
       "25.0        1\n",
       "10.0        1\n",
       "11.0        1\n",
       "Name: bedrooms, dtype: int64"
      ]
     },
     "execution_count": 4,
     "metadata": {},
     "output_type": "execute_result"
    }
   ],
   "source": [
    "zil.bedrooms.value_counts()"
   ]
  },
  {
   "cell_type": "code",
   "execution_count": 5,
   "id": "f1e6e292-32d2-4dce-88ab-83114998d243",
   "metadata": {},
   "outputs": [],
   "source": [
    "bed_bins = pd.cut(zil.bedrooms, bins=[-0.5,.5,1.5,2.5,3.5,4.5,5.5,1000], labels=['0', '1', '2', '3', '4', '5', '6+'])"
   ]
  },
  {
   "cell_type": "code",
   "execution_count": 6,
   "id": "2940af7a-2cc1-41de-95bc-497db2f605c3",
   "metadata": {},
   "outputs": [],
   "source": [
    "zil.bedrooms = bed_bins"
   ]
  },
  {
   "cell_type": "code",
   "execution_count": 7,
   "id": "7e092ade-6529-4539-80a3-12e00100fbe9",
   "metadata": {},
   "outputs": [
    {
     "data": {
      "text/plain": [
       "3     25015\n",
       "4     16582\n",
       "2      8739\n",
       "5      3974\n",
       "6+      816\n",
       "1       587\n",
       "0       133\n",
       "Name: bedrooms, dtype: int64"
      ]
     },
     "execution_count": 7,
     "metadata": {},
     "output_type": "execute_result"
    }
   ],
   "source": [
    "zil.bedrooms.value_counts()"
   ]
  },
  {
   "cell_type": "code",
   "execution_count": 8,
   "id": "ba3b9d8b-03f7-4887-a4d2-164880f845c8",
   "metadata": {},
   "outputs": [
    {
     "data": {
      "text/plain": [
       "2.0     24532\n",
       "3.0     11152\n",
       "1.0     10626\n",
       "2.5      3723\n",
       "4.0      2147\n",
       "1.5       793\n",
       "5.0       780\n",
       "3.5       736\n",
       "4.5       506\n",
       "6.0       303\n",
       "5.5       165\n",
       "0.0       140\n",
       "7.0       116\n",
       "8.0        37\n",
       "6.5        30\n",
       "9.0        26\n",
       "7.5        11\n",
       "10.0       11\n",
       "8.5         5\n",
       "11.0        3\n",
       "13.0        1\n",
       "9.5         1\n",
       "20.0        1\n",
       "19.5        1\n",
       "Name: bathrooms, dtype: int64"
      ]
     },
     "execution_count": 8,
     "metadata": {},
     "output_type": "execute_result"
    }
   ],
   "source": [
    "zil.bathrooms.value_counts()"
   ]
  },
  {
   "cell_type": "code",
   "execution_count": 9,
   "id": "f05247bf-8116-4967-bafa-b44e830a9f34",
   "metadata": {},
   "outputs": [
    {
     "data": {
      "text/plain": [
       "array(['2.0', '4.0', '2.0', ..., '3.0', '3.0', '2.0'], dtype=object)"
      ]
     },
     "execution_count": 9,
     "metadata": {},
     "output_type": "execute_result"
    }
   ],
   "source": [
    "np.where(zil.bathrooms > 6, '7+',zil.bathrooms.astype(str))"
   ]
  },
  {
   "cell_type": "code",
   "execution_count": 10,
   "id": "c6b8b804-e982-4a3f-a3de-954e971ff729",
   "metadata": {},
   "outputs": [],
   "source": [
    "trash = zil.copy()\n",
    "zil.bathrooms = np.where(zil.bathrooms > 5, '6+',zil.bathrooms.astype(str))"
   ]
  },
  {
   "cell_type": "code",
   "execution_count": 11,
   "id": "b7ff9a58-7afe-4024-9e84-1e8b92a7c119",
   "metadata": {},
   "outputs": [
    {
     "data": {
      "text/plain": [
       "2.0     24532\n",
       "3.0     11152\n",
       "1.0     10626\n",
       "2.5      3723\n",
       "4.0      2147\n",
       "1.5       793\n",
       "5.0       780\n",
       "3.5       736\n",
       "4.5       506\n",
       "6.0       303\n",
       "5.5       165\n",
       "0.0       140\n",
       "7.0       116\n",
       "8.0        37\n",
       "6.5        30\n",
       "9.0        26\n",
       "7.5        11\n",
       "10.0       11\n",
       "8.5         5\n",
       "11.0        3\n",
       "13.0        1\n",
       "9.5         1\n",
       "20.0        1\n",
       "19.5        1\n",
       "Name: bathrooms, dtype: int64"
      ]
     },
     "execution_count": 11,
     "metadata": {},
     "output_type": "execute_result"
    }
   ],
   "source": [
    "trash.bathrooms.value_counts()"
   ]
  },
  {
   "cell_type": "code",
   "execution_count": 12,
   "id": "b7442534-bec6-4a03-a06c-7eeea2f95b91",
   "metadata": {},
   "outputs": [
    {
     "data": {
      "text/html": [
       "<div>\n",
       "<style scoped>\n",
       "    .dataframe tbody tr th:only-of-type {\n",
       "        vertical-align: middle;\n",
       "    }\n",
       "\n",
       "    .dataframe tbody tr th {\n",
       "        vertical-align: top;\n",
       "    }\n",
       "\n",
       "    .dataframe thead th {\n",
       "        text-align: right;\n",
       "    }\n",
       "</style>\n",
       "<table border=\"1\" class=\"dataframe\">\n",
       "  <thead>\n",
       "    <tr style=\"text-align: right;\">\n",
       "      <th></th>\n",
       "      <th>bedrooms</th>\n",
       "      <th>bathrooms</th>\n",
       "      <th>sq_ft</th>\n",
       "      <th>price</th>\n",
       "    </tr>\n",
       "  </thead>\n",
       "  <tbody>\n",
       "    <tr>\n",
       "      <th>0</th>\n",
       "      <td>4</td>\n",
       "      <td>2.0</td>\n",
       "      <td>3633.0</td>\n",
       "      <td>296425.0</td>\n",
       "    </tr>\n",
       "    <tr>\n",
       "      <th>1</th>\n",
       "      <td>3</td>\n",
       "      <td>4.0</td>\n",
       "      <td>1620.0</td>\n",
       "      <td>847770.0</td>\n",
       "    </tr>\n",
       "    <tr>\n",
       "      <th>2</th>\n",
       "      <td>3</td>\n",
       "      <td>2.0</td>\n",
       "      <td>2077.0</td>\n",
       "      <td>646760.0</td>\n",
       "    </tr>\n",
       "    <tr>\n",
       "      <th>3</th>\n",
       "      <td>0</td>\n",
       "      <td>0.0</td>\n",
       "      <td>1200.0</td>\n",
       "      <td>5328.0</td>\n",
       "    </tr>\n",
       "    <tr>\n",
       "      <th>4</th>\n",
       "      <td>0</td>\n",
       "      <td>0.0</td>\n",
       "      <td>171.0</td>\n",
       "      <td>6920.0</td>\n",
       "    </tr>\n",
       "  </tbody>\n",
       "</table>\n",
       "</div>"
      ],
      "text/plain": [
       "  bedrooms bathrooms   sq_ft     price\n",
       "0        4       2.0  3633.0  296425.0\n",
       "1        3       4.0  1620.0  847770.0\n",
       "2        3       2.0  2077.0  646760.0\n",
       "3        0       0.0  1200.0    5328.0\n",
       "4        0       0.0   171.0    6920.0"
      ]
     },
     "execution_count": 12,
     "metadata": {},
     "output_type": "execute_result"
    }
   ],
   "source": [
    "zil.head()"
   ]
  },
  {
   "cell_type": "code",
   "execution_count": 13,
   "id": "5d02cba2-b955-4c88-9fc8-ca11940b39c9",
   "metadata": {},
   "outputs": [
    {
     "data": {
      "text/plain": [
       "3289     30166843.0\n",
       "10554    22843125.0\n",
       "24592    19129816.0\n",
       "13920    18782125.0\n",
       "35403    17170000.0\n",
       "35324    14721125.0\n",
       "7821     14563303.0\n",
       "13918    13243244.0\n",
       "46198    12698505.0\n",
       "25452    12228491.0\n",
       "20168    11962714.0\n",
       "24685    11904874.0\n",
       "31982    11689668.0\n",
       "29174    11517922.0\n",
       "21385    11378863.0\n",
       "13919    10904781.0\n",
       "30828    10358901.0\n",
       "9777     10000000.0\n",
       "44373     9841049.0\n",
       "3294      9496841.0\n",
       "Name: price, dtype: float64"
      ]
     },
     "execution_count": 13,
     "metadata": {},
     "output_type": "execute_result"
    }
   ],
   "source": [
    "zil.price.sort_values(ascending=False)[:20]"
   ]
  },
  {
   "cell_type": "code",
   "execution_count": 14,
   "id": "be9bd2a6-b1ba-4632-9c8d-d92522cda65c",
   "metadata": {},
   "outputs": [
    {
     "data": {
      "text/plain": [
       "0.9888264154997672"
      ]
     },
     "execution_count": 14,
     "metadata": {},
     "output_type": "execute_result"
    }
   ],
   "source": [
    "len(zil[zil.price < 2_500_000])/len(zil)"
   ]
  },
  {
   "cell_type": "code",
   "execution_count": 15,
   "id": "94ca760a-1203-4599-ac00-22845dc92dc7",
   "metadata": {},
   "outputs": [],
   "source": [
    "zil = ac.zillow_data()\n",
    "rename = {'bedroomcnt': 'bedrooms',  # Create a dictionary for new column names\n",
    "            'bathroomcnt': 'bathrooms',\n",
    "              'calculatedfinishedsquarefeet': 'sq_ft',\n",
    "              'taxvaluedollarcnt': 'price'}\n",
    "zil = zil.rename(columns=rename)  # Rename colums using dictionary"
   ]
  },
  {
   "cell_type": "code",
   "execution_count": 16,
   "id": "7bafbfc6-4288-4ff2-b0fe-c2b7ac6d4bf4",
   "metadata": {},
   "outputs": [],
   "source": [
    "zil = zil[zil.price < 2_500_000]"
   ]
  },
  {
   "cell_type": "code",
   "execution_count": 17,
   "id": "dd43d02e-88ea-449b-b99c-092b85246635",
   "metadata": {},
   "outputs": [],
   "source": [
    "zil = ac.zillow_data()\n",
    "zil = prep.prep_zillow(zil)"
   ]
  },
  {
   "cell_type": "code",
   "execution_count": 18,
   "id": "1dfc31c3-6671-46d4-9b95-5d834e0efb31",
   "metadata": {},
   "outputs": [
    {
     "data": {
      "text/html": [
       "<div>\n",
       "<style scoped>\n",
       "    .dataframe tbody tr th:only-of-type {\n",
       "        vertical-align: middle;\n",
       "    }\n",
       "\n",
       "    .dataframe tbody tr th {\n",
       "        vertical-align: top;\n",
       "    }\n",
       "\n",
       "    .dataframe thead th {\n",
       "        text-align: right;\n",
       "    }\n",
       "</style>\n",
       "<table border=\"1\" class=\"dataframe\">\n",
       "  <thead>\n",
       "    <tr style=\"text-align: right;\">\n",
       "      <th></th>\n",
       "      <th>bedrooms</th>\n",
       "      <th>bathrooms</th>\n",
       "      <th>sq_ft</th>\n",
       "      <th>price</th>\n",
       "    </tr>\n",
       "  </thead>\n",
       "  <tbody>\n",
       "    <tr>\n",
       "      <th>0</th>\n",
       "      <td>4</td>\n",
       "      <td>2.0</td>\n",
       "      <td>3633.0</td>\n",
       "      <td>296425.0</td>\n",
       "    </tr>\n",
       "    <tr>\n",
       "      <th>1</th>\n",
       "      <td>3</td>\n",
       "      <td>4.0</td>\n",
       "      <td>1620.0</td>\n",
       "      <td>847770.0</td>\n",
       "    </tr>\n",
       "    <tr>\n",
       "      <th>2</th>\n",
       "      <td>3</td>\n",
       "      <td>2.0</td>\n",
       "      <td>2077.0</td>\n",
       "      <td>646760.0</td>\n",
       "    </tr>\n",
       "    <tr>\n",
       "      <th>3</th>\n",
       "      <td>0</td>\n",
       "      <td>0.0</td>\n",
       "      <td>1200.0</td>\n",
       "      <td>5328.0</td>\n",
       "    </tr>\n",
       "    <tr>\n",
       "      <th>4</th>\n",
       "      <td>0</td>\n",
       "      <td>0.0</td>\n",
       "      <td>171.0</td>\n",
       "      <td>6920.0</td>\n",
       "    </tr>\n",
       "  </tbody>\n",
       "</table>\n",
       "</div>"
      ],
      "text/plain": [
       "   bedrooms  bathrooms   sq_ft     price\n",
       "0         4        2.0  3633.0  296425.0\n",
       "1         3        4.0  1620.0  847770.0\n",
       "2         3        2.0  2077.0  646760.0\n",
       "3         0        0.0  1200.0    5328.0\n",
       "4         0        0.0   171.0    6920.0"
      ]
     },
     "execution_count": 18,
     "metadata": {},
     "output_type": "execute_result"
    }
   ],
   "source": [
    "zil.head()"
   ]
  },
  {
   "cell_type": "code",
   "execution_count": 19,
   "id": "1887c8e5-604f-45a6-95ec-f98a51f847df",
   "metadata": {},
   "outputs": [],
   "source": [
    "zil, val, test = prep.train_val_test(zil)"
   ]
  },
  {
   "cell_type": "code",
   "execution_count": 20,
   "id": "fd16fe9d-02e8-4269-989c-a12563280b06",
   "metadata": {},
   "outputs": [
    {
     "data": {
      "text/plain": [
       "((39013, 4), (8360, 4), (8360, 4))"
      ]
     },
     "execution_count": 20,
     "metadata": {},
     "output_type": "execute_result"
    }
   ],
   "source": [
    "zil.shape, val.shape, test.shape"
   ]
  },
  {
   "cell_type": "markdown",
   "id": "e58413d9-0760-4965-b71e-1feafa2c9c58",
   "metadata": {},
   "source": [
    "# SECOND TRY"
   ]
  },
  {
   "cell_type": "code",
   "execution_count": 21,
   "id": "1b292c39-95bb-42ea-adcb-5b17f4c23d5f",
   "metadata": {},
   "outputs": [],
   "source": [
    "zil = ac.zillow_data()"
   ]
  },
  {
   "cell_type": "code",
   "execution_count": 22,
   "id": "71360a69-2575-4cf2-b5c4-250944c45c25",
   "metadata": {},
   "outputs": [],
   "source": [
    "zil = prep.prep_zillow(zil, mvp=False)"
   ]
  },
  {
   "cell_type": "code",
   "execution_count": 23,
   "id": "e93a6606-1310-4418-8559-a198b96a84d4",
   "metadata": {},
   "outputs": [
    {
     "data": {
      "text/plain": [
       "bedrooms       int64\n",
       "bathrooms    float64\n",
       "sq_ft        float64\n",
       "price        float64\n",
       "dtype: object"
      ]
     },
     "execution_count": 23,
     "metadata": {},
     "output_type": "execute_result"
    }
   ],
   "source": [
    "zil.dtypes"
   ]
  },
  {
   "cell_type": "code",
   "execution_count": 24,
   "id": "3454db50-9dee-4de9-af07-aa9b47838dbf",
   "metadata": {},
   "outputs": [
    {
     "data": {
      "text/html": [
       "<div>\n",
       "<style scoped>\n",
       "    .dataframe tbody tr th:only-of-type {\n",
       "        vertical-align: middle;\n",
       "    }\n",
       "\n",
       "    .dataframe tbody tr th {\n",
       "        vertical-align: top;\n",
       "    }\n",
       "\n",
       "    .dataframe thead th {\n",
       "        text-align: right;\n",
       "    }\n",
       "</style>\n",
       "<table border=\"1\" class=\"dataframe\">\n",
       "  <thead>\n",
       "    <tr style=\"text-align: right;\">\n",
       "      <th></th>\n",
       "      <th>bedrooms</th>\n",
       "      <th>bathrooms</th>\n",
       "      <th>sq_ft</th>\n",
       "      <th>price</th>\n",
       "    </tr>\n",
       "  </thead>\n",
       "  <tbody>\n",
       "    <tr>\n",
       "      <th>0</th>\n",
       "      <td>4</td>\n",
       "      <td>2.0</td>\n",
       "      <td>3633.0</td>\n",
       "      <td>296425.0</td>\n",
       "    </tr>\n",
       "    <tr>\n",
       "      <th>1</th>\n",
       "      <td>3</td>\n",
       "      <td>4.0</td>\n",
       "      <td>1620.0</td>\n",
       "      <td>847770.0</td>\n",
       "    </tr>\n",
       "    <tr>\n",
       "      <th>2</th>\n",
       "      <td>3</td>\n",
       "      <td>2.0</td>\n",
       "      <td>2077.0</td>\n",
       "      <td>646760.0</td>\n",
       "    </tr>\n",
       "    <tr>\n",
       "      <th>3</th>\n",
       "      <td>0</td>\n",
       "      <td>0.0</td>\n",
       "      <td>1200.0</td>\n",
       "      <td>5328.0</td>\n",
       "    </tr>\n",
       "    <tr>\n",
       "      <th>4</th>\n",
       "      <td>0</td>\n",
       "      <td>0.0</td>\n",
       "      <td>171.0</td>\n",
       "      <td>6920.0</td>\n",
       "    </tr>\n",
       "  </tbody>\n",
       "</table>\n",
       "</div>"
      ],
      "text/plain": [
       "   bedrooms  bathrooms   sq_ft     price\n",
       "0         4        2.0  3633.0  296425.0\n",
       "1         3        4.0  1620.0  847770.0\n",
       "2         3        2.0  2077.0  646760.0\n",
       "3         0        0.0  1200.0    5328.0\n",
       "4         0        0.0   171.0    6920.0"
      ]
     },
     "execution_count": 24,
     "metadata": {},
     "output_type": "execute_result"
    }
   ],
   "source": [
    "zil.head()"
   ]
  },
  {
   "cell_type": "code",
   "execution_count": 25,
   "id": "06a5715f-0d48-40bb-be22-b308f589562c",
   "metadata": {},
   "outputs": [
    {
     "data": {
      "text/plain": [
       "3    25013\n",
       "4    16572\n",
       "2     8739\n",
       "5     3946\n",
       "6      626\n",
       "1      587\n",
       "0      131\n",
       "7      119\n",
       "Name: bedrooms, dtype: int64"
      ]
     },
     "execution_count": 25,
     "metadata": {},
     "output_type": "execute_result"
    }
   ],
   "source": [
    "zil.bedrooms.value_counts()"
   ]
  },
  {
   "cell_type": "code",
   "execution_count": 26,
   "id": "549e32f9-550b-49ce-93c1-459b82ddb0a4",
   "metadata": {},
   "outputs": [
    {
     "data": {
      "text/plain": [
       "2.0    24532\n",
       "3.0    11151\n",
       "1.0    10626\n",
       "2.5     3723\n",
       "4.0     2144\n",
       "1.5      792\n",
       "5.0      775\n",
       "3.5      736\n",
       "4.5      505\n",
       "6.0      293\n",
       "5.5      164\n",
       "7.0      154\n",
       "0.0      138\n",
       "Name: bathrooms, dtype: int64"
      ]
     },
     "execution_count": 26,
     "metadata": {},
     "output_type": "execute_result"
    }
   ],
   "source": [
    "zil.bathrooms.value_counts()"
   ]
  },
  {
   "cell_type": "code",
   "execution_count": 27,
   "id": "4ecd9db3-5a31-4386-8cf1-c0c5aff1badd",
   "metadata": {},
   "outputs": [],
   "source": [
    "train, val, test = prep.scale(zil, scaled_cols=['bedrooms', 'bathrooms', 'sq_ft'])"
   ]
  },
  {
   "cell_type": "code",
   "execution_count": 28,
   "id": "addb2ebd-e8c4-4c0b-a841-197d2684ce41",
   "metadata": {},
   "outputs": [
    {
     "data": {
      "text/html": [
       "<div>\n",
       "<style scoped>\n",
       "    .dataframe tbody tr th:only-of-type {\n",
       "        vertical-align: middle;\n",
       "    }\n",
       "\n",
       "    .dataframe tbody tr th {\n",
       "        vertical-align: top;\n",
       "    }\n",
       "\n",
       "    .dataframe thead th {\n",
       "        text-align: right;\n",
       "    }\n",
       "</style>\n",
       "<table border=\"1\" class=\"dataframe\">\n",
       "  <thead>\n",
       "    <tr style=\"text-align: right;\">\n",
       "      <th></th>\n",
       "      <th>bedrooms</th>\n",
       "      <th>bathrooms</th>\n",
       "      <th>sq_ft</th>\n",
       "      <th>price</th>\n",
       "    </tr>\n",
       "  </thead>\n",
       "  <tbody>\n",
       "    <tr>\n",
       "      <th>13867</th>\n",
       "      <td>0.285714</td>\n",
       "      <td>0.142857</td>\n",
       "      <td>0.174067</td>\n",
       "      <td>404049.0</td>\n",
       "    </tr>\n",
       "    <tr>\n",
       "      <th>20306</th>\n",
       "      <td>0.428571</td>\n",
       "      <td>0.285714</td>\n",
       "      <td>0.167236</td>\n",
       "      <td>538982.0</td>\n",
       "    </tr>\n",
       "    <tr>\n",
       "      <th>48331</th>\n",
       "      <td>0.285714</td>\n",
       "      <td>0.142857</td>\n",
       "      <td>0.146237</td>\n",
       "      <td>360751.0</td>\n",
       "    </tr>\n",
       "    <tr>\n",
       "      <th>13416</th>\n",
       "      <td>0.285714</td>\n",
       "      <td>0.142857</td>\n",
       "      <td>0.091335</td>\n",
       "      <td>176663.0</td>\n",
       "    </tr>\n",
       "    <tr>\n",
       "      <th>2951</th>\n",
       "      <td>0.571429</td>\n",
       "      <td>0.428571</td>\n",
       "      <td>0.355218</td>\n",
       "      <td>3113999.0</td>\n",
       "    </tr>\n",
       "  </tbody>\n",
       "</table>\n",
       "</div>"
      ],
      "text/plain": [
       "       bedrooms  bathrooms     sq_ft      price\n",
       "13867  0.285714   0.142857  0.174067   404049.0\n",
       "20306  0.428571   0.285714  0.167236   538982.0\n",
       "48331  0.285714   0.142857  0.146237   360751.0\n",
       "13416  0.285714   0.142857  0.091335   176663.0\n",
       "2951   0.571429   0.428571  0.355218  3113999.0"
      ]
     },
     "execution_count": 28,
     "metadata": {},
     "output_type": "execute_result"
    }
   ],
   "source": [
    "train.head()"
   ]
  },
  {
   "cell_type": "markdown",
   "id": "178b0190-922a-4563-ad5c-44426a0059d4",
   "metadata": {},
   "source": [
    "# Advanced Prepare"
   ]
  },
  {
   "cell_type": "code",
   "execution_count": 29,
   "id": "e0b329e3-8e2d-465e-b26d-743f91e0571b",
   "metadata": {},
   "outputs": [],
   "source": [
    "zil = ac.zillow_data(True)"
   ]
  },
  {
   "cell_type": "code",
   "execution_count": 32,
   "id": "a1722725-e878-46ba-a9fb-9fe43d7b90bc",
   "metadata": {},
   "outputs": [
    {
     "data": {
      "text/plain": [
       "bedroomcnt                          0\n",
       "bathroomcnt                         0\n",
       "calculatedfinishedsquarefeet      231\n",
       "taxvaluedollarcnt                   8\n",
       "poolcnt                         45128\n",
       "garagecarcnt                    37832\n",
       "fireplacecnt                    48448\n",
       "fips                                0\n",
       "yearbuilt                         249\n",
       "numberofstories                 40586\n",
       "lotsizesquarefeet                 350\n",
       "dtype: int64"
      ]
     },
     "execution_count": 32,
     "metadata": {},
     "output_type": "execute_result"
    }
   ],
   "source": [
    "zil.isna().sum()"
   ]
  },
  {
   "cell_type": "code",
   "execution_count": 30,
   "id": "030da8db-74cf-4be7-84da-20588e230d5a",
   "metadata": {},
   "outputs": [
    {
     "data": {
      "text/html": [
       "<div>\n",
       "<style scoped>\n",
       "    .dataframe tbody tr th:only-of-type {\n",
       "        vertical-align: middle;\n",
       "    }\n",
       "\n",
       "    .dataframe tbody tr th {\n",
       "        vertical-align: top;\n",
       "    }\n",
       "\n",
       "    .dataframe thead th {\n",
       "        text-align: right;\n",
       "    }\n",
       "</style>\n",
       "<table border=\"1\" class=\"dataframe\">\n",
       "  <thead>\n",
       "    <tr style=\"text-align: right;\">\n",
       "      <th></th>\n",
       "      <th>bedroomcnt</th>\n",
       "      <th>bathroomcnt</th>\n",
       "      <th>calculatedfinishedsquarefeet</th>\n",
       "      <th>taxvaluedollarcnt</th>\n",
       "      <th>poolcnt</th>\n",
       "      <th>garagecarcnt</th>\n",
       "      <th>fireplacecnt</th>\n",
       "      <th>fips</th>\n",
       "      <th>yearbuilt</th>\n",
       "      <th>numberofstories</th>\n",
       "      <th>lotsizesquarefeet</th>\n",
       "    </tr>\n",
       "  </thead>\n",
       "  <tbody>\n",
       "    <tr>\n",
       "      <th>0</th>\n",
       "      <td>0.0</td>\n",
       "      <td>0.0</td>\n",
       "      <td>NaN</td>\n",
       "      <td>27516.0</td>\n",
       "      <td>NaN</td>\n",
       "      <td>NaN</td>\n",
       "      <td>NaN</td>\n",
       "      <td>6037.0</td>\n",
       "      <td>NaN</td>\n",
       "      <td>NaN</td>\n",
       "      <td>4083.0</td>\n",
       "    </tr>\n",
       "    <tr>\n",
       "      <th>1</th>\n",
       "      <td>0.0</td>\n",
       "      <td>0.0</td>\n",
       "      <td>NaN</td>\n",
       "      <td>10.0</td>\n",
       "      <td>NaN</td>\n",
       "      <td>NaN</td>\n",
       "      <td>NaN</td>\n",
       "      <td>6037.0</td>\n",
       "      <td>NaN</td>\n",
       "      <td>NaN</td>\n",
       "      <td>11975.0</td>\n",
       "    </tr>\n",
       "    <tr>\n",
       "      <th>2</th>\n",
       "      <td>0.0</td>\n",
       "      <td>0.0</td>\n",
       "      <td>NaN</td>\n",
       "      <td>10.0</td>\n",
       "      <td>NaN</td>\n",
       "      <td>NaN</td>\n",
       "      <td>NaN</td>\n",
       "      <td>6037.0</td>\n",
       "      <td>NaN</td>\n",
       "      <td>NaN</td>\n",
       "      <td>9403.0</td>\n",
       "    </tr>\n",
       "    <tr>\n",
       "      <th>3</th>\n",
       "      <td>0.0</td>\n",
       "      <td>0.0</td>\n",
       "      <td>NaN</td>\n",
       "      <td>2108.0</td>\n",
       "      <td>NaN</td>\n",
       "      <td>NaN</td>\n",
       "      <td>NaN</td>\n",
       "      <td>6037.0</td>\n",
       "      <td>NaN</td>\n",
       "      <td>NaN</td>\n",
       "      <td>3817.0</td>\n",
       "    </tr>\n",
       "    <tr>\n",
       "      <th>4</th>\n",
       "      <td>4.0</td>\n",
       "      <td>2.0</td>\n",
       "      <td>3633.0</td>\n",
       "      <td>296425.0</td>\n",
       "      <td>NaN</td>\n",
       "      <td>NaN</td>\n",
       "      <td>NaN</td>\n",
       "      <td>6037.0</td>\n",
       "      <td>2005.0</td>\n",
       "      <td>NaN</td>\n",
       "      <td>9826.0</td>\n",
       "    </tr>\n",
       "  </tbody>\n",
       "</table>\n",
       "</div>"
      ],
      "text/plain": [
       "   bedroomcnt  bathroomcnt  calculatedfinishedsquarefeet  taxvaluedollarcnt  \\\n",
       "0         0.0          0.0                           NaN            27516.0   \n",
       "1         0.0          0.0                           NaN               10.0   \n",
       "2         0.0          0.0                           NaN               10.0   \n",
       "3         0.0          0.0                           NaN             2108.0   \n",
       "4         4.0          2.0                        3633.0           296425.0   \n",
       "\n",
       "   poolcnt  garagecarcnt  fireplacecnt    fips  yearbuilt  numberofstories  \\\n",
       "0      NaN           NaN           NaN  6037.0        NaN              NaN   \n",
       "1      NaN           NaN           NaN  6037.0        NaN              NaN   \n",
       "2      NaN           NaN           NaN  6037.0        NaN              NaN   \n",
       "3      NaN           NaN           NaN  6037.0        NaN              NaN   \n",
       "4      NaN           NaN           NaN  6037.0     2005.0              NaN   \n",
       "\n",
       "   lotsizesquarefeet  \n",
       "0             4083.0  \n",
       "1            11975.0  \n",
       "2             9403.0  \n",
       "3             3817.0  \n",
       "4             9826.0  "
      ]
     },
     "execution_count": 30,
     "metadata": {},
     "output_type": "execute_result"
    }
   ],
   "source": [
    "zil.head()"
   ]
  },
  {
   "cell_type": "code",
   "execution_count": 34,
   "id": "e25df93a-a5cf-40f2-9979-047677501dcd",
   "metadata": {},
   "outputs": [],
   "source": [
    "from sklearn.impute import SimpleImputer\n"
   ]
  },
  {
   "cell_type": "code",
   "execution_count": 39,
   "id": "2d1d4700-297b-4c9a-a57a-f1c6b7168e7c",
   "metadata": {},
   "outputs": [],
   "source": [
    "imputer = SimpleImputer(strategy='constant', fill_value=0)\n",
    "imputer.fit(zil[['poolcnt']])\n",
    "zil['poolcnt'] = imputer.transform(zil[['poolcnt']])"
   ]
  },
  {
   "cell_type": "code",
   "execution_count": 40,
   "id": "1e5dd75f-e3f0-4631-9666-b7b6546e1c59",
   "metadata": {},
   "outputs": [
    {
     "data": {
      "text/html": [
       "<div>\n",
       "<style scoped>\n",
       "    .dataframe tbody tr th:only-of-type {\n",
       "        vertical-align: middle;\n",
       "    }\n",
       "\n",
       "    .dataframe tbody tr th {\n",
       "        vertical-align: top;\n",
       "    }\n",
       "\n",
       "    .dataframe thead th {\n",
       "        text-align: right;\n",
       "    }\n",
       "</style>\n",
       "<table border=\"1\" class=\"dataframe\">\n",
       "  <thead>\n",
       "    <tr style=\"text-align: right;\">\n",
       "      <th></th>\n",
       "      <th>bedroomcnt</th>\n",
       "      <th>bathroomcnt</th>\n",
       "      <th>calculatedfinishedsquarefeet</th>\n",
       "      <th>taxvaluedollarcnt</th>\n",
       "      <th>poolcnt</th>\n",
       "      <th>garagecarcnt</th>\n",
       "      <th>fireplacecnt</th>\n",
       "      <th>fips</th>\n",
       "      <th>yearbuilt</th>\n",
       "      <th>numberofstories</th>\n",
       "      <th>lotsizesquarefeet</th>\n",
       "    </tr>\n",
       "  </thead>\n",
       "  <tbody>\n",
       "    <tr>\n",
       "      <th>0</th>\n",
       "      <td>0.0</td>\n",
       "      <td>0.0</td>\n",
       "      <td>NaN</td>\n",
       "      <td>27516.0</td>\n",
       "      <td>0.0</td>\n",
       "      <td>NaN</td>\n",
       "      <td>NaN</td>\n",
       "      <td>6037.0</td>\n",
       "      <td>NaN</td>\n",
       "      <td>NaN</td>\n",
       "      <td>4083.0</td>\n",
       "    </tr>\n",
       "    <tr>\n",
       "      <th>1</th>\n",
       "      <td>0.0</td>\n",
       "      <td>0.0</td>\n",
       "      <td>NaN</td>\n",
       "      <td>10.0</td>\n",
       "      <td>0.0</td>\n",
       "      <td>NaN</td>\n",
       "      <td>NaN</td>\n",
       "      <td>6037.0</td>\n",
       "      <td>NaN</td>\n",
       "      <td>NaN</td>\n",
       "      <td>11975.0</td>\n",
       "    </tr>\n",
       "    <tr>\n",
       "      <th>2</th>\n",
       "      <td>0.0</td>\n",
       "      <td>0.0</td>\n",
       "      <td>NaN</td>\n",
       "      <td>10.0</td>\n",
       "      <td>0.0</td>\n",
       "      <td>NaN</td>\n",
       "      <td>NaN</td>\n",
       "      <td>6037.0</td>\n",
       "      <td>NaN</td>\n",
       "      <td>NaN</td>\n",
       "      <td>9403.0</td>\n",
       "    </tr>\n",
       "    <tr>\n",
       "      <th>3</th>\n",
       "      <td>0.0</td>\n",
       "      <td>0.0</td>\n",
       "      <td>NaN</td>\n",
       "      <td>2108.0</td>\n",
       "      <td>0.0</td>\n",
       "      <td>NaN</td>\n",
       "      <td>NaN</td>\n",
       "      <td>6037.0</td>\n",
       "      <td>NaN</td>\n",
       "      <td>NaN</td>\n",
       "      <td>3817.0</td>\n",
       "    </tr>\n",
       "    <tr>\n",
       "      <th>4</th>\n",
       "      <td>4.0</td>\n",
       "      <td>2.0</td>\n",
       "      <td>3633.0</td>\n",
       "      <td>296425.0</td>\n",
       "      <td>0.0</td>\n",
       "      <td>NaN</td>\n",
       "      <td>NaN</td>\n",
       "      <td>6037.0</td>\n",
       "      <td>2005.0</td>\n",
       "      <td>NaN</td>\n",
       "      <td>9826.0</td>\n",
       "    </tr>\n",
       "  </tbody>\n",
       "</table>\n",
       "</div>"
      ],
      "text/plain": [
       "   bedroomcnt  bathroomcnt  calculatedfinishedsquarefeet  taxvaluedollarcnt  \\\n",
       "0         0.0          0.0                           NaN            27516.0   \n",
       "1         0.0          0.0                           NaN               10.0   \n",
       "2         0.0          0.0                           NaN               10.0   \n",
       "3         0.0          0.0                           NaN             2108.0   \n",
       "4         4.0          2.0                        3633.0           296425.0   \n",
       "\n",
       "   poolcnt  garagecarcnt  fireplacecnt    fips  yearbuilt  numberofstories  \\\n",
       "0      0.0           NaN           NaN  6037.0        NaN              NaN   \n",
       "1      0.0           NaN           NaN  6037.0        NaN              NaN   \n",
       "2      0.0           NaN           NaN  6037.0        NaN              NaN   \n",
       "3      0.0           NaN           NaN  6037.0        NaN              NaN   \n",
       "4      0.0           NaN           NaN  6037.0     2005.0              NaN   \n",
       "\n",
       "   lotsizesquarefeet  \n",
       "0             4083.0  \n",
       "1            11975.0  \n",
       "2             9403.0  \n",
       "3             3817.0  \n",
       "4             9826.0  "
      ]
     },
     "execution_count": 40,
     "metadata": {},
     "output_type": "execute_result"
    }
   ],
   "source": [
    "zil.head()"
   ]
  },
  {
   "cell_type": "code",
   "execution_count": 41,
   "id": "df7d4dfa-4e46-48ec-a209-ba2bc2927f00",
   "metadata": {},
   "outputs": [],
   "source": [
    "imputer.fit(zil[['garagecarcnt']])\n",
    "zil['garagecarcnt'] = imputer.transform(zil[['garagecarcnt']])"
   ]
  },
  {
   "cell_type": "code",
   "execution_count": 42,
   "id": "2ae20174-b7db-42c1-86de-8be270d46281",
   "metadata": {},
   "outputs": [],
   "source": [
    "imputer.fit(zil[['fireplacecnt']])\n",
    "zil['fireplacecnt'] = imputer.transform(zil[['fireplacecnt']])"
   ]
  },
  {
   "cell_type": "code",
   "execution_count": 43,
   "id": "5d3180ad-0b37-45f6-8cfe-ee58d99407d2",
   "metadata": {},
   "outputs": [
    {
     "data": {
      "text/html": [
       "<div>\n",
       "<style scoped>\n",
       "    .dataframe tbody tr th:only-of-type {\n",
       "        vertical-align: middle;\n",
       "    }\n",
       "\n",
       "    .dataframe tbody tr th {\n",
       "        vertical-align: top;\n",
       "    }\n",
       "\n",
       "    .dataframe thead th {\n",
       "        text-align: right;\n",
       "    }\n",
       "</style>\n",
       "<table border=\"1\" class=\"dataframe\">\n",
       "  <thead>\n",
       "    <tr style=\"text-align: right;\">\n",
       "      <th></th>\n",
       "      <th>bedroomcnt</th>\n",
       "      <th>bathroomcnt</th>\n",
       "      <th>calculatedfinishedsquarefeet</th>\n",
       "      <th>taxvaluedollarcnt</th>\n",
       "      <th>poolcnt</th>\n",
       "      <th>garagecarcnt</th>\n",
       "      <th>fireplacecnt</th>\n",
       "      <th>fips</th>\n",
       "      <th>yearbuilt</th>\n",
       "      <th>numberofstories</th>\n",
       "      <th>lotsizesquarefeet</th>\n",
       "    </tr>\n",
       "  </thead>\n",
       "  <tbody>\n",
       "    <tr>\n",
       "      <th>0</th>\n",
       "      <td>0.0</td>\n",
       "      <td>0.0</td>\n",
       "      <td>NaN</td>\n",
       "      <td>27516.0</td>\n",
       "      <td>0.0</td>\n",
       "      <td>0.0</td>\n",
       "      <td>0.0</td>\n",
       "      <td>6037.0</td>\n",
       "      <td>NaN</td>\n",
       "      <td>NaN</td>\n",
       "      <td>4083.0</td>\n",
       "    </tr>\n",
       "    <tr>\n",
       "      <th>1</th>\n",
       "      <td>0.0</td>\n",
       "      <td>0.0</td>\n",
       "      <td>NaN</td>\n",
       "      <td>10.0</td>\n",
       "      <td>0.0</td>\n",
       "      <td>0.0</td>\n",
       "      <td>0.0</td>\n",
       "      <td>6037.0</td>\n",
       "      <td>NaN</td>\n",
       "      <td>NaN</td>\n",
       "      <td>11975.0</td>\n",
       "    </tr>\n",
       "    <tr>\n",
       "      <th>2</th>\n",
       "      <td>0.0</td>\n",
       "      <td>0.0</td>\n",
       "      <td>NaN</td>\n",
       "      <td>10.0</td>\n",
       "      <td>0.0</td>\n",
       "      <td>0.0</td>\n",
       "      <td>0.0</td>\n",
       "      <td>6037.0</td>\n",
       "      <td>NaN</td>\n",
       "      <td>NaN</td>\n",
       "      <td>9403.0</td>\n",
       "    </tr>\n",
       "    <tr>\n",
       "      <th>3</th>\n",
       "      <td>0.0</td>\n",
       "      <td>0.0</td>\n",
       "      <td>NaN</td>\n",
       "      <td>2108.0</td>\n",
       "      <td>0.0</td>\n",
       "      <td>0.0</td>\n",
       "      <td>0.0</td>\n",
       "      <td>6037.0</td>\n",
       "      <td>NaN</td>\n",
       "      <td>NaN</td>\n",
       "      <td>3817.0</td>\n",
       "    </tr>\n",
       "    <tr>\n",
       "      <th>4</th>\n",
       "      <td>4.0</td>\n",
       "      <td>2.0</td>\n",
       "      <td>3633.0</td>\n",
       "      <td>296425.0</td>\n",
       "      <td>0.0</td>\n",
       "      <td>0.0</td>\n",
       "      <td>0.0</td>\n",
       "      <td>6037.0</td>\n",
       "      <td>2005.0</td>\n",
       "      <td>NaN</td>\n",
       "      <td>9826.0</td>\n",
       "    </tr>\n",
       "  </tbody>\n",
       "</table>\n",
       "</div>"
      ],
      "text/plain": [
       "   bedroomcnt  bathroomcnt  calculatedfinishedsquarefeet  taxvaluedollarcnt  \\\n",
       "0         0.0          0.0                           NaN            27516.0   \n",
       "1         0.0          0.0                           NaN               10.0   \n",
       "2         0.0          0.0                           NaN               10.0   \n",
       "3         0.0          0.0                           NaN             2108.0   \n",
       "4         4.0          2.0                        3633.0           296425.0   \n",
       "\n",
       "   poolcnt  garagecarcnt  fireplacecnt    fips  yearbuilt  numberofstories  \\\n",
       "0      0.0           0.0           0.0  6037.0        NaN              NaN   \n",
       "1      0.0           0.0           0.0  6037.0        NaN              NaN   \n",
       "2      0.0           0.0           0.0  6037.0        NaN              NaN   \n",
       "3      0.0           0.0           0.0  6037.0        NaN              NaN   \n",
       "4      0.0           0.0           0.0  6037.0     2005.0              NaN   \n",
       "\n",
       "   lotsizesquarefeet  \n",
       "0             4083.0  \n",
       "1            11975.0  \n",
       "2             9403.0  \n",
       "3             3817.0  \n",
       "4             9826.0  "
      ]
     },
     "execution_count": 43,
     "metadata": {},
     "output_type": "execute_result"
    }
   ],
   "source": [
    "zil.head()"
   ]
  },
  {
   "cell_type": "code",
   "execution_count": 44,
   "id": "b96a8c2d-f467-4966-9fc9-ba0f2c646d64",
   "metadata": {},
   "outputs": [
    {
     "data": {
      "text/html": [
       "<div>\n",
       "<style scoped>\n",
       "    .dataframe tbody tr th:only-of-type {\n",
       "        vertical-align: middle;\n",
       "    }\n",
       "\n",
       "    .dataframe tbody tr th {\n",
       "        vertical-align: top;\n",
       "    }\n",
       "\n",
       "    .dataframe thead th {\n",
       "        text-align: right;\n",
       "    }\n",
       "</style>\n",
       "<table border=\"1\" class=\"dataframe\">\n",
       "  <thead>\n",
       "    <tr style=\"text-align: right;\">\n",
       "      <th></th>\n",
       "      <th>bedroomcnt</th>\n",
       "      <th>bathroomcnt</th>\n",
       "      <th>calculatedfinishedsquarefeet</th>\n",
       "      <th>taxvaluedollarcnt</th>\n",
       "      <th>poolcnt</th>\n",
       "      <th>garagecarcnt</th>\n",
       "      <th>fireplacecnt</th>\n",
       "      <th>fips</th>\n",
       "      <th>yearbuilt</th>\n",
       "      <th>numberofstories</th>\n",
       "      <th>lotsizesquarefeet</th>\n",
       "    </tr>\n",
       "  </thead>\n",
       "  <tbody>\n",
       "    <tr>\n",
       "      <th>0</th>\n",
       "      <td>0.0</td>\n",
       "      <td>0.0</td>\n",
       "      <td>NaN</td>\n",
       "      <td>27516.0</td>\n",
       "      <td>0.0</td>\n",
       "      <td>0.0</td>\n",
       "      <td>0.0</td>\n",
       "      <td>6037.0</td>\n",
       "      <td>NaN</td>\n",
       "      <td>NaN</td>\n",
       "      <td>4083.0</td>\n",
       "    </tr>\n",
       "    <tr>\n",
       "      <th>1</th>\n",
       "      <td>0.0</td>\n",
       "      <td>0.0</td>\n",
       "      <td>NaN</td>\n",
       "      <td>10.0</td>\n",
       "      <td>0.0</td>\n",
       "      <td>0.0</td>\n",
       "      <td>0.0</td>\n",
       "      <td>6037.0</td>\n",
       "      <td>NaN</td>\n",
       "      <td>NaN</td>\n",
       "      <td>11975.0</td>\n",
       "    </tr>\n",
       "    <tr>\n",
       "      <th>2</th>\n",
       "      <td>0.0</td>\n",
       "      <td>0.0</td>\n",
       "      <td>NaN</td>\n",
       "      <td>10.0</td>\n",
       "      <td>0.0</td>\n",
       "      <td>0.0</td>\n",
       "      <td>0.0</td>\n",
       "      <td>6037.0</td>\n",
       "      <td>NaN</td>\n",
       "      <td>NaN</td>\n",
       "      <td>9403.0</td>\n",
       "    </tr>\n",
       "    <tr>\n",
       "      <th>3</th>\n",
       "      <td>0.0</td>\n",
       "      <td>0.0</td>\n",
       "      <td>NaN</td>\n",
       "      <td>2108.0</td>\n",
       "      <td>0.0</td>\n",
       "      <td>0.0</td>\n",
       "      <td>0.0</td>\n",
       "      <td>6037.0</td>\n",
       "      <td>NaN</td>\n",
       "      <td>NaN</td>\n",
       "      <td>3817.0</td>\n",
       "    </tr>\n",
       "    <tr>\n",
       "      <th>4</th>\n",
       "      <td>4.0</td>\n",
       "      <td>2.0</td>\n",
       "      <td>3633.0</td>\n",
       "      <td>296425.0</td>\n",
       "      <td>0.0</td>\n",
       "      <td>0.0</td>\n",
       "      <td>0.0</td>\n",
       "      <td>6037.0</td>\n",
       "      <td>2005.0</td>\n",
       "      <td>NaN</td>\n",
       "      <td>9826.0</td>\n",
       "    </tr>\n",
       "  </tbody>\n",
       "</table>\n",
       "</div>"
      ],
      "text/plain": [
       "   bedroomcnt  bathroomcnt  calculatedfinishedsquarefeet  taxvaluedollarcnt  \\\n",
       "0         0.0          0.0                           NaN            27516.0   \n",
       "1         0.0          0.0                           NaN               10.0   \n",
       "2         0.0          0.0                           NaN               10.0   \n",
       "3         0.0          0.0                           NaN             2108.0   \n",
       "4         4.0          2.0                        3633.0           296425.0   \n",
       "\n",
       "   poolcnt  garagecarcnt  fireplacecnt    fips  yearbuilt  numberofstories  \\\n",
       "0      0.0           0.0           0.0  6037.0        NaN              NaN   \n",
       "1      0.0           0.0           0.0  6037.0        NaN              NaN   \n",
       "2      0.0           0.0           0.0  6037.0        NaN              NaN   \n",
       "3      0.0           0.0           0.0  6037.0        NaN              NaN   \n",
       "4      0.0           0.0           0.0  6037.0     2005.0              NaN   \n",
       "\n",
       "   lotsizesquarefeet  \n",
       "0             4083.0  \n",
       "1            11975.0  \n",
       "2             9403.0  \n",
       "3             3817.0  \n",
       "4             9826.0  "
      ]
     },
     "execution_count": 44,
     "metadata": {},
     "output_type": "execute_result"
    }
   ],
   "source": [
    "zil.head()"
   ]
  },
  {
   "cell_type": "code",
   "execution_count": null,
   "id": "8e8f81ae-0592-475c-8d16-3133158bf451",
   "metadata": {},
   "outputs": [],
   "source": []
  }
 ],
 "metadata": {
  "kernelspec": {
   "display_name": "Python 3 (ipykernel)",
   "language": "python",
   "name": "python3"
  },
  "language_info": {
   "codemirror_mode": {
    "name": "ipython",
    "version": 3
   },
   "file_extension": ".py",
   "mimetype": "text/x-python",
   "name": "python",
   "nbconvert_exporter": "python",
   "pygments_lexer": "ipython3",
   "version": "3.10.9"
  }
 },
 "nbformat": 4,
 "nbformat_minor": 5
}
