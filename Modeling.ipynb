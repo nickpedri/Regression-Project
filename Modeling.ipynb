{
 "cells": [
  {
   "cell_type": "markdown",
   "id": "d126e242-2951-4d45-af94-9bc2d1d11092",
   "metadata": {},
   "source": [
    "# Modeling MVP"
   ]
  },
  {
   "cell_type": "markdown",
   "id": "b7de62b6-ad04-4d9d-9d11-388afd8733d8",
   "metadata": {},
   "source": [
    "## Pre-Processing"
   ]
  },
  {
   "cell_type": "code",
   "execution_count": 1,
   "id": "84383fc7-4717-49be-ab53-1f7172fcbd72",
   "metadata": {},
   "outputs": [],
   "source": [
    "import acquire as ac\n",
    "import prepare as prep\n",
    "import evaluate as ev\n",
    "\n",
    "import pandas as pd\n",
    "import numpy as np\n",
    "\n",
    "# For modeling\n",
    "from sklearn.linear_model import LinearRegression, LassoLars, TweedieRegressor\n",
    "from sklearn.preprocessing import PolynomialFeatures\n",
    "\n",
    "from sklearn.ensemble import RandomForestRegressor\n",
    "from xgboost import XGBRegressor"
   ]
  },
  {
   "cell_type": "code",
   "execution_count": 2,
   "id": "fdc1d1c8-e657-4a92-bcdd-540216c12b23",
   "metadata": {},
   "outputs": [],
   "source": [
    "zil = ac.zillow_data()"
   ]
  },
  {
   "cell_type": "code",
   "execution_count": 3,
   "id": "818a3167-9033-4560-819b-5647b7cc83f3",
   "metadata": {},
   "outputs": [
    {
     "data": {
      "text/html": [
       "<div>\n",
       "<style scoped>\n",
       "    .dataframe tbody tr th:only-of-type {\n",
       "        vertical-align: middle;\n",
       "    }\n",
       "\n",
       "    .dataframe tbody tr th {\n",
       "        vertical-align: top;\n",
       "    }\n",
       "\n",
       "    .dataframe thead th {\n",
       "        text-align: right;\n",
       "    }\n",
       "</style>\n",
       "<table border=\"1\" class=\"dataframe\">\n",
       "  <thead>\n",
       "    <tr style=\"text-align: right;\">\n",
       "      <th></th>\n",
       "      <th>bedroomcnt</th>\n",
       "      <th>bathroomcnt</th>\n",
       "      <th>calculatedfinishedsquarefeet</th>\n",
       "      <th>taxvaluedollarcnt</th>\n",
       "    </tr>\n",
       "  </thead>\n",
       "  <tbody>\n",
       "    <tr>\n",
       "      <th>0</th>\n",
       "      <td>4.0</td>\n",
       "      <td>2.0</td>\n",
       "      <td>3633.0</td>\n",
       "      <td>296425.0</td>\n",
       "    </tr>\n",
       "    <tr>\n",
       "      <th>1</th>\n",
       "      <td>3.0</td>\n",
       "      <td>4.0</td>\n",
       "      <td>1620.0</td>\n",
       "      <td>847770.0</td>\n",
       "    </tr>\n",
       "    <tr>\n",
       "      <th>2</th>\n",
       "      <td>3.0</td>\n",
       "      <td>2.0</td>\n",
       "      <td>2077.0</td>\n",
       "      <td>646760.0</td>\n",
       "    </tr>\n",
       "    <tr>\n",
       "      <th>3</th>\n",
       "      <td>0.0</td>\n",
       "      <td>0.0</td>\n",
       "      <td>1200.0</td>\n",
       "      <td>5328.0</td>\n",
       "    </tr>\n",
       "    <tr>\n",
       "      <th>4</th>\n",
       "      <td>0.0</td>\n",
       "      <td>0.0</td>\n",
       "      <td>171.0</td>\n",
       "      <td>6920.0</td>\n",
       "    </tr>\n",
       "  </tbody>\n",
       "</table>\n",
       "</div>"
      ],
      "text/plain": [
       "   bedroomcnt  bathroomcnt  calculatedfinishedsquarefeet  taxvaluedollarcnt\n",
       "0         4.0          2.0                        3633.0           296425.0\n",
       "1         3.0          4.0                        1620.0           847770.0\n",
       "2         3.0          2.0                        2077.0           646760.0\n",
       "3         0.0          0.0                        1200.0             5328.0\n",
       "4         0.0          0.0                         171.0             6920.0"
      ]
     },
     "execution_count": 3,
     "metadata": {},
     "output_type": "execute_result"
    }
   ],
   "source": [
    "zil.head()"
   ]
  },
  {
   "cell_type": "code",
   "execution_count": 4,
   "id": "dd41e45a-217d-4b2c-bb26-070cc64394b0",
   "metadata": {},
   "outputs": [],
   "source": [
    "zil = prep.prep_zillow(zil)"
   ]
  },
  {
   "cell_type": "code",
   "execution_count": 5,
   "id": "3077d2a3-6c65-4f5e-9df8-d8fe06bef582",
   "metadata": {},
   "outputs": [
    {
     "data": {
      "text/plain": [
       "((39013, 4), (8360, 4), (8360, 4))"
      ]
     },
     "execution_count": 5,
     "metadata": {},
     "output_type": "execute_result"
    }
   ],
   "source": [
    "train, val, test = prep.scale(zil)\n",
    "\n",
    "train.shape, val.shape, test.shape"
   ]
  },
  {
   "cell_type": "code",
   "execution_count": 6,
   "id": "aedf934b-0b67-45f6-a81f-98b5fa610d6e",
   "metadata": {},
   "outputs": [
    {
     "data": {
      "text/html": [
       "<div>\n",
       "<style scoped>\n",
       "    .dataframe tbody tr th:only-of-type {\n",
       "        vertical-align: middle;\n",
       "    }\n",
       "\n",
       "    .dataframe tbody tr th {\n",
       "        vertical-align: top;\n",
       "    }\n",
       "\n",
       "    .dataframe thead th {\n",
       "        text-align: right;\n",
       "    }\n",
       "</style>\n",
       "<table border=\"1\" class=\"dataframe\">\n",
       "  <thead>\n",
       "    <tr style=\"text-align: right;\">\n",
       "      <th></th>\n",
       "      <th>bedrooms</th>\n",
       "      <th>bathrooms</th>\n",
       "      <th>sq_ft</th>\n",
       "      <th>price</th>\n",
       "    </tr>\n",
       "  </thead>\n",
       "  <tbody>\n",
       "    <tr>\n",
       "      <th>13867</th>\n",
       "      <td>2</td>\n",
       "      <td>1.0</td>\n",
       "      <td>0.174067</td>\n",
       "      <td>404049.0</td>\n",
       "    </tr>\n",
       "    <tr>\n",
       "      <th>20306</th>\n",
       "      <td>3</td>\n",
       "      <td>2.0</td>\n",
       "      <td>0.167236</td>\n",
       "      <td>538982.0</td>\n",
       "    </tr>\n",
       "    <tr>\n",
       "      <th>48331</th>\n",
       "      <td>2</td>\n",
       "      <td>1.0</td>\n",
       "      <td>0.146237</td>\n",
       "      <td>360751.0</td>\n",
       "    </tr>\n",
       "    <tr>\n",
       "      <th>13416</th>\n",
       "      <td>2</td>\n",
       "      <td>1.0</td>\n",
       "      <td>0.091335</td>\n",
       "      <td>176663.0</td>\n",
       "    </tr>\n",
       "    <tr>\n",
       "      <th>2951</th>\n",
       "      <td>4</td>\n",
       "      <td>3.0</td>\n",
       "      <td>0.355218</td>\n",
       "      <td>3113999.0</td>\n",
       "    </tr>\n",
       "  </tbody>\n",
       "</table>\n",
       "</div>"
      ],
      "text/plain": [
       "       bedrooms  bathrooms     sq_ft      price\n",
       "13867         2        1.0  0.174067   404049.0\n",
       "20306         3        2.0  0.167236   538982.0\n",
       "48331         2        1.0  0.146237   360751.0\n",
       "13416         2        1.0  0.091335   176663.0\n",
       "2951          4        3.0  0.355218  3113999.0"
      ]
     },
     "execution_count": 6,
     "metadata": {},
     "output_type": "execute_result"
    }
   ],
   "source": [
    "train.head()"
   ]
  },
  {
   "cell_type": "code",
   "execution_count": 7,
   "id": "c69c2ff1-2a7b-469c-9e09-c87469e802cd",
   "metadata": {},
   "outputs": [
    {
     "data": {
      "text/html": [
       "<div>\n",
       "<style scoped>\n",
       "    .dataframe tbody tr th:only-of-type {\n",
       "        vertical-align: middle;\n",
       "    }\n",
       "\n",
       "    .dataframe tbody tr th {\n",
       "        vertical-align: top;\n",
       "    }\n",
       "\n",
       "    .dataframe thead th {\n",
       "        text-align: right;\n",
       "    }\n",
       "</style>\n",
       "<table border=\"1\" class=\"dataframe\">\n",
       "  <thead>\n",
       "    <tr style=\"text-align: right;\">\n",
       "      <th></th>\n",
       "      <th>sq_ft</th>\n",
       "      <th>price</th>\n",
       "      <th>bedrooms_0</th>\n",
       "      <th>bedrooms_1</th>\n",
       "      <th>bedrooms_2</th>\n",
       "      <th>bedrooms_3</th>\n",
       "      <th>bedrooms_4</th>\n",
       "      <th>bedrooms_5</th>\n",
       "      <th>bedrooms_6</th>\n",
       "      <th>bedrooms_7</th>\n",
       "      <th>...</th>\n",
       "      <th>bathrooms_2.0</th>\n",
       "      <th>bathrooms_2.5</th>\n",
       "      <th>bathrooms_3.0</th>\n",
       "      <th>bathrooms_3.5</th>\n",
       "      <th>bathrooms_4.0</th>\n",
       "      <th>bathrooms_4.5</th>\n",
       "      <th>bathrooms_5.0</th>\n",
       "      <th>bathrooms_5.5</th>\n",
       "      <th>bathrooms_6.0</th>\n",
       "      <th>bathrooms_7.0</th>\n",
       "    </tr>\n",
       "  </thead>\n",
       "  <tbody>\n",
       "    <tr>\n",
       "      <th>13867</th>\n",
       "      <td>0.174067</td>\n",
       "      <td>404049.0</td>\n",
       "      <td>0</td>\n",
       "      <td>0</td>\n",
       "      <td>1</td>\n",
       "      <td>0</td>\n",
       "      <td>0</td>\n",
       "      <td>0</td>\n",
       "      <td>0</td>\n",
       "      <td>0</td>\n",
       "      <td>...</td>\n",
       "      <td>0</td>\n",
       "      <td>0</td>\n",
       "      <td>0</td>\n",
       "      <td>0</td>\n",
       "      <td>0</td>\n",
       "      <td>0</td>\n",
       "      <td>0</td>\n",
       "      <td>0</td>\n",
       "      <td>0</td>\n",
       "      <td>0</td>\n",
       "    </tr>\n",
       "    <tr>\n",
       "      <th>20306</th>\n",
       "      <td>0.167236</td>\n",
       "      <td>538982.0</td>\n",
       "      <td>0</td>\n",
       "      <td>0</td>\n",
       "      <td>0</td>\n",
       "      <td>1</td>\n",
       "      <td>0</td>\n",
       "      <td>0</td>\n",
       "      <td>0</td>\n",
       "      <td>0</td>\n",
       "      <td>...</td>\n",
       "      <td>1</td>\n",
       "      <td>0</td>\n",
       "      <td>0</td>\n",
       "      <td>0</td>\n",
       "      <td>0</td>\n",
       "      <td>0</td>\n",
       "      <td>0</td>\n",
       "      <td>0</td>\n",
       "      <td>0</td>\n",
       "      <td>0</td>\n",
       "    </tr>\n",
       "    <tr>\n",
       "      <th>48331</th>\n",
       "      <td>0.146237</td>\n",
       "      <td>360751.0</td>\n",
       "      <td>0</td>\n",
       "      <td>0</td>\n",
       "      <td>1</td>\n",
       "      <td>0</td>\n",
       "      <td>0</td>\n",
       "      <td>0</td>\n",
       "      <td>0</td>\n",
       "      <td>0</td>\n",
       "      <td>...</td>\n",
       "      <td>0</td>\n",
       "      <td>0</td>\n",
       "      <td>0</td>\n",
       "      <td>0</td>\n",
       "      <td>0</td>\n",
       "      <td>0</td>\n",
       "      <td>0</td>\n",
       "      <td>0</td>\n",
       "      <td>0</td>\n",
       "      <td>0</td>\n",
       "    </tr>\n",
       "  </tbody>\n",
       "</table>\n",
       "<p>3 rows × 23 columns</p>\n",
       "</div>"
      ],
      "text/plain": [
       "          sq_ft     price  bedrooms_0  bedrooms_1  bedrooms_2  bedrooms_3  \\\n",
       "13867  0.174067  404049.0           0           0           1           0   \n",
       "20306  0.167236  538982.0           0           0           0           1   \n",
       "48331  0.146237  360751.0           0           0           1           0   \n",
       "\n",
       "       bedrooms_4  bedrooms_5  bedrooms_6  bedrooms_7  ...  bathrooms_2.0  \\\n",
       "13867           0           0           0           0  ...              0   \n",
       "20306           0           0           0           0  ...              1   \n",
       "48331           0           0           0           0  ...              0   \n",
       "\n",
       "       bathrooms_2.5  bathrooms_3.0  bathrooms_3.5  bathrooms_4.0  \\\n",
       "13867              0              0              0              0   \n",
       "20306              0              0              0              0   \n",
       "48331              0              0              0              0   \n",
       "\n",
       "       bathrooms_4.5  bathrooms_5.0  bathrooms_5.5  bathrooms_6.0  \\\n",
       "13867              0              0              0              0   \n",
       "20306              0              0              0              0   \n",
       "48331              0              0              0              0   \n",
       "\n",
       "       bathrooms_7.0  \n",
       "13867              0  \n",
       "20306              0  \n",
       "48331              0  \n",
       "\n",
       "[3 rows x 23 columns]"
      ]
     },
     "execution_count": 7,
     "metadata": {},
     "output_type": "execute_result"
    }
   ],
   "source": [
    "pd.get_dummies(train, columns=['bedrooms', 'bathrooms']).head(3)"
   ]
  },
  {
   "cell_type": "code",
   "execution_count": 8,
   "id": "84316976-f29b-49b6-b996-16fe53350f0c",
   "metadata": {},
   "outputs": [],
   "source": [
    "train = pd.get_dummies(train, columns=['bedrooms', 'bathrooms'])\n",
    "val = pd.get_dummies(val, columns=['bedrooms', 'bathrooms'])\n",
    "test = pd.get_dummies(test, columns=['bedrooms', 'bathrooms'])"
   ]
  },
  {
   "cell_type": "code",
   "execution_count": 9,
   "id": "c1a4bd85-876a-4bfe-822d-43095cb05c09",
   "metadata": {},
   "outputs": [
    {
     "data": {
      "text/plain": [
       "((39013, 23), (8360, 23), (8360, 23))"
      ]
     },
     "execution_count": 9,
     "metadata": {},
     "output_type": "execute_result"
    }
   ],
   "source": [
    "train.shape, val.shape, test.shape"
   ]
  },
  {
   "cell_type": "markdown",
   "id": "50f9ff95-8af9-487f-83a6-fb5bb2c19ca6",
   "metadata": {},
   "source": [
    "TO DO:\n",
    "\n",
    "1. Data is split into train val test\n",
    "2. Data is transformed with pd.getdummies\n",
    "3. "
   ]
  },
  {
   "cell_type": "code",
   "execution_count": 10,
   "id": "4087e48a-582e-4334-8e60-4f76810569d6",
   "metadata": {},
   "outputs": [
    {
     "data": {
      "text/html": [
       "<div>\n",
       "<style scoped>\n",
       "    .dataframe tbody tr th:only-of-type {\n",
       "        vertical-align: middle;\n",
       "    }\n",
       "\n",
       "    .dataframe tbody tr th {\n",
       "        vertical-align: top;\n",
       "    }\n",
       "\n",
       "    .dataframe thead th {\n",
       "        text-align: right;\n",
       "    }\n",
       "</style>\n",
       "<table border=\"1\" class=\"dataframe\">\n",
       "  <thead>\n",
       "    <tr style=\"text-align: right;\">\n",
       "      <th></th>\n",
       "      <th>sq_ft</th>\n",
       "      <th>price</th>\n",
       "      <th>bedrooms_0</th>\n",
       "      <th>bedrooms_1</th>\n",
       "      <th>bedrooms_2</th>\n",
       "      <th>bedrooms_3</th>\n",
       "      <th>bedrooms_4</th>\n",
       "      <th>bedrooms_5</th>\n",
       "      <th>bedrooms_6</th>\n",
       "      <th>bedrooms_7</th>\n",
       "      <th>...</th>\n",
       "      <th>bathrooms_2.0</th>\n",
       "      <th>bathrooms_2.5</th>\n",
       "      <th>bathrooms_3.0</th>\n",
       "      <th>bathrooms_3.5</th>\n",
       "      <th>bathrooms_4.0</th>\n",
       "      <th>bathrooms_4.5</th>\n",
       "      <th>bathrooms_5.0</th>\n",
       "      <th>bathrooms_5.5</th>\n",
       "      <th>bathrooms_6.0</th>\n",
       "      <th>bathrooms_7.0</th>\n",
       "    </tr>\n",
       "  </thead>\n",
       "  <tbody>\n",
       "    <tr>\n",
       "      <th>13867</th>\n",
       "      <td>0.174067</td>\n",
       "      <td>404049.0</td>\n",
       "      <td>0</td>\n",
       "      <td>0</td>\n",
       "      <td>1</td>\n",
       "      <td>0</td>\n",
       "      <td>0</td>\n",
       "      <td>0</td>\n",
       "      <td>0</td>\n",
       "      <td>0</td>\n",
       "      <td>...</td>\n",
       "      <td>0</td>\n",
       "      <td>0</td>\n",
       "      <td>0</td>\n",
       "      <td>0</td>\n",
       "      <td>0</td>\n",
       "      <td>0</td>\n",
       "      <td>0</td>\n",
       "      <td>0</td>\n",
       "      <td>0</td>\n",
       "      <td>0</td>\n",
       "    </tr>\n",
       "    <tr>\n",
       "      <th>20306</th>\n",
       "      <td>0.167236</td>\n",
       "      <td>538982.0</td>\n",
       "      <td>0</td>\n",
       "      <td>0</td>\n",
       "      <td>0</td>\n",
       "      <td>1</td>\n",
       "      <td>0</td>\n",
       "      <td>0</td>\n",
       "      <td>0</td>\n",
       "      <td>0</td>\n",
       "      <td>...</td>\n",
       "      <td>1</td>\n",
       "      <td>0</td>\n",
       "      <td>0</td>\n",
       "      <td>0</td>\n",
       "      <td>0</td>\n",
       "      <td>0</td>\n",
       "      <td>0</td>\n",
       "      <td>0</td>\n",
       "      <td>0</td>\n",
       "      <td>0</td>\n",
       "    </tr>\n",
       "    <tr>\n",
       "      <th>48331</th>\n",
       "      <td>0.146237</td>\n",
       "      <td>360751.0</td>\n",
       "      <td>0</td>\n",
       "      <td>0</td>\n",
       "      <td>1</td>\n",
       "      <td>0</td>\n",
       "      <td>0</td>\n",
       "      <td>0</td>\n",
       "      <td>0</td>\n",
       "      <td>0</td>\n",
       "      <td>...</td>\n",
       "      <td>0</td>\n",
       "      <td>0</td>\n",
       "      <td>0</td>\n",
       "      <td>0</td>\n",
       "      <td>0</td>\n",
       "      <td>0</td>\n",
       "      <td>0</td>\n",
       "      <td>0</td>\n",
       "      <td>0</td>\n",
       "      <td>0</td>\n",
       "    </tr>\n",
       "    <tr>\n",
       "      <th>13416</th>\n",
       "      <td>0.091335</td>\n",
       "      <td>176663.0</td>\n",
       "      <td>0</td>\n",
       "      <td>0</td>\n",
       "      <td>1</td>\n",
       "      <td>0</td>\n",
       "      <td>0</td>\n",
       "      <td>0</td>\n",
       "      <td>0</td>\n",
       "      <td>0</td>\n",
       "      <td>...</td>\n",
       "      <td>0</td>\n",
       "      <td>0</td>\n",
       "      <td>0</td>\n",
       "      <td>0</td>\n",
       "      <td>0</td>\n",
       "      <td>0</td>\n",
       "      <td>0</td>\n",
       "      <td>0</td>\n",
       "      <td>0</td>\n",
       "      <td>0</td>\n",
       "    </tr>\n",
       "    <tr>\n",
       "      <th>2951</th>\n",
       "      <td>0.355218</td>\n",
       "      <td>3113999.0</td>\n",
       "      <td>0</td>\n",
       "      <td>0</td>\n",
       "      <td>0</td>\n",
       "      <td>0</td>\n",
       "      <td>1</td>\n",
       "      <td>0</td>\n",
       "      <td>0</td>\n",
       "      <td>0</td>\n",
       "      <td>...</td>\n",
       "      <td>0</td>\n",
       "      <td>0</td>\n",
       "      <td>1</td>\n",
       "      <td>0</td>\n",
       "      <td>0</td>\n",
       "      <td>0</td>\n",
       "      <td>0</td>\n",
       "      <td>0</td>\n",
       "      <td>0</td>\n",
       "      <td>0</td>\n",
       "    </tr>\n",
       "  </tbody>\n",
       "</table>\n",
       "<p>5 rows × 23 columns</p>\n",
       "</div>"
      ],
      "text/plain": [
       "          sq_ft      price  bedrooms_0  bedrooms_1  bedrooms_2  bedrooms_3  \\\n",
       "13867  0.174067   404049.0           0           0           1           0   \n",
       "20306  0.167236   538982.0           0           0           0           1   \n",
       "48331  0.146237   360751.0           0           0           1           0   \n",
       "13416  0.091335   176663.0           0           0           1           0   \n",
       "2951   0.355218  3113999.0           0           0           0           0   \n",
       "\n",
       "       bedrooms_4  bedrooms_5  bedrooms_6  bedrooms_7  ...  bathrooms_2.0  \\\n",
       "13867           0           0           0           0  ...              0   \n",
       "20306           0           0           0           0  ...              1   \n",
       "48331           0           0           0           0  ...              0   \n",
       "13416           0           0           0           0  ...              0   \n",
       "2951            1           0           0           0  ...              0   \n",
       "\n",
       "       bathrooms_2.5  bathrooms_3.0  bathrooms_3.5  bathrooms_4.0  \\\n",
       "13867              0              0              0              0   \n",
       "20306              0              0              0              0   \n",
       "48331              0              0              0              0   \n",
       "13416              0              0              0              0   \n",
       "2951               0              1              0              0   \n",
       "\n",
       "       bathrooms_4.5  bathrooms_5.0  bathrooms_5.5  bathrooms_6.0  \\\n",
       "13867              0              0              0              0   \n",
       "20306              0              0              0              0   \n",
       "48331              0              0              0              0   \n",
       "13416              0              0              0              0   \n",
       "2951               0              0              0              0   \n",
       "\n",
       "       bathrooms_7.0  \n",
       "13867              0  \n",
       "20306              0  \n",
       "48331              0  \n",
       "13416              0  \n",
       "2951               0  \n",
       "\n",
       "[5 rows x 23 columns]"
      ]
     },
     "execution_count": 10,
     "metadata": {},
     "output_type": "execute_result"
    }
   ],
   "source": [
    "train.head()"
   ]
  },
  {
   "cell_type": "code",
   "execution_count": 11,
   "id": "f109fd06-b02f-4802-bc96-b20be09a9503",
   "metadata": {},
   "outputs": [],
   "source": [
    "x_train, y_train = prep.split_xy(train, 'price')\n",
    "x_val, y_val = prep.split_xy(val, 'price')\n",
    "x_test, y_test = prep.split_xy(test, 'price')"
   ]
  },
  {
   "cell_type": "markdown",
   "id": "9deb89c2-6272-43a9-83c7-488cd2c7e033",
   "metadata": {},
   "source": [
    "## Baseline Model"
   ]
  },
  {
   "cell_type": "code",
   "execution_count": 12,
   "id": "dda142c0-e641-4e1d-860e-751f9d81a450",
   "metadata": {},
   "outputs": [],
   "source": [
    "results = pd.DataFrame(y_train).copy()\n",
    "results = ev.baseline(results, 'price')"
   ]
  },
  {
   "cell_type": "code",
   "execution_count": 13,
   "id": "b80223ae-cffa-4bce-98ef-ef746b95545e",
   "metadata": {},
   "outputs": [
    {
     "data": {
      "text/html": [
       "<div>\n",
       "<style scoped>\n",
       "    .dataframe tbody tr th:only-of-type {\n",
       "        vertical-align: middle;\n",
       "    }\n",
       "\n",
       "    .dataframe tbody tr th {\n",
       "        vertical-align: top;\n",
       "    }\n",
       "\n",
       "    .dataframe thead th {\n",
       "        text-align: right;\n",
       "    }\n",
       "</style>\n",
       "<table border=\"1\" class=\"dataframe\">\n",
       "  <thead>\n",
       "    <tr style=\"text-align: right;\">\n",
       "      <th></th>\n",
       "      <th>price</th>\n",
       "      <th>base_median</th>\n",
       "      <th>base_mean</th>\n",
       "    </tr>\n",
       "  </thead>\n",
       "  <tbody>\n",
       "    <tr>\n",
       "      <th>13867</th>\n",
       "      <td>404049.0</td>\n",
       "      <td>327477.0</td>\n",
       "      <td>443516.048907</td>\n",
       "    </tr>\n",
       "    <tr>\n",
       "      <th>20306</th>\n",
       "      <td>538982.0</td>\n",
       "      <td>327477.0</td>\n",
       "      <td>443516.048907</td>\n",
       "    </tr>\n",
       "    <tr>\n",
       "      <th>48331</th>\n",
       "      <td>360751.0</td>\n",
       "      <td>327477.0</td>\n",
       "      <td>443516.048907</td>\n",
       "    </tr>\n",
       "    <tr>\n",
       "      <th>13416</th>\n",
       "      <td>176663.0</td>\n",
       "      <td>327477.0</td>\n",
       "      <td>443516.048907</td>\n",
       "    </tr>\n",
       "    <tr>\n",
       "      <th>2951</th>\n",
       "      <td>3113999.0</td>\n",
       "      <td>327477.0</td>\n",
       "      <td>443516.048907</td>\n",
       "    </tr>\n",
       "  </tbody>\n",
       "</table>\n",
       "</div>"
      ],
      "text/plain": [
       "           price  base_median      base_mean\n",
       "13867   404049.0     327477.0  443516.048907\n",
       "20306   538982.0     327477.0  443516.048907\n",
       "48331   360751.0     327477.0  443516.048907\n",
       "13416   176663.0     327477.0  443516.048907\n",
       "2951   3113999.0     327477.0  443516.048907"
      ]
     },
     "execution_count": 13,
     "metadata": {},
     "output_type": "execute_result"
    }
   ],
   "source": [
    "results.head()"
   ]
  },
  {
   "cell_type": "code",
   "execution_count": 14,
   "id": "a296fcd2-dfba-463f-bc6f-832009dd2bb6",
   "metadata": {},
   "outputs": [],
   "source": [
    "SSE, MSE, RMSE = ev.eval_model(results.price, results.base_median)"
   ]
  },
  {
   "cell_type": "code",
   "execution_count": 15,
   "id": "e7d1ec73-f1eb-462a-8ac7-d35cb462937a",
   "metadata": {},
   "outputs": [
    {
     "data": {
      "text/plain": [
       "\"def eval_model(data, actual='', model=''):\\n     88     df = data.copy\\n---> 89     df['m_res'] = df[model] - df[actual]\\n     90     SSE = (df['m_res'] ** 2).sum()\\n     91     MSE = SSE / len(data)\""
      ]
     },
     "execution_count": 15,
     "metadata": {},
     "output_type": "execute_result"
    }
   ],
   "source": [
    "'''def eval_model(data, actual='', model=''):\n",
    "     88     df = data.copy\n",
    "---> 89     df['m_res'] = df[model] - df[actual]\n",
    "     90     SSE = (df['m_res'] ** 2).sum()\n",
    "     91     MSE = SSE / len(data)'''"
   ]
  },
  {
   "cell_type": "code",
   "execution_count": 16,
   "id": "9abf974b-fa5b-47a3-98e7-bfa7cd8de148",
   "metadata": {},
   "outputs": [
    {
     "data": {
      "text/plain": [
       "(1.043160806276456e+16, 267388000480.98224, 517095.74)"
      ]
     },
     "execution_count": 16,
     "metadata": {},
     "output_type": "execute_result"
    }
   ],
   "source": [
    "SSE, MSE, round(RMSE,2) "
   ]
  },
  {
   "cell_type": "code",
   "execution_count": 17,
   "id": "5f399f81-767c-4495-9768-12557f425e03",
   "metadata": {},
   "outputs": [],
   "source": [
    "SSE, MSE, RMSE = ev.eval_model(results.price, results.base_mean)"
   ]
  },
  {
   "cell_type": "code",
   "execution_count": 18,
   "id": "4398216f-7fb2-4da9-9725-55e288e07c65",
   "metadata": {},
   "outputs": [
    {
     "data": {
      "text/plain": [
       "(9906295642996870.0, 253922939609.7934, 503907.67)"
      ]
     },
     "execution_count": 18,
     "metadata": {},
     "output_type": "execute_result"
    }
   ],
   "source": [
    "SSE, MSE, round(RMSE,2) "
   ]
  },
  {
   "cell_type": "markdown",
   "id": "e379e702-d428-438e-9c11-0af415a2faaf",
   "metadata": {},
   "source": [
    "The better baseline was using the mean which had an RMSE of 500,000. Pretty bad."
   ]
  },
  {
   "cell_type": "code",
   "execution_count": 19,
   "id": "cdb78f7e-f2a0-4b01-8e4e-b50fe696abdb",
   "metadata": {},
   "outputs": [
    {
     "data": {
      "text/plain": [
       "503907.6697270973"
      ]
     },
     "execution_count": 19,
     "metadata": {},
     "output_type": "execute_result"
    }
   ],
   "source": [
    "RMSE"
   ]
  },
  {
   "cell_type": "markdown",
   "id": "eb1929a3-471f-4aaa-a46b-bfbbd54efd23",
   "metadata": {},
   "source": [
    "## Linear Regression"
   ]
  },
  {
   "cell_type": "code",
   "execution_count": 20,
   "id": "553fa784-2189-41e3-8037-19b1ad9a26b8",
   "metadata": {},
   "outputs": [
    {
     "name": "stdout",
     "output_type": "stream",
     "text": [
      "The train RMSE is 379751.97851383884.\n",
      "The validate RMSE is 456022.16743018775.\n"
     ]
    }
   ],
   "source": [
    "lm = LinearRegression()\n",
    "ev.train_model(lm, x_train, y_train, x_val, y_val)"
   ]
  },
  {
   "cell_type": "markdown",
   "id": "ad0b530c-9b7b-4a58-90e0-185064e4c8da",
   "metadata": {},
   "source": [
    "## Lasso Lars"
   ]
  },
  {
   "cell_type": "code",
   "execution_count": 21,
   "id": "84a1c880-2dad-4835-a49f-30ebded18cc5",
   "metadata": {},
   "outputs": [
    {
     "name": "stdout",
     "output_type": "stream",
     "text": [
      "The train RMSE is 379614.5546085301.\n",
      "The validate RMSE is 456234.77070727036.\n"
     ]
    }
   ],
   "source": [
    "ll = LassoLars(alpha=0)\n",
    "ev.train_model(ll, x_train, y_train, x_val, y_val)"
   ]
  },
  {
   "cell_type": "code",
   "execution_count": 22,
   "id": "7f323ac2-91b5-420f-a834-c6fe5eb8ae88",
   "metadata": {},
   "outputs": [
    {
     "name": "stdout",
     "output_type": "stream",
     "text": [
      "The train RMSE is 379614.5641167404.\n",
      "The validate RMSE is 456236.44237606437.\n"
     ]
    }
   ],
   "source": [
    "ll = LassoLars(alpha=1)\n",
    "ev.train_model(ll, x_train, y_train, x_val, y_val)"
   ]
  },
  {
   "cell_type": "markdown",
   "id": "c07d0d3d-90fc-41b6-90a3-fb2087473cac",
   "metadata": {},
   "source": [
    "## PolynomialFeatures"
   ]
  },
  {
   "cell_type": "code",
   "execution_count": 23,
   "id": "f54ec378-f215-46f9-b85a-5b471c083320",
   "metadata": {},
   "outputs": [],
   "source": [
    "poly = PolynomialFeatures()\n",
    "x_train_s = poly.fit_transform(x_train)\n",
    "x_val_s = poly.transform(x_val)"
   ]
  },
  {
   "cell_type": "code",
   "execution_count": 24,
   "id": "11304f2f-4910-4e2c-98e6-9c3dba261d18",
   "metadata": {},
   "outputs": [
    {
     "name": "stdout",
     "output_type": "stream",
     "text": [
      "The train RMSE is 374671.4035410802.\n",
      "The validate RMSE is 450123.0479677399.\n"
     ]
    }
   ],
   "source": [
    "lm = LinearRegression()\n",
    "ev.train_model(lm, x_train_s, y_train, x_val_s, y_val)"
   ]
  },
  {
   "cell_type": "markdown",
   "id": "aec3540e-e97b-4094-adc4-cc19e936b736",
   "metadata": {},
   "source": [
    "## Tweedie"
   ]
  },
  {
   "cell_type": "code",
   "execution_count": 25,
   "id": "b1807cb9-7822-4003-9159-00feff3f027d",
   "metadata": {},
   "outputs": [
    {
     "name": "stdout",
     "output_type": "stream",
     "text": [
      "The train RMSE is 480385.85163921217.\n",
      "The validate RMSE is 552265.5081923254.\n"
     ]
    }
   ],
   "source": [
    "tweedie = TweedieRegressor()\n",
    "\n",
    "ev.train_model(tweedie, x_train_s, y_train, x_val_s, y_val)"
   ]
  },
  {
   "cell_type": "markdown",
   "id": "a8f10bb0-7ca6-444e-8fab-bf6c1fcfad7a",
   "metadata": {},
   "source": [
    "## Random Forest Regressor"
   ]
  },
  {
   "cell_type": "code",
   "execution_count": 26,
   "id": "17713cc4-cd5c-4402-9a52-cfb5a944922a",
   "metadata": {},
   "outputs": [
    {
     "name": "stdout",
     "output_type": "stream",
     "text": [
      "The train RMSE is 233002.17229373613.\n",
      "The validate RMSE is 485586.6178623238.\n",
      "\n",
      "The train RMSE is 234788.1988016254.\n",
      "The validate RMSE is 487244.60506115895.\n"
     ]
    }
   ],
   "source": [
    "rf = RandomForestRegressor()\n",
    "\n",
    "ev.train_model(rf, x_train, y_train, x_val, y_val)\n",
    "print()\n",
    "ev.train_model(rf, x_train_s, y_train, x_val_s, y_val)"
   ]
  },
  {
   "cell_type": "markdown",
   "id": "b0de1c53-3b82-4bf3-8021-26d1f471d07b",
   "metadata": {},
   "source": [
    "## XGBRegressor"
   ]
  },
  {
   "cell_type": "code",
   "execution_count": 47,
   "id": "8a8cf691-dfe0-4ffd-8c9c-0eb0f53cf14b",
   "metadata": {},
   "outputs": [
    {
     "name": "stdout",
     "output_type": "stream",
     "text": [
      "The train RMSE is 264355.33652801154.\n",
      "The validate RMSE is 429345.90345456084.\n"
     ]
    }
   ],
   "source": [
    "xgbr = XGBRegressor()\n",
    "\n",
    "ev.train_model(xgbr, x_train, y_train, x_val, y_val)"
   ]
  },
  {
   "cell_type": "markdown",
   "id": "3cc47314-1de0-4632-b675-c30d77b3ec47",
   "metadata": {},
   "source": [
    "ROUND 1: Conclusions. These models suck. I will try using min maxed data for bathroom and bedroom as numeric."
   ]
  },
  {
   "cell_type": "markdown",
   "id": "02948618-e29e-4dc2-9f05-56e9ad194f20",
   "metadata": {},
   "source": [
    "# Second Try"
   ]
  },
  {
   "cell_type": "code",
   "execution_count": 28,
   "id": "c2fcd5d0-203d-4650-8cf0-6c0eb7fb5d3c",
   "metadata": {},
   "outputs": [],
   "source": [
    "zil = ac.zillow_data()\n",
    "zil = prep.prep_zillow(zil, mvp=True)\n",
    "train, val, test = prep.scale(zil, scaled_cols=['bedrooms', 'bathrooms', 'sq_ft'])\n",
    "\n",
    "x_train, y_train = prep.split_xy(train, 'price')\n",
    "x_val, y_val = prep.split_xy(val, 'price')\n",
    "x_test, y_test = prep.split_xy(test, 'price')"
   ]
  },
  {
   "cell_type": "code",
   "execution_count": 29,
   "id": "5b8a751a-1097-4299-bdb8-8b536bc54ffa",
   "metadata": {},
   "outputs": [
    {
     "name": "stdout",
     "output_type": "stream",
     "text": [
      "The train RMSE is 389752.8517363422.\n",
      "The validate RMSE is 465644.660547253.\n"
     ]
    }
   ],
   "source": [
    "lm = LinearRegression()\n",
    "ev.train_model(lm, x_train, y_train, x_val, y_val)"
   ]
  },
  {
   "cell_type": "code",
   "execution_count": 30,
   "id": "a6e3cf43-a73c-43ea-8831-37f4a5d4f5f7",
   "metadata": {},
   "outputs": [
    {
     "name": "stdout",
     "output_type": "stream",
     "text": [
      "The train RMSE is 389752.8517363422.\n",
      "The validate RMSE is 465644.660547253.\n"
     ]
    }
   ],
   "source": [
    "ll = LassoLars(alpha=0)\n",
    "ev.train_model(ll, x_train, y_train, x_val, y_val)"
   ]
  },
  {
   "cell_type": "code",
   "execution_count": 31,
   "id": "930a434d-e795-49d2-baa5-99dafc5e0800",
   "metadata": {},
   "outputs": [
    {
     "name": "stdout",
     "output_type": "stream",
     "text": [
      "The train RMSE is 389752.8522221678.\n",
      "The validate RMSE is 465645.26573188027.\n"
     ]
    }
   ],
   "source": [
    "ll = LassoLars(alpha=1)\n",
    "ev.train_model(ll, x_train, y_train, x_val, y_val)"
   ]
  },
  {
   "cell_type": "code",
   "execution_count": 32,
   "id": "68b14688-b0f0-4262-800e-72083ce0a605",
   "metadata": {},
   "outputs": [
    {
     "name": "stdout",
     "output_type": "stream",
     "text": [
      "The train RMSE is 376939.4056023681.\n",
      "The validate RMSE is 450083.09070667933.\n"
     ]
    }
   ],
   "source": [
    "poly = PolynomialFeatures()\n",
    "x_train_s = poly.fit_transform(x_train)\n",
    "x_val_s = poly.transform(x_val)\n",
    "\n",
    "lm = LinearRegression()\n",
    "ev.train_model(lm, x_train_s, y_train, x_val_s, y_val)"
   ]
  },
  {
   "cell_type": "code",
   "execution_count": 33,
   "id": "faae6422-1729-4e57-b719-1219ad1d1e25",
   "metadata": {},
   "outputs": [
    {
     "name": "stdout",
     "output_type": "stream",
     "text": [
      "The train RMSE is 491151.14386093384.\n",
      "The validate RMSE is 561782.2861085506.\n"
     ]
    }
   ],
   "source": [
    "tweedie = TweedieRegressor()\n",
    "\n",
    "ev.train_model(tweedie, x_train_s, y_train, x_val_s, y_val)"
   ]
  },
  {
   "cell_type": "code",
   "execution_count": 34,
   "id": "ae4bdb23-6c21-4659-b1af-6351bdf0e615",
   "metadata": {},
   "outputs": [
    {
     "name": "stdout",
     "output_type": "stream",
     "text": [
      "The train RMSE is 369160.3857479571.\n",
      "The validate RMSE is 455338.4519403009.\n",
      "\n",
      "The train RMSE is 364551.19135544065.\n",
      "The validate RMSE is 451754.30070202367.\n"
     ]
    }
   ],
   "source": [
    "rf = RandomForestRegressor(max_depth=5, min_samples_split=5, random_state=100)\n",
    "\n",
    "ev.train_model(rf, x_train, y_train, x_val, y_val)\n",
    "print()\n",
    "ev.train_model(rf, x_train_s, y_train, x_val_s, y_val)"
   ]
  },
  {
   "cell_type": "code",
   "execution_count": 35,
   "id": "479ba471-4d3b-4b62-a350-3db1845ff250",
   "metadata": {},
   "outputs": [
    {
     "name": "stdout",
     "output_type": "stream",
     "text": [
      "The train RMSE is 351683.49763802794.\n",
      "The validate RMSE is 456447.3480018607.\n"
     ]
    }
   ],
   "source": [
    "xgbr = XGBRegressor(max_depth=6, n_estimators=10, random_state=100)\n",
    "\n",
    "ev.train_model(xgbr, x_train, y_train, x_val, y_val)"
   ]
  },
  {
   "cell_type": "markdown",
   "id": "bdd00b8c-5f35-4ae4-8a12-dbd3997b5ed5",
   "metadata": {},
   "source": [
    "TESTING"
   ]
  },
  {
   "cell_type": "code",
   "execution_count": 36,
   "id": "52b21b74-0d99-401d-8438-df6e87309f43",
   "metadata": {},
   "outputs": [],
   "source": [
    "zil = ac.zillow_data()"
   ]
  },
  {
   "cell_type": "code",
   "execution_count": 37,
   "id": "95ac83a2-5933-419c-b30a-f6389c0027a6",
   "metadata": {},
   "outputs": [],
   "source": [
    "rename = {'bedroomcnt': 'bedrooms',  # Create a dictionary for new column names\n",
    "                  'bathroomcnt': 'bathrooms',\n",
    "                  'calculatedfinishedsquarefeet': 'sq_ft',\n",
    "                  'taxvaluedollarcnt': 'price'}\n",
    "zil = zil.rename(columns=rename)  # Rename colums using dictionary"
   ]
  },
  {
   "cell_type": "code",
   "execution_count": 38,
   "id": "638b70bc-609d-4ec7-8693-ec44a9ce6c06",
   "metadata": {},
   "outputs": [],
   "source": [
    "train, val, test = prep.scale(zil, scaled_cols=['bedrooms', 'bathrooms', 'sq_ft'])\n",
    "\n",
    "x_train, y_train = prep.split_xy(train, 'price')\n",
    "x_val, y_val = prep.split_xy(val, 'price')\n",
    "x_test, y_test = prep.split_xy(test, 'price')"
   ]
  },
  {
   "cell_type": "code",
   "execution_count": 39,
   "id": "a6fa9a97-cc4f-4f4f-81b9-b52a816544d4",
   "metadata": {},
   "outputs": [
    {
     "name": "stdout",
     "output_type": "stream",
     "text": [
      "The train RMSE is 448798.8824160345.\n",
      "The validate RMSE is 409499.92646544025.\n"
     ]
    }
   ],
   "source": [
    "lm = LinearRegression()\n",
    "ev.train_model(lm, x_train, y_train, x_val, y_val)"
   ]
  },
  {
   "cell_type": "code",
   "execution_count": 40,
   "id": "e41abde5-fb77-484d-9249-ee6776d80937",
   "metadata": {},
   "outputs": [
    {
     "name": "stdout",
     "output_type": "stream",
     "text": [
      "The train RMSE is 448798.886145746.\n",
      "The validate RMSE is 409499.66675874504.\n"
     ]
    }
   ],
   "source": [
    "ll = LassoLars(alpha=1)\n",
    "ev.train_model(ll, x_train, y_train, x_val, y_val)"
   ]
  },
  {
   "cell_type": "code",
   "execution_count": 41,
   "id": "eba0d32f-d526-4612-a618-2e8cd66d0d41",
   "metadata": {},
   "outputs": [
    {
     "data": {
      "text/html": [
       "<div>\n",
       "<style scoped>\n",
       "    .dataframe tbody tr th:only-of-type {\n",
       "        vertical-align: middle;\n",
       "    }\n",
       "\n",
       "    .dataframe tbody tr th {\n",
       "        vertical-align: top;\n",
       "    }\n",
       "\n",
       "    .dataframe thead th {\n",
       "        text-align: right;\n",
       "    }\n",
       "</style>\n",
       "<table border=\"1\" class=\"dataframe\">\n",
       "  <thead>\n",
       "    <tr style=\"text-align: right;\">\n",
       "      <th></th>\n",
       "      <th>bedrooms</th>\n",
       "      <th>bathrooms</th>\n",
       "      <th>sq_ft</th>\n",
       "    </tr>\n",
       "  </thead>\n",
       "  <tbody>\n",
       "    <tr>\n",
       "      <th>50317</th>\n",
       "      <td>0.20</td>\n",
       "      <td>0.150</td>\n",
       "      <td>0.111596</td>\n",
       "    </tr>\n",
       "    <tr>\n",
       "      <th>45686</th>\n",
       "      <td>0.12</td>\n",
       "      <td>0.050</td>\n",
       "      <td>0.040660</td>\n",
       "    </tr>\n",
       "    <tr>\n",
       "      <th>10067</th>\n",
       "      <td>0.20</td>\n",
       "      <td>0.125</td>\n",
       "      <td>0.104051</td>\n",
       "    </tr>\n",
       "    <tr>\n",
       "      <th>44901</th>\n",
       "      <td>0.16</td>\n",
       "      <td>0.150</td>\n",
       "      <td>0.105619</td>\n",
       "    </tr>\n",
       "    <tr>\n",
       "      <th>1705</th>\n",
       "      <td>0.12</td>\n",
       "      <td>0.100</td>\n",
       "      <td>0.060844</td>\n",
       "    </tr>\n",
       "    <tr>\n",
       "      <th>...</th>\n",
       "      <td>...</td>\n",
       "      <td>...</td>\n",
       "      <td>...</td>\n",
       "    </tr>\n",
       "    <tr>\n",
       "      <th>16304</th>\n",
       "      <td>0.12</td>\n",
       "      <td>0.050</td>\n",
       "      <td>0.047470</td>\n",
       "    </tr>\n",
       "    <tr>\n",
       "      <th>79</th>\n",
       "      <td>0.12</td>\n",
       "      <td>0.100</td>\n",
       "      <td>0.051242</td>\n",
       "    </tr>\n",
       "    <tr>\n",
       "      <th>12119</th>\n",
       "      <td>0.08</td>\n",
       "      <td>0.100</td>\n",
       "      <td>0.080586</td>\n",
       "    </tr>\n",
       "    <tr>\n",
       "      <th>14147</th>\n",
       "      <td>0.08</td>\n",
       "      <td>0.050</td>\n",
       "      <td>0.054279</td>\n",
       "    </tr>\n",
       "    <tr>\n",
       "      <th>38408</th>\n",
       "      <td>0.12</td>\n",
       "      <td>0.050</td>\n",
       "      <td>0.050213</td>\n",
       "    </tr>\n",
       "  </tbody>\n",
       "</table>\n",
       "<p>39092 rows × 3 columns</p>\n",
       "</div>"
      ],
      "text/plain": [
       "       bedrooms  bathrooms     sq_ft\n",
       "50317      0.20      0.150  0.111596\n",
       "45686      0.12      0.050  0.040660\n",
       "10067      0.20      0.125  0.104051\n",
       "44901      0.16      0.150  0.105619\n",
       "1705       0.12      0.100  0.060844\n",
       "...         ...        ...       ...\n",
       "16304      0.12      0.050  0.047470\n",
       "79         0.12      0.100  0.051242\n",
       "12119      0.08      0.100  0.080586\n",
       "14147      0.08      0.050  0.054279\n",
       "38408      0.12      0.050  0.050213\n",
       "\n",
       "[39092 rows x 3 columns]"
      ]
     },
     "execution_count": 41,
     "metadata": {},
     "output_type": "execute_result"
    }
   ],
   "source": [
    "x_train"
   ]
  },
  {
   "cell_type": "code",
   "execution_count": 53,
   "id": "4712a8c5-50e7-482d-9159-fae585031a60",
   "metadata": {},
   "outputs": [],
   "source": [
    "def prep_zillow(df, mvp=True):\n",
    "\n",
    "    \"\"\" This function will take in the zillow dataset and prepare it by renaming the columns, binning some of the\n",
    "    data and removing some of the outliers from the dataset.\"\"\"\n",
    "\n",
    "    if mvp:\n",
    "        zil = df.copy()\n",
    "        rename = {'bedroomcnt': 'bedrooms',  # Create a dictionary for new column names\n",
    "                  'bathroomcnt': 'bathrooms',\n",
    "                  'calculatedfinishedsquarefeet': 'sq_ft',\n",
    "                  'taxvaluedollarcnt': 'price'}\n",
    "        zil = zil.rename(columns=rename)  # Rename colums using dictionary\n",
    "        bed_bins = pd.cut(zil.bedrooms, bins=[-0.5, .5, 1.5, 2.5, 3.5, 4.5, 5.5, 1000],\n",
    "                          labels=[0, 1, 2, 3, 4, 5, 6])\n",
    "        zil.bedrooms = bed_bins.astype(int)\n",
    "        new_baths = np.where(zil.bathrooms > 3, 4, zil.bathrooms)\n",
    "        zil.bathrooms = new_baths\n",
    "        squares = np.where(zil.sq_ft > 4000, 4001, zil.sq_ft)\n",
    "        zil.sq_ft = squares\n",
    "        return zil  # Return zil dataframe"
   ]
  },
  {
   "cell_type": "code",
   "execution_count": 66,
   "id": "22af8091-a253-41d9-b87a-2b35c09829f0",
   "metadata": {},
   "outputs": [],
   "source": [
    "zil = ac.zillow_data()\n",
    "zil = prep_zillow(zil)\n",
    "\n",
    "train, val, test = prep.scale(zil, scaled_cols=['bedrooms', 'bathrooms', 'sq_ft'])\n",
    "# train = train[train.price < 15000_000]\n",
    "\n",
    "x_train, y_train = prep.split_xy(train, 'price')\n",
    "x_val, y_val = prep.split_xy(val, 'price')\n",
    "x_test, y_test = prep.split_xy(test, 'price')"
   ]
  },
  {
   "cell_type": "code",
   "execution_count": 69,
   "id": "3a7adb63-8bf7-4d36-bec7-31e577de7ff0",
   "metadata": {},
   "outputs": [
    {
     "name": "stdout",
     "output_type": "stream",
     "text": [
      "The train RMSE is 437894.69086208945.\n",
      "The validate RMSE is 420180.79140511603.\n"
     ]
    }
   ],
   "source": [
    "xgbr = XGBRegressor()\n",
    "\n",
    "ev.train_model(xgbr, x_train, y_train, x_val, y_val)"
   ]
  },
  {
   "cell_type": "markdown",
   "id": "c4f90a07-4bf9-40f5-aaea-88d0ef6c31f0",
   "metadata": {},
   "source": [
    "# MVP Conclusions"
   ]
  },
  {
   "cell_type": "markdown",
   "id": "c5c790f8-018f-4303-96b5-d84d14c2bc9f",
   "metadata": {},
   "source": [
    "Most models perform about the same. They do better than baseline."
   ]
  },
  {
   "cell_type": "code",
   "execution_count": null,
   "id": "ace2a0f9-6532-4ff2-bd9b-be62d2c8d713",
   "metadata": {},
   "outputs": [],
   "source": []
  }
 ],
 "metadata": {
  "kernelspec": {
   "display_name": "Python 3 (ipykernel)",
   "language": "python",
   "name": "python3"
  },
  "language_info": {
   "codemirror_mode": {
    "name": "ipython",
    "version": 3
   },
   "file_extension": ".py",
   "mimetype": "text/x-python",
   "name": "python",
   "nbconvert_exporter": "python",
   "pygments_lexer": "ipython3",
   "version": "3.10.9"
  }
 },
 "nbformat": 4,
 "nbformat_minor": 5
}
